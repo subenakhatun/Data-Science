{
 "cells": [
  {
   "cell_type": "markdown",
   "id": "c4e06608",
   "metadata": {},
   "source": [
    "Without feature selection, feature engineering, hyper-perameter tuninng just apply multiple linear regression for practices purpose."
   ]
  },
  {
   "cell_type": "markdown",
   "id": "3f5f0e4b",
   "metadata": {},
   "source": [
    "## Multiple Linear Regression\n",
    "Multiple Linear Regression বলতে বোঝায় এমন একটি মডেল, যেখানে আমাদের টার্গেট ভ্যালু বা প্রেডিক্টেড ফলাফল একটি হলেও, সেই টার্গেট ভ্যালুটি অনেকগুলো বৈশিষ্ট্য বা ফিচারের উপর নির্ভর করে। অর্থাৎ, যখন কোনো একটি নির্দিষ্ট ফলাফল (যেমন কারো মেডিকেল খরচ বা পরীক্ষার নম্বর) নির্ধারিত হয় একাধিক বিষয় (যেমন বয়স, ওজন, ইনকাম, শিক্ষা) দ্বারা — তখন আমরা এই সমস্ত ফিচার একত্রে ব্যবহার করে একটি প্রেডিকশন মডেল তৈরি করি। <br>\n",
    "ইন্টারসেপ্ট (Intercept) বলতে বোঝায় টার্গেট কলামের একটি নির্দিষ্ট বা স্থায়ী মান। অর্থাৎ, যদি আমাদের সব ফিচারের মান ০ হয়, তাহলেও মডেল একটি প্রেডিকশন ভ্যালু দিবে — সেটিই হলো ইন্টারসেপ্ট। এটি হলো আমাদের বেসলাইন মান। <br>\n",
    "স্লোপ (Slope) বা কো-ইফিশিয়েন্ট মানে হচ্ছে — প্রতিটি ফিচারের সাথে টার্গেটের সম্পর্ক কতটা। সহজভাবে বললে, একটি ফিচারের মান এক ইউনিট বাড়লে, প্রেডিকশন কতটা বাড়বে বা কমবে, সেটাই স্লোপ দ্বারা বোঝানো হয়। অর্থাৎ, কোনো ফিচারের মান যত বাড়বে, তার ওজন (weight) বা প্রভাব অনুযায়ী প্রেডিকশনেও সেই পরিবর্তনের প্রতিফলন দেখা যাবে।"
   ]
  },
  {
   "cell_type": "markdown",
   "id": "9fb77800",
   "metadata": {},
   "source": [
    "#### Steps:\n",
    "* Datset load\n",
    "* define target and input featurs\n",
    "* train test split\n",
    "* Model train/ make object. fit(traiing dataset)\n",
    "* pridition X-test dataset use\n",
    "* Evaluate (error)\n",
    "* check co-efficent"
   ]
  },
  {
   "cell_type": "code",
   "execution_count": 1,
   "id": "ab9ee3ba",
   "metadata": {},
   "outputs": [],
   "source": [
    "# import all importat libraires\n",
    "import numpy as np\n",
    "import pandas as pd\n",
    "import matplotlib.pyplot as plt\n",
    "import seaborn as sns\n",
    "from sklearn.model_selection import train_test_split\n",
    "from sklearn.linear_model import LinearRegression\n",
    "from sklearn.metrics import mean_squared_error,r2_score"
   ]
  },
  {
   "cell_type": "code",
   "execution_count": null,
   "id": "eaad9e0b",
   "metadata": {},
   "outputs": [],
   "source": []
  }
 ],
 "metadata": {
  "kernelspec": {
   "display_name": "Python 3",
   "language": "python",
   "name": "python3"
  },
  "language_info": {
   "codemirror_mode": {
    "name": "ipython",
    "version": 3
   },
   "file_extension": ".py",
   "mimetype": "text/x-python",
   "name": "python",
   "nbconvert_exporter": "python",
   "pygments_lexer": "ipython3",
   "version": "3.12.1"
  }
 },
 "nbformat": 4,
 "nbformat_minor": 5
}
