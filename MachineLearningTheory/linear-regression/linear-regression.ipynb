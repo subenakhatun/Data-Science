{
 "cells": [
  {
   "cell_type": "markdown",
   "id": "3fc9948c",
   "metadata": {},
   "source": [
    "# Regression কী?\n",
    "Regression হলো একটি Supervised Machine Learning Technique, যেটা ব্যবহার করা হয় এমন সমস্যায় যেখানে আউটপুটটি একটি সংখ্যাগত (numerical/continuous) মান হয়।"
   ]
  },
  {
   "cell_type": "markdown",
   "id": "b55ebec9",
   "metadata": {},
   "source": [
    "# Simple Linear Regression কী?\n",
    "এটি সবচেয়ে সহজ রিগ্রেশন টেকনিক যেখানে:\n",
    "\n",
    "একটি independent variable (X) <br>\n",
    "\n",
    "একটি dependent variable (Y)<br>\n",
    "### লক্ষ্য:\n",
    "X এবং Y এর মধ্যে এমন একটি সরল রেখা (Straight Line) বের করা, যেটা Y-এর মান অনুমান করতে সাহায্য করে।\n",
    "\n",
    "#### Formula:\n",
    "Y=mX+b <br>\n",
    "m = slope (X পরিবর্তনের সাথে Y কত বাড়ছে/কমছে)\n",
    "b = intercept (যখন X = 0, তখন Y এর মান)\n",
    "\n"
   ]
  }
 ],
 "metadata": {
  "language_info": {
   "name": "python"
  }
 },
 "nbformat": 4,
 "nbformat_minor": 5
}
