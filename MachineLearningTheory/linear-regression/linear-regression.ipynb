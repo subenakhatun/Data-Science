{
 "cells": [
  {
   "cell_type": "markdown",
   "id": "3fc9948c",
   "metadata": {},
   "source": [
    "# Regression কী?\n",
    "Regression হলো একটি Supervised Machine Learning Technique, যেটা ব্যবহার করা হয় এমন সমস্যায় যেখানে আউটপুটটি একটি সংখ্যাগত (numerical/continuous) মান হয়।"
   ]
  },
  {
   "cell_type": "markdown",
   "id": "b55ebec9",
   "metadata": {},
   "source": [
    "# Simple Linear Regression কী?\n",
    "এটি সবচেয়ে সহজ রিগ্রেশন টেকনিক যেখানে:\n",
    "\n",
    "একটি independent variable (X) <br>\n",
    "\n",
    "একটি dependent variable (Y)<br>\n",
    "### লক্ষ্য:\n",
    "X এবং Y এর মধ্যে এমন একটি সরল রেখা (Straight Line) বের করা, যেটা Y-এর মান অনুমান করতে সাহায্য করে।\n",
    "\n",
    "#### Formula:\n",
    "Y=mX+b <br>\n",
    "m = slope (X পরিবর্তনের সাথে Y কত বাড়ছে/কমছে)<br>\n",
    "b = intercept (যখন X = 0, তখন Y এর মান)\n",
    "\n",
    "##### এই রেখাটি কিভাবে পাওয়া যায়?\n",
    "এই রেখাটি এমনভাবে নির্ধারণ করা হয়, যাতে prediction error যত কম হয়। Prediction error বোঝার জন্য আমরা ব্যবহার করি Loss Function।\n",
    "\n",
    "##### Loss Function কী?\n",
    "Loss Function হচ্ছে এমন একটি গাণিতিক পদ্ধতি, যা জানায় মডেল কতটা ভুল করছে।\n",
    "* জনপ্রিয় Loss Functions:\n",
    "\n",
    "| নাম                           | মানে                                    |\n",
    "| ----------------------------- | --------------------------------------- |\n",
    "| **MAE** (Mean Absolute Error) | সব error-এর গড় মান                      |\n",
    "| **MSE** (Mean Squared Error)  | সব error-এর বর্গের গড়                   |\n",
    "| **RMSE** (Root MSE)           | MSE-এর বর্গমূল                          |\n",
    "| **R² Score**                  | মডেল কতটা variance ব্যাখ্যা করতে পেরেছে |\n",
    "\n",
    "* Evaluation Metrics কীভাবে ব্যবহার হয়?\n",
    "আমরা Loss Function এবং Evaluation Metrics গুলো ব্যবহার করি:\n",
    "\n",
    "Training শেষে, মডেল কতটা ভাল কাজ করছে তা বোঝার জন্য\n",
    "\n",
    "Testing data এর উপরে performance যাচাই করার জন্য\n",
    "\n",
    "R² Score ও Variance\n",
    "R² (R-squared) বুঝায় মডেল কতটা ভালোভাবে dependent variable-এর variation ব্যাখ্যা করতে পারে।\n",
    "R² =1− SSres/SStot\n",
    "\n",
    "R² মান 1 হলে বোঝায় মডেল একদম perfect,\n",
    "0 হলে বোঝায় মডেল কোনো কাজে আসছে না।\n"
   ]
  },
  {
   "cell_type": "markdown",
   "id": "aab65618",
   "metadata": {},
   "source": [
    "##### House price predition data set : use just linear regression"
   ]
  },
  {
   "cell_type": "code",
   "execution_count": null,
   "metadata": {},
   "outputs": [],
   "source": [
    "# import all necesary library"
   ]
  },
  {
   "cell_type": "code",
   "execution_count": null,
   "metadata": {},
   "outputs": [],
   "source": []
  },
  {
   "cell_type": "code",
   "execution_count": null,
   "metadata": {},
   "outputs": [],
   "source": []
  },
  {
   "cell_type": "code",
   "execution_count": null,
   "metadata": {},
   "outputs": [],
   "source": []
  },
  {
   "cell_type": "code",
   "execution_count": null,
   "metadata": {},
   "outputs": [],
   "source": []
  },
  {
   "cell_type": "code",
   "execution_count": null,
   "metadata": {},
   "outputs": [],
   "source": []
  },
  {
   "cell_type": "code",
   "execution_count": null,
   "metadata": {},
   "outputs": [],
   "source": []
  },
  {
   "cell_type": "code",
   "execution_count": null,
   "metadata": {},
   "outputs": [],
   "source": []
  },
  {
   "cell_type": "code",
   "execution_count": null,
   "metadata": {},
   "outputs": [],
   "source": []
  },
  {
   "cell_type": "code",
   "execution_count": null,
   "metadata": {},
   "outputs": [],
   "source": []
  },
  {
   "cell_type": "code",
   "execution_count": null,
   "metadata": {},
   "outputs": [],
   "source": []
  },
  {
   "cell_type": "code",
   "execution_count": null,
   "metadata": {},
   "outputs": [],
   "source": []
  }
 ],
 "metadata": {
  "kernelspec": {
   "display_name": "Python 3",
   "language": "python",
   "name": "python3"
  },
  "language_info": {
   "name": "python",
   "version": "3.12.1"
  }
 },
 "nbformat": 4,
 "nbformat_minor": 5
}
