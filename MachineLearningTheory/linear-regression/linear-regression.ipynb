{
 "cells": [
  {
   "cell_type": "markdown",
   "id": "3fc9948c",
   "metadata": {},
   "source": [
    "# Regression কী?\n",
    "Regression হলো একটি Supervised Machine Learning Technique, যেটা ব্যবহার করা হয় এমন সমস্যায় যেখানে আউটপুটটি একটি সংখ্যাগত (numerical/continuous) মান হয়।"
   ]
  },
  {
   "cell_type": "markdown",
   "id": "b55ebec9",
   "metadata": {},
   "source": [
    "# Simple Linear Regression কী?\n",
    "এটি সবচেয়ে সহজ রিগ্রেশন টেকনিক যেখানে:\n",
    "\n",
    "একটি independent variable (X) <br>\n",
    "\n",
    "একটি dependent variable (Y)<br>\n",
    "### লক্ষ্য:\n",
    "X এবং Y এর মধ্যে এমন একটি সরল রেখা (Straight Line) বের করা, যেটা Y-এর মান অনুমান করতে সাহায্য করে।\n",
    "\n",
    "#### Formula:\n",
    "Y=mX+b <br>\n",
    "m = slope (X পরিবর্তনের সাথে Y কত বাড়ছে/কমছে)<br>\n",
    "b = intercept (যখন X = 0, তখন Y এর মান)\n",
    "\n",
    "##### এই রেখাটি কিভাবে পাওয়া যায়?\n",
    "এই রেখাটি এমনভাবে নির্ধারণ করা হয়, যাতে prediction error যত কম হয়। Prediction error বোঝার জন্য আমরা ব্যবহার করি Loss Function।\n",
    "\n",
    "##### Loss Function কী?\n",
    "Loss Function হচ্ছে এমন একটি গাণিতিক পদ্ধতি, যা জানায় মডেল কতটা ভুল করছে।\n",
    "* জনপ্রিয় Loss Functions:\n",
    "\n",
    "| নাম                           | মানে                                    |\n",
    "| ----------------------------- | --------------------------------------- |\n",
    "| **MAE** (Mean Absolute Error) | সব error-এর গড় মান                      |\n",
    "| **MSE** (Mean Squared Error)  | সব error-এর বর্গের গড়                   |\n",
    "| **RMSE** (Root MSE)           | MSE-এর বর্গমূল                          |\n",
    "| **R² Score**                  | মডেল কতটা variance ব্যাখ্যা করতে পেরেছে |\n",
    "\n",
    "* Evaluation Metrics কীভাবে ব্যবহার হয়?\n",
    "আমরা Loss Function এবং Evaluation Metrics গুলো ব্যবহার করি:\n",
    "\n",
    "Training শেষে, মডেল কতটা ভাল কাজ করছে তা বোঝার জন্য\n",
    "\n",
    "Testing data এর উপরে performance যাচাই করার জন্য\n",
    "\n",
    "R² Score ও Variance\n",
    "R² (R-squared) বুঝায় মডেল কতটা ভালোভাবে dependent variable-এর variation ব্যাখ্যা করতে পারে।\n",
    "R² =1− SSres/SStot\n",
    "\n",
    "R² মান 1 হলে বোঝায় মডেল একদম perfect,\n",
    "0 হলে বোঝায় মডেল কোনো কাজে আসছে না।\n"
   ]
  },
  {
   "cell_type": "markdown",
   "id": "aab65618",
   "metadata": {},
   "source": [
    "##### House price predition data set : use just linear regression"
   ]
  },
  {
   "cell_type": "code",
   "execution_count": 2,
   "metadata": {},
   "outputs": [],
   "source": [
    "# import all necesary library  \n",
    "import numpy as np\n",
    "import pandas as pd\n",
    "import matplotlib.pyplot as plt"
   ]
  },
  {
   "cell_type": "code",
   "execution_count": 4,
   "metadata": {},
   "outputs": [
    {
     "data": {
      "text/html": [
       "<div>\n",
       "<style scoped>\n",
       "    .dataframe tbody tr th:only-of-type {\n",
       "        vertical-align: middle;\n",
       "    }\n",
       "\n",
       "    .dataframe tbody tr th {\n",
       "        vertical-align: top;\n",
       "    }\n",
       "\n",
       "    .dataframe thead th {\n",
       "        text-align: right;\n",
       "    }\n",
       "</style>\n",
       "<table border=\"1\" class=\"dataframe\">\n",
       "  <thead>\n",
       "    <tr style=\"text-align: right;\">\n",
       "      <th></th>\n",
       "      <th>date</th>\n",
       "      <th>price</th>\n",
       "      <th>bedrooms</th>\n",
       "      <th>bathrooms</th>\n",
       "      <th>sqft_living</th>\n",
       "      <th>sqft_lot</th>\n",
       "      <th>floors</th>\n",
       "      <th>waterfront</th>\n",
       "      <th>view</th>\n",
       "      <th>condition</th>\n",
       "      <th>sqft_above</th>\n",
       "      <th>sqft_basement</th>\n",
       "      <th>yr_built</th>\n",
       "      <th>yr_renovated</th>\n",
       "      <th>street</th>\n",
       "      <th>city</th>\n",
       "      <th>statezip</th>\n",
       "      <th>country</th>\n",
       "    </tr>\n",
       "  </thead>\n",
       "  <tbody>\n",
       "    <tr>\n",
       "      <th>0</th>\n",
       "      <td>2014-05-02 00:00:00</td>\n",
       "      <td>313000.0</td>\n",
       "      <td>3.0</td>\n",
       "      <td>1.5</td>\n",
       "      <td>1340</td>\n",
       "      <td>7912</td>\n",
       "      <td>1.5</td>\n",
       "      <td>0</td>\n",
       "      <td>0</td>\n",
       "      <td>3</td>\n",
       "      <td>1340</td>\n",
       "      <td>0</td>\n",
       "      <td>1955</td>\n",
       "      <td>2005</td>\n",
       "      <td>18810 Densmore Ave N</td>\n",
       "      <td>Shoreline</td>\n",
       "      <td>WA 98133</td>\n",
       "      <td>USA</td>\n",
       "    </tr>\n",
       "    <tr>\n",
       "      <th>1</th>\n",
       "      <td>2014-05-02 00:00:00</td>\n",
       "      <td>2384000.0</td>\n",
       "      <td>5.0</td>\n",
       "      <td>2.5</td>\n",
       "      <td>3650</td>\n",
       "      <td>9050</td>\n",
       "      <td>2.0</td>\n",
       "      <td>0</td>\n",
       "      <td>4</td>\n",
       "      <td>5</td>\n",
       "      <td>3370</td>\n",
       "      <td>280</td>\n",
       "      <td>1921</td>\n",
       "      <td>0</td>\n",
       "      <td>709 W Blaine St</td>\n",
       "      <td>Seattle</td>\n",
       "      <td>WA 98119</td>\n",
       "      <td>USA</td>\n",
       "    </tr>\n",
       "  </tbody>\n",
       "</table>\n",
       "</div>"
      ],
      "text/plain": [
       "                  date      price  bedrooms  bathrooms  sqft_living  sqft_lot  \\\n",
       "0  2014-05-02 00:00:00   313000.0       3.0        1.5         1340      7912   \n",
       "1  2014-05-02 00:00:00  2384000.0       5.0        2.5         3650      9050   \n",
       "\n",
       "   floors  waterfront  view  condition  sqft_above  sqft_basement  yr_built  \\\n",
       "0     1.5           0     0          3        1340              0      1955   \n",
       "1     2.0           0     4          5        3370            280      1921   \n",
       "\n",
       "   yr_renovated                street       city  statezip country  \n",
       "0          2005  18810 Densmore Ave N  Shoreline  WA 98133     USA  \n",
       "1             0       709 W Blaine St    Seattle  WA 98119     USA  "
      ]
     },
     "execution_count": 4,
     "metadata": {},
     "output_type": "execute_result"
    }
   ],
   "source": [
    "# read the data from csv file\n",
    "df  = pd.read_csv('house-price.csv')\n",
    "df.head(2)"
   ]
  },
  {
   "cell_type": "code",
   "execution_count": 6,
   "metadata": {},
   "outputs": [
    {
     "data": {
      "text/plain": [
       "Index(['date', 'price', 'bedrooms', 'bathrooms', 'sqft_living', 'sqft_lot',\n",
       "       'floors', 'waterfront', 'view', 'condition', 'sqft_above',\n",
       "       'sqft_basement', 'yr_built', 'yr_renovated', 'street', 'city',\n",
       "       'statezip', 'country'],\n",
       "      dtype='object')"
      ]
     },
     "execution_count": 6,
     "metadata": {},
     "output_type": "execute_result"
    }
   ],
   "source": [
    "df.columns"
   ]
  },
  {
   "cell_type": "code",
   "execution_count": 21,
   "metadata": {},
   "outputs": [],
   "source": [
    "# sepaate the features and target variable\n",
    "x = df['sqft_living'].values.reshape(-1,1)\n",
    "# using values means convert it into  array"
   ]
  },
  {
   "cell_type": "code",
   "execution_count": 22,
   "id": "7ea64612",
   "metadata": {},
   "outputs": [
    {
     "data": {
      "text/plain": [
       "array([[1340],\n",
       "       [3650],\n",
       "       [1930],\n",
       "       ...,\n",
       "       [3010],\n",
       "       [2090],\n",
       "       [1490]], shape=(4600, 1))"
      ]
     },
     "execution_count": 22,
     "metadata": {},
     "output_type": "execute_result"
    }
   ],
   "source": [
    "x"
   ]
  },
  {
   "cell_type": "code",
   "execution_count": 9,
   "metadata": {},
   "outputs": [
    {
     "data": {
      "text/plain": [
       "0     313000.0\n",
       "1    2384000.0\n",
       "2     342000.0\n",
       "3     420000.0\n",
       "4     550000.0\n",
       "Name: price, dtype: float64"
      ]
     },
     "execution_count": 9,
     "metadata": {},
     "output_type": "execute_result"
    }
   ],
   "source": [
    "y = df['price']\n",
    "y.head()"
   ]
  },
  {
   "cell_type": "code",
   "execution_count": null,
   "id": "51234811",
   "metadata": {},
   "outputs": [],
   "source": []
  },
  {
   "cell_type": "code",
   "execution_count": 14,
   "metadata": {},
   "outputs": [
    {
     "ename": "AttributeError",
     "evalue": "'numpy.ndarray' object has no attribute 'values'",
     "output_type": "error",
     "traceback": [
      "\u001b[31m---------------------------------------------------------------------------\u001b[39m",
      "\u001b[31mAttributeError\u001b[39m                            Traceback (most recent call last)",
      "\u001b[36mCell\u001b[39m\u001b[36m \u001b[39m\u001b[32mIn[14]\u001b[39m\u001b[32m, line 2\u001b[39m\n\u001b[32m      1\u001b[39m \u001b[38;5;66;03m# convert X into 2D shape\u001b[39;00m\n\u001b[32m----> \u001b[39m\u001b[32m2\u001b[39m x = \u001b[43mx\u001b[49m\u001b[43m.\u001b[49m\u001b[43mvalues\u001b[49m.reshape(-\u001b[32m1\u001b[39m,\u001b[32m1\u001b[39m)\n\u001b[32m      3\u001b[39m x\n",
      "\u001b[31mAttributeError\u001b[39m: 'numpy.ndarray' object has no attribute 'values'"
     ]
    }
   ],
   "source": [
    "# convert X into 2D shape\n",
    "x = x.values.reshape(-1,1)\n",
    "x"
   ]
  },
  {
   "cell_type": "code",
   "execution_count": null,
   "metadata": {},
   "outputs": [],
   "source": []
  },
  {
   "cell_type": "code",
   "execution_count": null,
   "metadata": {},
   "outputs": [],
   "source": []
  },
  {
   "cell_type": "code",
   "execution_count": null,
   "metadata": {},
   "outputs": [],
   "source": []
  },
  {
   "cell_type": "code",
   "execution_count": null,
   "metadata": {},
   "outputs": [],
   "source": []
  },
  {
   "cell_type": "code",
   "execution_count": null,
   "metadata": {},
   "outputs": [],
   "source": []
  },
  {
   "cell_type": "code",
   "execution_count": null,
   "metadata": {},
   "outputs": [],
   "source": []
  }
 ],
 "metadata": {
  "kernelspec": {
   "display_name": "Python 3",
   "language": "python",
   "name": "python3"
  },
  "language_info": {
   "codemirror_mode": {
    "name": "ipython",
    "version": 3
   },
   "file_extension": ".py",
   "mimetype": "text/x-python",
   "name": "python",
   "nbconvert_exporter": "python",
   "pygments_lexer": "ipython3",
   "version": "3.12.1"
  }
 },
 "nbformat": 4,
 "nbformat_minor": 5
}
