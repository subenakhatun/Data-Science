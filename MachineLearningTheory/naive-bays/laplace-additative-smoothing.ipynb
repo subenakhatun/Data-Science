{
 "cells": [
  {
   "cell_type": "markdown",
   "id": "cb6da435",
   "metadata": {},
   "source": [
    "# Laplace addititive smoothinh:"
   ]
  },
  {
   "cell_type": "code",
   "execution_count": null,
   "id": "68390094",
   "metadata": {
    "vscode": {
     "languageId": "plaintext"
    }
   },
   "outputs": [],
   "source": [
    "print(hello)"
   ]
  },
  {
   "cell_type": "markdown",
   "id": "efa1d509",
   "metadata": {},
   "source": []
  }
 ],
 "metadata": {
  "language_info": {
   "name": "python"
  }
 },
 "nbformat": 4,
 "nbformat_minor": 5
}
