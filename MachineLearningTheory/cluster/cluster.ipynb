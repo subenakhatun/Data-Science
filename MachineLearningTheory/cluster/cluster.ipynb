{
 "cells": [
  {
   "cell_type": "markdown",
   "metadata": {},
   "source": [
    "# k-means clustering"
   ]
  },
  {
   "cell_type": "markdown",
   "metadata": {},
   "source": [
    "## k-means:\n",
    "1. k-means clustering কি?\n",
    "2. k-কি আর কিভাবে বের করে?\n",
    "3. cluster এর মানে কি?\n",
    "4. আমি কিভাবে বুঝব যে  k এর মান আমি সঠিক ধরতে পারছি নাকি ভুল?\n",
    "5. centroid কি আর কিভাবে করব?\n",
    "7. কখন আমি  mathan এবং কখন আমি  eucledian ব্যবিহার করব?\n",
    "8. রিয়াল ডাটাসেটের মাধ্যমে ব্যবহার করা।\n"
   ]
  },
  {
   "cell_type": "markdown",
   "metadata": {},
   "source": []
  }
 ],
 "metadata": {
  "language_info": {
   "name": "python"
  }
 },
 "nbformat": 4,
 "nbformat_minor": 2
}
