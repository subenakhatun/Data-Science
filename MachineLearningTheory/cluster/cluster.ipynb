{
 "cells": [
  {
   "cell_type": "markdown",
   "metadata": {},
   "source": [
    "# k-means clustering"
   ]
  },
  {
   "cell_type": "markdown",
   "metadata": {},
   "source": [
    "## k-means:\n",
    "1. k-means clustering কি?<br>\n",
    "ক্লাস্টারিং একটি (unsupervised) মেশিন লার্নিং প্রক্রিয়া, যেখানে ডেটা পয়েন্টগুলিকে তাদের সাদৃশ্য বা কাছাকাছি অবস্থানের ভিত্তিতে গ্রুপে ভাগ করা হয়। প্রতিটি গ্রুপ বা ক্লাস্টার এমন ডেটা পয়েন্ট ধারণ করে যা একে অপরের সাথে বেশি সাদৃশ্যপূর্ণ, কিন্তু অন্য ক্লাস্টারের পয়েন্টের সাথে কম সাদৃশ্যপূর্ণ।\n",
    "2. K-means ক্লাস্টারিং কিভাবে কাজ করে?<br>\n",
    "K-means ক্লাস্টারিং মূলত নিম্নলিখিত ৫টি ধাপে কাজ করে:\n",
    "    1. Initialization: <br>\n",
    "    প্রথমে, আপনি ক্লাস্টারের সংখ্যা (K) নির্ধারণ করেন। ধরুন, আপনি K = 3 ক্লাস্টারে ডেটা ভাগ করতে চান। এরপর, Kটি সেন্ট্রয়েড (কেন্দ্রবিন্দু) নির্বাচন করা হয়। এই সেন্ট্রয়েডগুলি হবে ক্লাস্টারের কেন্দ্র।<br>\n",
    "    ২. ক্লাস্টারে ডেটা পয়েন্ট অ্যাসাইনমেন্ট (Assignment):<br>\n",
    "    প্রতিটি ডেটা পয়েন্টের সাথে সেন্ট্রয়েডগুলির দূরত্ব হিসাব করা হয় (প্রধানত Euclidean distance ব্যবহার করা হয়)। যার সেন্ট্রয়েড সবচেয়ে কাছাকাছি, সেই ক্লাস্টারে পয়েন্টটি অন্তর্ভুক্ত হয়।<br>    \n",
    "    ৩. সেন্ট্রয়েড পুনর্গঠন (Centroid Recalculation):<br>\n",
    "    একবার ডেটা পয়েন্টগুলো ক্লাস্টারে ভাগ হয়ে গেলে, প্রতিটি ক্লাস্টারের নতুন সেন্ট্রয়েড হিসাব করা হয়। নতুন সেন্ট্রয়েড হল সেই ক্লাস্টারের সব ডেটা পয়েন্টের গড় (Mean)।<br>\n",
    "    ৪. পুনরাবৃত্তি (Iteration):<br>\n",
    "    পরবর্তী ধাপে, ডেটা পয়েন্টগুলো আবার তাদের সেন্ট্রয়েডের কাছে নিকটতম ক্লাস্টারে চলে যায়। সেন্ট্রয়েড পুনরায় আপডেট হয় এবং পুরো প্রক্রিয়াটি পুনরাবৃত্তি হয়।<br>\n",
    "    ৫. সমাপ্তি (Termination):<br>\n",
    "    এই প্রক্রিয়া চালানো হয় যতক্ষণ না সেন্ট্রয়েডগুলোর অবস্থান পরিবর্তিত হয় না বা পরিবর্তন খুবই সামান্য হয়। তখন অ্যালগরিদম থেমে যায় এবং ক্লাস্টারিং সম্পন্ন হয়। <br>\n",
    "3. cluster এর মানে কি?<br>\n",
    "cluster মানে গ্রুপ। মেশিন লার্নিং এ আনলেভেল ডাটাকে বিভিন্ন গ্রুপে কনভার্ট করা একই রকম ডাটাকে cluster বা গ্রুপ বলে। যদি একই রকম না হয় তাহলে আলাদা গ্রুপ করে।<br>\n",
    "4. আমি কিভাবে বুঝব যে  k এর মান আমি সঠিক ধরতে পারছি নাকি ভুল?<br>\n",
    "k মানে হচ্ছে গ্রুপ সংখ্যা। মানে cluster initial অবস্থায় কয়টা নেয়া হবে। এর জন্য যে কাজ করতে হবে ডাটা সেটের মধ্যে  randomly k এর মান নিয়ে k  এর মান অনুযায়ী cetriod পয়েন্ট ধরে নিতে হবে। তবে ভাল হয় প্রাথমিক অবস্থায় centriod  এর মান কাছাকাছি না ধরে একটা নির্দিষ্ট দুরত্তের মধ্য ধরলে। k এর মান সঠিক কি না এর জন্য আমাদেরকে  elbow technique ব্যবহার করতে হয়।<br>\n",
    "5. centroid কি আর কিভাবে করব?<br>\n",
    "centriod হচ্ছে ডাটা এর বিভিন্ন বিন্দুর কাছাকাছি মান। <br>\n",
    "7. কখন আমি  mathan এবং কখন আমি  eucledian ব্যবিহার করব?<br>\n",
    "এইটা নির্ভর করে ডাটা এর উপর। যদি ডাটা ব্লকের মত সমান্তরাল থাকে থাহলে manhatthan আর যদি পিথাগোরাসের অতিভুজের মত থাকে থাহলে  eucledian. <br>\n",
    "\n",
    "\n"
   ]
  },
  {
   "cell_type": "markdown",
   "metadata": {},
   "source": [
    "## K-means clustering step by step\n"
   ]
  },
  {
   "cell_type": "markdown",
   "metadata": {},
   "source": [
    "1. Step 01: Initialize k values using Elbow technique\n",
    "2. step 02: Identify centriods\n",
    "3. step 03: indetify points nearby centroiod and move to centriods.\n",
    "4. step 04: then continue aginn step 2 "
   ]
  },
  {
   "cell_type": "code",
   "execution_count": 2,
   "metadata": {},
   "outputs": [],
   "source": [
    "import  matplotlib.pyplot as plt\n",
    "import pandas as pd\n",
    "import numpy as np\n",
    "import seaborn as sns"
   ]
  },
  {
   "cell_type": "code",
   "execution_count": null,
   "metadata": {},
   "outputs": [],
   "source": []
  }
 ],
 "metadata": {
  "kernelspec": {
   "display_name": "Python 3",
   "language": "python",
   "name": "python3"
  },
  "language_info": {
   "codemirror_mode": {
    "name": "ipython",
    "version": 3
   },
   "file_extension": ".py",
   "mimetype": "text/x-python",
   "name": "python",
   "nbconvert_exporter": "python",
   "pygments_lexer": "ipython3",
   "version": "3.12.1"
  }
 },
 "nbformat": 4,
 "nbformat_minor": 2
}
