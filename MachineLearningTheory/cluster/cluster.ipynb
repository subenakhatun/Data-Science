{
 "cells": [
  {
   "cell_type": "markdown",
   "metadata": {},
   "source": [
    "# k-means clustering"
   ]
  },
  {
   "cell_type": "markdown",
   "metadata": {},
   "source": [
    "## k-means:\n",
    "1. k-means?\n",
    "2. k-?\n",
    "3. cluster?\n",
    "4. how i identify k value is right or wrong?\n",
    "5. centroid?\n",
    "6. find centroid ?\n",
    "7. when i use mathan and when i use eucledian?\n",
    "8. give example with real world dataset"
   ]
  },
  {
   "cell_type": "markdown",
   "metadata": {},
   "source": []
  }
 ],
 "metadata": {
  "language_info": {
   "name": "python"
  }
 },
 "nbformat": 4,
 "nbformat_minor": 2
}
