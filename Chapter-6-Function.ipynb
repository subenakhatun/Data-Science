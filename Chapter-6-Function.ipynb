{
 "cells": [
  {
   "cell_type": "markdown",
   "id": "060c3a45",
   "metadata": {},
   "source": [
    "## Defining a Function"
   ]
  },
  {
   "cell_type": "code",
   "execution_count": 1,
   "id": "7f5b09e9",
   "metadata": {},
   "outputs": [],
   "source": [
    "def function_name(parameters):\n",
    "    '''Docstring -- '''\n",
    "    statement(s)"
   ]
  },
  {
   "cell_type": "markdown",
   "id": "c8a758f6",
   "metadata": {},
   "source": [
    "#### Function Definition:\n",
    "-> def: Keyword to define a function <br>\n",
    "-> function_name: Name of the function <br>\n",
    "-> parameters: Inputs to the function can be multiple or none.\n",
    "#### Docsting:\n",
    "-> Docstring: Descriptive string explaining the function's purpose. Optional but recommended.\n",
    "#### Function Body: \n",
    "->Statement(s): The code executed when the function is called indentent to indicate the functio's scope"
   ]
  },
  {
   "cell_type": "code",
   "execution_count": 2,
   "id": "fbaf964e",
   "metadata": {},
   "outputs": [],
   "source": [
    "# Example -01:\n",
    "# Example of a simple function that prints a message:\n",
    "def greet():\n",
    "    '''This function greets the user'''\n",
    "    print(\"Hello, World!\")"
   ]
  },
  {
   "cell_type": "code",
   "execution_count": 3,
   "id": "c6485c24",
   "metadata": {},
   "outputs": [
    {
     "name": "stdout",
     "output_type": "stream",
     "text": [
      "Hello, World!\n"
     ]
    }
   ],
   "source": [
    "# calling a function: onnce you defined a function , you call it by using function name. otherwise it does not work.\n",
    "greet()"
   ]
  },
  {
   "cell_type": "markdown",
   "id": "89dd9504",
   "metadata": {},
   "source": [
    "### Function with Parameters"
   ]
  },
  {
   "cell_type": "code",
   "execution_count": 4,
   "id": "dfa9b46e",
   "metadata": {},
   "outputs": [
    {
     "name": "stdout",
     "output_type": "stream",
     "text": [
      "Hello, Subena!\n"
     ]
    }
   ],
   "source": [
    "def greet(name):\n",
    "    print(f\"Hello, {name}!\")\n",
    "n = \"Subena\"\n",
    "greet(n)"
   ]
  },
  {
   "cell_type": "markdown",
   "id": "e1c6bf19",
   "metadata": {},
   "source": [
    "### Returning Values from a Function"
   ]
  },
  {
   "cell_type": "markdown",
   "id": "cc287066",
   "metadata": {},
   "source": [
    "function can return a value using return statement. It's mean if i want to this function in other function then return must be use"
   ]
  },
  {
   "cell_type": "code",
   "execution_count": 7,
   "id": "336cbaec",
   "metadata": {},
   "outputs": [
    {
     "data": {
      "text/plain": [
       "24"
      ]
     },
     "execution_count": 7,
     "metadata": {},
     "output_type": "execute_result"
    }
   ],
   "source": [
    "def add(a,b):\n",
    "    c = a + b\n",
    "    return c\n",
    "add(5,19)"
   ]
  },
  {
   "cell_type": "markdown",
   "id": "fe1b0cbf",
   "metadata": {},
   "source": [
    "### Default arguments"
   ]
  },
  {
   "cell_type": "code",
   "execution_count": 9,
   "id": "61eabfcc",
   "metadata": {},
   "outputs": [
    {
     "name": "stdout",
     "output_type": "stream",
     "text": [
      "Subena\n"
     ]
    }
   ],
   "source": [
    "def greet(name=\"Subena\"):\n",
    "    print(name)\n",
    "greet()"
   ]
  },
  {
   "cell_type": "code",
   "execution_count": 10,
   "id": "7e381996",
   "metadata": {},
   "outputs": [
    {
     "name": "stdout",
     "output_type": "stream",
     "text": [
      "Dhoha\n"
     ]
    }
   ],
   "source": [
    "greet(\"Dhoha\")"
   ]
  },
  {
   "cell_type": "markdown",
   "id": "1a1d394d",
   "metadata": {},
   "source": [
    "### Keyword Arguments"
   ]
  },
  {
   "cell_type": "code",
   "execution_count": 11,
   "id": "6033131e",
   "metadata": {},
   "outputs": [
    {
     "name": "stdout",
     "output_type": "stream",
     "text": [
      "Hello, Subena! Good Morning\n"
     ]
    }
   ],
   "source": [
    "def greet(name, message):\n",
    "    print(f\"Hello, {name}! {message}\")\n",
    "greet(name=\"Subena\", message=\"Good Morning\")"
   ]
  },
  {
   "cell_type": "markdown",
   "id": "93efd6b3",
   "metadata": {},
   "source": [
    "### Define a function that provides your address:"
   ]
  },
  {
   "cell_type": "code",
   "execution_count": 12,
   "id": "2c917220",
   "metadata": {},
   "outputs": [
    {
     "name": "stdout",
     "output_type": "stream",
     "text": [
      "Subena khatun \n",
      "24/A, khondokar goli\n",
      "shiddeshwari, dhaka\n"
     ]
    }
   ],
   "source": [
    "def myaddress():\n",
    "    print(\"Subena khatun \\n24/A, khondokar goli\\nshiddeshwari, dhaka\")\n",
    "myaddress()"
   ]
  },
  {
   "cell_type": "code",
   "execution_count": 17,
   "id": "12f522d1",
   "metadata": {},
   "outputs": [
    {
     "name": "stdout",
     "output_type": "stream",
     "text": [
      "Circle area with radius is 5: 78.53981633974475\n",
      "Circle Circumference with Radius 5: 31.4159265358979\n"
     ]
    }
   ],
   "source": [
    "### Illustarate a global constant being used inside functions\n",
    "pi = 3.14159265358979\n",
    "def circleArea(radius):\n",
    "    return pi*radius*radius\n",
    "def circlecCircumference(radius):\n",
    "    return 2*pi*radius\n",
    "def main():\n",
    "    print('Circle area with radius is 5:', circleArea(5))\n",
    "    print('Circle Circumference with Radius 5:',circlecCircumference(5))\n",
    "main()"
   ]
  },
  {
   "cell_type": "code",
   "execution_count": 26,
   "id": "bf93d43e",
   "metadata": {},
   "outputs": [
    {
     "data": {
      "text/plain": [
       "78.53981633974475"
      ]
     },
     "execution_count": 26,
     "metadata": {},
     "output_type": "execute_result"
    }
   ],
   "source": [
    "circleArea(5)"
   ]
  },
  {
   "cell_type": "markdown",
   "id": "92962285",
   "metadata": {},
   "source": [
    "### How to compute mean without using default function?"
   ]
  },
  {
   "cell_type": "code",
   "execution_count": 29,
   "id": "f54c2056",
   "metadata": {},
   "outputs": [
    {
     "name": "stdout",
     "output_type": "stream",
     "text": [
      "The mean of the numbers is: 33.42857142857143\n"
     ]
    }
   ],
   "source": [
    "def calculateMean(numbers):\n",
    "    totalSum = sum(numbers)\n",
    "    count = len(numbers)\n",
    "    mean = totalSum/count\n",
    "    return mean\n",
    "numbers = [7,9,10,56,89,40,23]\n",
    "meanValue = calculateMean(numbers)\n",
    "\n",
    "print(f\"The mean of the numbers is: {meanValue}\")"
   ]
  },
  {
   "cell_type": "markdown",
   "id": "3a692e17",
   "metadata": {},
   "source": [
    "### How to compute variance and standard deviation?"
   ]
  },
  {
   "cell_type": "code",
   "execution_count": 45,
   "id": "293b4226",
   "metadata": {},
   "outputs": [],
   "source": [
    "def calculateVariance(numbers):\n",
    "    mean = calculateMean(numbers)\n",
    "    for number in numbers:\n",
    "        squredDiff = (number - mean)**2\n",
    "        #varaiance = sum(squredDiff) / len(numbers)\n",
    "    variance = sum(squredDiff)\n",
    "    print(variance)"
   ]
  },
  {
   "cell_type": "code",
   "execution_count": 53,
   "id": "dc462eee",
   "metadata": {},
   "outputs": [
    {
     "data": {
      "text/plain": [
       "(799.1020408163265, 399.55102040816325)"
      ]
     },
     "execution_count": 53,
     "metadata": {},
     "output_type": "execute_result"
    }
   ],
   "source": [
    "def calculateVariance():\n",
    "    mean = calculateMean(numbers)\n",
    "    squaredDiff = [(x-mean)**2 for x in numbers]\n",
    "    variance = sum(squaredDiff) / len(numbers)\n",
    "    stanDeviation = variance * 0.5\n",
    "    # print(f\"variance:{variance} and SD is {stanDeviation}\")\n",
    "    return variance, stanDeviation\n",
    "calculateVariance()\n"
   ]
  },
  {
   "cell_type": "markdown",
   "id": "a694d653",
   "metadata": {},
   "source": [
    "# Home work -04"
   ]
  },
  {
   "cell_type": "markdown",
   "id": "5f62d879",
   "metadata": {},
   "source": [
    "### 1. Define a function that converts temperatures from Celsius to Fahrenheit"
   ]
  },
  {
   "cell_type": "code",
   "execution_count": 58,
   "id": "dc33185f",
   "metadata": {},
   "outputs": [
    {
     "name": "stdout",
     "output_type": "stream",
     "text": [
      "Enter a Celsius Sclae value: 34.5\n",
      "Farenheit Scle is 94.1\n"
     ]
    }
   ],
   "source": [
    "def celsiusToFarenhit(celsiusscale):\n",
    "    farenheit = float((celsiusscale*1.8)+32)\n",
    "    return farenheit\n",
    "celsiusscale = float(input(\"Enter a Celsius Sclae value: \"))\n",
    "convertvalue = celsiusToFarenhit(celsiusscale)\n",
    "print(f\"Farenheit Scle is {convertvalue}\")"
   ]
  },
  {
   "cell_type": "markdown",
   "id": "0ab58e14",
   "metadata": {},
   "source": [
    "### 2. Define a function that compute the factorial of a given number"
   ]
  },
  {
   "cell_type": "code",
   "execution_count": 70,
   "id": "78c11441",
   "metadata": {},
   "outputs": [
    {
     "name": "stdout",
     "output_type": "stream",
     "text": [
      "Enter a number: 8\n",
      "Factorial of the given number is:  40320\n"
     ]
    }
   ],
   "source": [
    "number = int (input (\"Enter a number: \"))\n",
    "def factorailNumber(number):\n",
    "    factorial = 1\n",
    "    if number >= 1:\n",
    "        for n in range (1, number+1):\n",
    "            factorial=factorial *n\n",
    "    return factorial\n",
    "fact = factorailNumber(number)\n",
    "print(\"Factorial of the given number is: \", fact)\n",
    "    "
   ]
  },
  {
   "cell_type": "markdown",
   "id": "282548c4",
   "metadata": {},
   "source": [
    "### 3. Define a function that check if a fiven number is a prime"
   ]
  },
  {
   "cell_type": "code",
   "execution_count": 119,
   "id": "4903621b",
   "metadata": {},
   "outputs": [
    {
     "name": "stdout",
     "output_type": "stream",
     "text": [
      "Enter a number: 15\n",
      "15 is not a prime number\n"
     ]
    }
   ],
   "source": [
    "number = int (input (\"Enter a number: \"))\n",
    "def primeCheck(number):\n",
    "    if number > 1:\n",
    "        for i in range(2, (number // 2) + 1):\n",
    "            if (number % i) == 0:\n",
    "                print(f\"{number} is not a prime number\")\n",
    "                break\n",
    "        else:\n",
    "            print(f\"{number} is a prime number\")\n",
    "primeCheck(number)"
   ]
  },
  {
   "cell_type": "markdown",
   "id": "7ef082de",
   "metadata": {},
   "source": [
    "### 4. Define a function that finds the maximum value in a list of numbers"
   ]
  },
  {
   "cell_type": "code",
   "execution_count": 86,
   "id": "5bc7ff59",
   "metadata": {},
   "outputs": [
    {
     "data": {
      "text/plain": [
       "91"
      ]
     },
     "execution_count": 86,
     "metadata": {},
     "output_type": "execute_result"
    }
   ],
   "source": [
    "numbers = [7,20,15,8,91,63,48,7,8,9,3]\n",
    "def maximumNumber(numbers):\n",
    "    return max(numbers)\n",
    "maximumNumber(numbers)"
   ]
  },
  {
   "cell_type": "markdown",
   "id": "64df5b55",
   "metadata": {},
   "source": [
    "### 5. Define a function that returns the sum of all even numbers in a list"
   ]
  },
  {
   "cell_type": "code",
   "execution_count": 112,
   "id": "4fcd2276",
   "metadata": {},
   "outputs": [
    {
     "name": "stdout",
     "output_type": "stream",
     "text": [
      "Sum of Even number of the list is:  84\n"
     ]
    }
   ],
   "source": [
    "numbers = [7,20,15,8,91,63,48,7,8,9,3]\n",
    "def sumofEvennumber(numbers):\n",
    "    sum = 0\n",
    "    for i in range(len(numbers)):\n",
    "        if numbers[i] % 2 == 0:\n",
    "            sum = sum + numbers[i]\n",
    "    return sum\n",
    "sumofevennumber = sumofEvennumber(numbers)\n",
    "print(\"Sum of Even number of the list is: \", sumofevennumber)"
   ]
  },
  {
   "cell_type": "markdown",
   "id": "03af460a",
   "metadata": {},
   "source": [
    "### 6. Define a function that returns the first n numbers in the Fibonacci sequence"
   ]
  },
  {
   "cell_type": "code",
   "execution_count": 113,
   "id": "e3073d09",
   "metadata": {},
   "outputs": [
    {
     "name": "stdout",
     "output_type": "stream",
     "text": [
      "Enter a number fo fibonacci: 9\n",
      "0 1 1 2 3 5 8 13 21 "
     ]
    }
   ],
   "source": [
    "def fibonacci_numbers(number):\n",
    "    if number == 0:\n",
    "        return 0\n",
    "    elif number == 1:\n",
    "        return 1\n",
    "    else:\n",
    "        return fibonacci_numbers(number-2)+fibonacci_numbers(number-1)\n",
    "number = int(input(\"Enter a number fo fibonacci: \"))\n",
    "for i in range(0, number):\n",
    "    print(fibonacci_numbers(i), end=\" \")"
   ]
  },
  {
   "cell_type": "code",
   "execution_count": null,
   "id": "0e35ced1",
   "metadata": {},
   "outputs": [],
   "source": []
  }
 ],
 "metadata": {
  "kernelspec": {
   "display_name": "Python 3 (ipykernel)",
   "language": "python",
   "name": "python3"
  },
  "language_info": {
   "codemirror_mode": {
    "name": "ipython",
    "version": 3
   },
   "file_extension": ".py",
   "mimetype": "text/x-python",
   "name": "python",
   "nbconvert_exporter": "python",
   "pygments_lexer": "ipython3",
   "version": "3.11.5"
  }
 },
 "nbformat": 4,
 "nbformat_minor": 5
}
