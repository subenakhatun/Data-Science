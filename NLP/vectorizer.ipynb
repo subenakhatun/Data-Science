{
 "cells": [
  {
   "cell_type": "markdown",
   "id": "cd4b2a21",
   "metadata": {},
   "source": [
    "🔹 TF-IDF কী?\n",
    "TF-IDF এর পুরো নাম: Term Frequency – Inverse Document Frequency।\n",
    "<br>\n",
    "এটি একটি পদ্ধতি, যার মাধ্যমে আমরা কোনো document-এর মধ্যে প্রতিটি শব্দের গুরুত্ব (importance) হিসেব করি।<br>\n",
    "🔹 কেন ব্যবহার করব?\n",
    "আমরা যখন টেক্সট ডেটা দিয়ে মেশিন লার্নিং বা NLP মডেল ট্রেইন করি, তখন সেই টেক্সটকে সংখ্যায় রূপান্তর করতে হয়। TF-IDF সেই কাজটা করে।\n",
    "<br>\n",
    "✅ এটি গুরুত্বপূর্ণ শব্দগুলোকে বেশি ওজন (weight) দেয় এবং সাধারণ শব্দগুলোকে কম গুরুত্ব দেয় (যেমন: \"the\", \"is\", \"and\" ইত্যাদি)।<br>\n",
    "✅ এটি শব্দের প্রাসঙ্গিকতা (relevance) বোঝাতে সাহায্য করে।<br>\n",
    "✅ 1. Term Frequency (TF)\n",
    "একটি ডকুমেন্টে কোনো শব্দ কতবার আছে — সেটা মাপে।\n",
    "<br>\n",
    "𝑇𝐹(𝑡)=\n",
    "শব্দটি যতবার আছে\n",
    "/মোট শব্দ সংখ্যা ডকুমেন্টে\n",
    "\n",
    "<br>\n",
    "✅ 2. Inverse Document Frequency (IDF)\n",
    "যে শব্দ বেশি ডকুমেন্টে আছে, তার গুরুত্ব কমিয়ে দেয়।\n",
    "<br>\n",
    "IDF(t)=log( মোট ডকুমেন্ট সংখ্যা/\n",
    "1+যেসব ডকুমেন্টে শব্দটি আছে)<br>\n",
    "✅ TF-IDF:\n",
    "\n",
    "TF-IDF(t)=TF(t)×IDF(t)"
   ]
  },
  {
   "cell_type": "code",
   "execution_count": null,
   "id": "0fd8f91a",
   "metadata": {},
   "outputs": [],
   "source": [
    "print('hello world')"
   ]
  }
 ],
 "metadata": {
  "kernelspec": {
   "display_name": "Python 3",
   "language": "python",
   "name": "python3"
  },
  "language_info": {
   "name": "python",
   "version": "3.12.1"
  }
 },
 "nbformat": 4,
 "nbformat_minor": 5
}
