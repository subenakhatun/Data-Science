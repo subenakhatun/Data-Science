{
 "cells": [
  {
   "cell_type": "markdown",
   "id": "cd4b2a21",
   "metadata": {},
   "source": [
    "🔹 TF-IDF কী?\n",
    "TF-IDF এর পুরো নাম: Term Frequency – Inverse Document Frequency।\n",
    "<br>\n",
    "এটি একটি পদ্ধতি, যার মাধ্যমে আমরা কোনো document-এর মধ্যে প্রতিটি শব্দের গুরুত্ব (importance) হিসেব করি।<br>\n",
    "🔹 কেন ব্যবহার করব?\n",
    "আমরা যখন টেক্সট ডেটা দিয়ে মেশিন লার্নিং বা NLP মডেল ট্রেইন করি, তখন সেই টেক্সটকে সংখ্যায় রূপান্তর করতে হয়। TF-IDF সেই কাজটা করে।\n",
    "<br>\n",
    "✅ এটি গুরুত্বপূর্ণ শব্দগুলোকে বেশি ওজন (weight) দেয় এবং সাধারণ শব্দগুলোকে কম গুরুত্ব দেয় (যেমন: \"the\", \"is\", \"and\" ইত্যাদি)।<br>\n",
    "✅ এটি শব্দের প্রাসঙ্গিকতা (relevance) বোঝাতে সাহায্য করে।<br>\n",
    "✅ 1. Term Frequency (TF)\n",
    "একটি ডকুমেন্টে কোনো শব্দ কতবার আছে — সেটা মাপে।\n",
    "<br>\n",
    "𝑇𝐹(𝑡)=\n",
    "শব্দটি যতবার আছে\n",
    "/মোট শব্দ সংখ্যা ডকুমেন্টে\n",
    "\n",
    "<br>\n",
    "✅ 2. Inverse Document Frequency (IDF)\n",
    "যে শব্দ বেশি ডকুমেন্টে আছে, তার গুরুত্ব কমিয়ে দেয়।\n",
    "<br>\n",
    "IDF(t)=log( মোট ডকুমেন্ট সংখ্যা/\n",
    "1+যেসব ডকুমেন্টে শব্দটি আছে)<br>\n",
    "✅ TF-IDF:\n",
    "\n",
    "TF-IDF(t)=TF(t)×IDF(t)"
   ]
  },
  {
   "cell_type": "code",
   "execution_count": 1,
   "id": "0fd8f91a",
   "metadata": {},
   "outputs": [],
   "source": [
    "from sklearn.feature_extraction.text import TfidfVectorizer"
   ]
  },
  {
   "cell_type": "code",
   "execution_count": 2,
   "id": "36d8001d",
   "metadata": {},
   "outputs": [],
   "source": [
    "texts = [\n",
    "    \"Lorem Ipsum is simply dummy text of the printing and typesetting industry.\",\n",
    "    \"Lorem Ipsum has been the industry's standard dummy text ever since the 1500s.\",\n",
    "    \"It has survived not only five centuries.\"\n",
    "]"
   ]
  },
  {
   "cell_type": "code",
   "execution_count": 3,
   "id": "796b4985",
   "metadata": {},
   "outputs": [],
   "source": [
    "# make object\n",
    "tfvetor = TfidfVectorizer()"
   ]
  },
  {
   "cell_type": "code",
   "execution_count": 4,
   "id": "b0af76a9",
   "metadata": {},
   "outputs": [],
   "source": [
    "# fit and transform\n",
    "tfidf_matrix = tfvetor.fit_transform(texts)"
   ]
  },
  {
   "cell_type": "code",
   "execution_count": 5,
   "id": "223782db",
   "metadata": {},
   "outputs": [
    {
     "name": "stdout",
     "output_type": "stream",
     "text": [
      "['1500s' 'and' 'been' 'centuries' 'dummy' 'ever' 'five' 'has' 'industry'\n",
      " 'ipsum' 'is' 'it' 'lorem' 'not' 'of' 'only' 'printing' 'simply' 'since'\n",
      " 'standard' 'survived' 'text' 'the' 'typesetting']\n"
     ]
    }
   ],
   "source": [
    "# see words\n",
    "print(tfvetor.get_feature_names_out())\n"
   ]
  },
  {
   "cell_type": "code",
   "execution_count": null,
   "id": "90dd51cd",
   "metadata": {},
   "outputs": [
    {
     "name": "stdout",
     "output_type": "stream",
     "text": [
      "[[0.         0.32494953 0.         0.         0.24713249 0.\n",
      "  0.         0.         0.24713249 0.24713249 0.32494953 0.\n",
      "  0.24713249 0.         0.32494953 0.         0.32494953 0.32494953\n",
      "  0.         0.         0.         0.24713249 0.24713249 0.32494953]\n",
      " [0.30451604 0.         0.30451604 0.         0.2315923  0.30451604\n",
      "  0.         0.2315923  0.2315923  0.2315923  0.         0.\n",
      "  0.2315923  0.         0.         0.         0.         0.\n",
      "  0.30451604 0.30451604 0.         0.2315923  0.46318459 0.        ]\n",
      " [0.         0.         0.         0.38988801 0.         0.\n",
      "  0.38988801 0.29651988 0.         0.         0.         0.38988801\n",
      "  0.         0.38988801 0.         0.38988801 0.         0.\n",
      "  0.         0.         0.38988801 0.         0.         0.        ]]\n"
     ]
    }
   ],
   "source": [
    "# show in matrix form and conver text to array\n",
    "print(tfidf_matrix.toarray())"
   ]
  },
  {
   "cell_type": "code",
   "execution_count": null,
   "id": "0c0197ea",
   "metadata": {},
   "outputs": [],
   "source": []
  },
  {
   "cell_type": "code",
   "execution_count": null,
   "id": "9d4163b5",
   "metadata": {},
   "outputs": [],
   "source": []
  },
  {
   "cell_type": "code",
   "execution_count": null,
   "id": "d2779871",
   "metadata": {},
   "outputs": [],
   "source": []
  },
  {
   "cell_type": "code",
   "execution_count": null,
   "id": "71fa84e0",
   "metadata": {},
   "outputs": [],
   "source": []
  },
  {
   "cell_type": "code",
   "execution_count": null,
   "id": "70adcf56",
   "metadata": {},
   "outputs": [],
   "source": []
  },
  {
   "cell_type": "code",
   "execution_count": null,
   "id": "e20d527b",
   "metadata": {},
   "outputs": [],
   "source": []
  },
  {
   "cell_type": "code",
   "execution_count": null,
   "id": "e6b16629",
   "metadata": {},
   "outputs": [],
   "source": []
  },
  {
   "cell_type": "code",
   "execution_count": null,
   "metadata": {},
   "outputs": [],
   "source": []
  },
  {
   "cell_type": "code",
   "execution_count": null,
   "id": "0c9bc14a",
   "metadata": {},
   "outputs": [],
   "source": []
  },
  {
   "cell_type": "code",
   "execution_count": null,
   "id": "8ac41c9f",
   "metadata": {},
   "outputs": [],
   "source": []
  },
  {
   "cell_type": "code",
   "execution_count": null,
   "id": "e02fe6d1",
   "metadata": {},
   "outputs": [],
   "source": []
  },
  {
   "cell_type": "code",
   "execution_count": null,
   "id": "8a413ed2",
   "metadata": {},
   "outputs": [],
   "source": []
  },
  {
   "cell_type": "code",
   "execution_count": null,
   "id": "38a3eb2d",
   "metadata": {},
   "outputs": [],
   "source": []
  },
  {
   "cell_type": "code",
   "execution_count": null,
   "id": "84232b54",
   "metadata": {},
   "outputs": [],
   "source": []
  },
  {
   "cell_type": "markdown",
   "id": "83a99f18",
   "metadata": {},
   "source": [
    "## 🔹 Hashing Vectorizer কী?\n",
    "Hashing Vectorizer টেক্সটকে সংখ্যায় রূপান্তর করার একটা পদ্ধতি। এটা প্রতিটি শব্দকে একটা নির্দিষ্ট ফিক্সড সাইজের vector-এ রূপান্তর করে hashing function ব্যবহার করে।\n",
    "<br>\n",
    "🧠 মানে, কোনো শব্দ কী সেটা না দেখে, তার উপর একটা ম্যাথমেটিকাল ফাংশন চালিয়ে তাকে একটা নির্দিষ্ট position-এ পাঠিয়ে দেয়।"
   ]
  },
  {
   "cell_type": "markdown",
   "id": "b144d96b",
   "metadata": {},
   "source": []
  }
 ],
 "metadata": {
  "kernelspec": {
   "display_name": "Python 3",
   "language": "python",
   "name": "python3"
  },
  "language_info": {
   "codemirror_mode": {
    "name": "ipython",
    "version": 3
   },
   "file_extension": ".py",
   "mimetype": "text/x-python",
   "name": "python",
   "nbconvert_exporter": "python",
   "pygments_lexer": "ipython3",
   "version": "3.12.1"
  }
 },
 "nbformat": 4,
 "nbformat_minor": 5
}
