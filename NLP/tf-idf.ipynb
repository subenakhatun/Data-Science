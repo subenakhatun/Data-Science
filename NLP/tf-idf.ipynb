{
 "cells": [
  {
   "cell_type": "markdown",
   "id": "9ad01bdf",
   "metadata": {},
   "source": [
    "# TF-IDF\n",
    "## TF কাকে বলে?\n",
    "#### TF(Term frequency): মানে কোন শব্দ তোমার বাক্যে কতবার এসেছে বা আছে সেটা একটা সংখ্যায় প্রকাশ করা যেন মেশিন এটা বিশ্লেষণ করতে পারে। \n",
    "একটা শব্দ একটা ডকুমেন্ট বা একটা বাক্যে কয়বার আছে। <br>\n",
    "যেমনঃ I am Bangladeshi and i love Bangladesh.<br>\n",
    "এই বাক্যে:<br>\n",
    "I --> 2 বার আছে<br>\n",
    "am ---> ১ বার আছে<br>\n",
    "Bnagladesh ---> ১ বার আছে<br>\n",
    "and ---> ১ বার আছে<br>\n",
    "love ---> ১ বার আছে<br>\n",
    "Bangladeshi ---> ১ বার আছে<br>\n",
    "\n",
    "### TF এর ফর্মুলাঃ \n",
    "TF(word) = (একটা শব্দ কতবার আছে বা এসেছে / মোট শব্দ সংখ্যা) <br>\n",
    "TF('I') = 2/7 = 0.285 <br>\n",
    "TF('love') = 1/7 = 0.142 <br>\n",
    "\n"
   ]
  },
  {
   "cell_type": "markdown",
   "id": "92e40a42",
   "metadata": {},
   "source": []
  }
 ],
 "metadata": {
  "language_info": {
   "name": "python"
  }
 },
 "nbformat": 4,
 "nbformat_minor": 5
}
