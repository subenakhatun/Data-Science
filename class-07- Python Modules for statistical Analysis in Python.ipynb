{
 "cells": [
  {
   "cell_type": "markdown",
   "id": "32590883",
   "metadata": {},
   "source": [
    "## Basic Modules\n",
    "-> Math <br>\n",
    "-> Random <br>\n",
    "-> statistics\n",
    "#### i can get unlabeled data from a Series or DataFrame as a np.array object by calling .values or .to_numpy()"
   ]
  },
  {
   "cell_type": "markdown",
   "id": "a9c9254e",
   "metadata": {},
   "source": [
    "# MAth library Function"
   ]
  },
  {
   "cell_type": "code",
   "execution_count": 2,
   "id": "cdd2e395",
   "metadata": {},
   "outputs": [
    {
     "name": "stdout",
     "output_type": "stream",
     "text": [
      "Enter Radius =78\n",
      "19113.4497044403\n"
     ]
    }
   ],
   "source": [
    "# Write a python for calculating the area of circle\n",
    "import math\n",
    "radius = float(input(\"Enter Radius =\"))\n",
    "area = math.pi*radius*radius\n",
    "print(area)"
   ]
  },
  {
   "cell_type": "code",
   "execution_count": 3,
   "id": "fb2c3962",
   "metadata": {},
   "outputs": [
    {
     "data": {
      "text/plain": [
       "3.141592653589793"
      ]
     },
     "execution_count": 3,
     "metadata": {},
     "output_type": "execute_result"
    }
   ],
   "source": [
    "# defult pi value just calling math library function\n",
    "math.pi"
   ]
  },
  {
   "cell_type": "code",
   "execution_count": 6,
   "id": "69a5ade9",
   "metadata": {},
   "outputs": [
    {
     "ename": "TypeError",
     "evalue": "must be real number, not list",
     "output_type": "error",
     "traceback": [
      "\u001b[1;31m---------------------------------------------------------------------------\u001b[0m",
      "\u001b[1;31mTypeError\u001b[0m                                 Traceback (most recent call last)",
      "Cell \u001b[1;32mIn[6], line 3\u001b[0m\n\u001b[0;32m      1\u001b[0m \u001b[38;5;66;03m# eils(x) --- Returns the samallest integer grater than or equal to x\u001b[39;00m\n\u001b[0;32m      2\u001b[0m x \u001b[38;5;241m=\u001b[39m [\u001b[38;5;241m7\u001b[39m,\u001b[38;5;241m8\u001b[39m,\u001b[38;5;241m2\u001b[39m,\u001b[38;5;241m9\u001b[39m,\u001b[38;5;241m10\u001b[39m]\n\u001b[1;32m----> 3\u001b[0m math\u001b[38;5;241m.\u001b[39mceil(x)\n",
      "\u001b[1;31mTypeError\u001b[0m: must be real number, not list"
     ]
    }
   ],
   "source": [
    "# eils(x) --- Returns the samallest integer grater than or equal to x\n",
    "x = [7,8,2,9,10]\n",
    "math.ceil(x)"
   ]
  },
  {
   "cell_type": "code",
   "execution_count": 7,
   "id": "54f32069",
   "metadata": {},
   "outputs": [
    {
     "data": {
      "text/plain": [
       "101"
      ]
     },
     "execution_count": 7,
     "metadata": {},
     "output_type": "execute_result"
    }
   ],
   "source": [
    "# Round a number upward to its nearest integer\n",
    "math.ceil(100.34837934875)"
   ]
  },
  {
   "cell_type": "code",
   "execution_count": 8,
   "id": "8c1d92d3",
   "metadata": {},
   "outputs": [
    {
     "data": {
      "text/plain": [
       "10.0"
      ]
     },
     "execution_count": 8,
     "metadata": {},
     "output_type": "execute_result"
    }
   ],
   "source": [
    "x = 10\n",
    "y =12\n",
    "math.copysign(x,y)"
   ]
  },
  {
   "cell_type": "code",
   "execution_count": 9,
   "id": "f457c769",
   "metadata": {},
   "outputs": [
    {
     "data": {
      "text/plain": [
       "12.0"
      ]
     },
     "execution_count": 9,
     "metadata": {},
     "output_type": "execute_result"
    }
   ],
   "source": [
    "math.copysign(y,x)"
   ]
  },
  {
   "cell_type": "code",
   "execution_count": 11,
   "id": "3b0bbe43",
   "metadata": {},
   "outputs": [
    {
     "data": {
      "text/plain": [
       "12.94857984"
      ]
     },
     "execution_count": 11,
     "metadata": {},
     "output_type": "execute_result"
    }
   ],
   "source": [
    "# Return the absoulte value of x\n",
    "x = 12.94857984\n",
    "math.fabs(x)"
   ]
  },
  {
   "cell_type": "code",
   "execution_count": 12,
   "id": "c28ac484",
   "metadata": {},
   "outputs": [
    {
     "data": {
      "text/plain": [
       "13"
      ]
     },
     "execution_count": 12,
     "metadata": {},
     "output_type": "execute_result"
    }
   ],
   "source": [
    "# Returns the samallest integer grater than or equal to x\n",
    "math.ceil(x)"
   ]
  },
  {
   "cell_type": "code",
   "execution_count": 13,
   "id": "d908b944",
   "metadata": {},
   "outputs": [
    {
     "ename": "TypeError",
     "evalue": "'float' object cannot be interpreted as an integer",
     "output_type": "error",
     "traceback": [
      "\u001b[1;31m---------------------------------------------------------------------------\u001b[0m",
      "\u001b[1;31mTypeError\u001b[0m                                 Traceback (most recent call last)",
      "Cell \u001b[1;32mIn[13], line 2\u001b[0m\n\u001b[0;32m      1\u001b[0m \u001b[38;5;66;03m# Return the factorial of x\u001b[39;00m\n\u001b[1;32m----> 2\u001b[0m math\u001b[38;5;241m.\u001b[39mfactorial(x)\n",
      "\u001b[1;31mTypeError\u001b[0m: 'float' object cannot be interpreted as an integer"
     ]
    }
   ],
   "source": [
    "# Return the factorial of x\n",
    "math.factorial(x)"
   ]
  },
  {
   "cell_type": "code",
   "execution_count": 14,
   "id": "d51482c0",
   "metadata": {},
   "outputs": [
    {
     "data": {
      "text/plain": [
       "24"
      ]
     },
     "execution_count": 14,
     "metadata": {},
     "output_type": "execute_result"
    }
   ],
   "source": [
    "math.factorial(4)"
   ]
  },
  {
   "cell_type": "code",
   "execution_count": 15,
   "id": "80a623b4",
   "metadata": {},
   "outputs": [
    {
     "data": {
      "text/plain": [
       "12"
      ]
     },
     "execution_count": 15,
     "metadata": {},
     "output_type": "execute_result"
    }
   ],
   "source": [
    "# Return the largest integer less than or equal to x\n",
    "math.floor(x)"
   ]
  },
  {
   "cell_type": "code",
   "execution_count": 18,
   "id": "0c6f5cf2",
   "metadata": {},
   "outputs": [
    {
     "data": {
      "text/plain": [
       "0.9485798400000007"
      ]
     },
     "execution_count": 18,
     "metadata": {},
     "output_type": "execute_result"
    }
   ],
   "source": [
    "# Returns the reminder when x is divided by y\n",
    "math.fmod(x,y)"
   ]
  },
  {
   "cell_type": "code",
   "execution_count": 19,
   "id": "b2a4be94",
   "metadata": {},
   "outputs": [
    {
     "data": {
      "text/plain": [
       "1.1122221389599145"
      ]
     },
     "execution_count": 19,
     "metadata": {},
     "output_type": "execute_result"
    }
   ],
   "source": [
    "math.log10(x)"
   ]
  },
  {
   "cell_type": "code",
   "execution_count": 20,
   "id": "d6dc677d",
   "metadata": {},
   "outputs": [
    {
     "data": {
      "text/plain": [
       "420239.40509697655"
      ]
     },
     "execution_count": 20,
     "metadata": {},
     "output_type": "execute_result"
    }
   ],
   "source": [
    "math.exp(x)"
   ]
  },
  {
   "cell_type": "code",
   "execution_count": 21,
   "id": "cfe63632",
   "metadata": {},
   "outputs": [
    {
     "data": {
      "text/plain": [
       "420238.40509697655"
      ]
     },
     "execution_count": 21,
     "metadata": {},
     "output_type": "execute_result"
    }
   ],
   "source": [
    "math.expm1(x)"
   ]
  },
  {
   "cell_type": "code",
   "execution_count": 22,
   "id": "34620e6d",
   "metadata": {},
   "outputs": [
    {
     "data": {
      "text/plain": [
       "False"
      ]
     },
     "execution_count": 22,
     "metadata": {},
     "output_type": "execute_result"
    }
   ],
   "source": [
    "math.isinf(x)"
   ]
  },
  {
   "cell_type": "code",
   "execution_count": 23,
   "id": "8e0e50d8",
   "metadata": {},
   "outputs": [
    {
     "data": {
      "text/plain": [
       "(0.3000000000000007, 10.0)"
      ]
     },
     "execution_count": 23,
     "metadata": {},
     "output_type": "execute_result"
    }
   ],
   "source": [
    "# Returns the fractorial and integer parts of x\n",
    "z = 10.3\n",
    "math.modf(z)"
   ]
  },
  {
   "cell_type": "code",
   "execution_count": 24,
   "id": "fe048a38",
   "metadata": {},
   "outputs": [
    {
     "data": {
      "text/plain": [
       "8.0"
      ]
     },
     "execution_count": 24,
     "metadata": {},
     "output_type": "execute_result"
    }
   ],
   "source": [
    "# Returns x raised to the power y\n",
    "x = 2\n",
    "y = 3\n",
    "math.pow(x,y)"
   ]
  },
  {
   "cell_type": "code",
   "execution_count": 25,
   "id": "8cded58f",
   "metadata": {},
   "outputs": [
    {
     "data": {
      "text/plain": [
       "1.4142135623730951"
      ]
     },
     "execution_count": 25,
     "metadata": {},
     "output_type": "execute_result"
    }
   ],
   "source": [
    "# Returns the squre root of x\n",
    "math.sqrt(x)"
   ]
  },
  {
   "cell_type": "code",
   "execution_count": 26,
   "id": "0b0b3d30",
   "metadata": {},
   "outputs": [
    {
     "data": {
      "text/plain": [
       "-0.4161468365471424"
      ]
     },
     "execution_count": 26,
     "metadata": {},
     "output_type": "execute_result"
    }
   ],
   "source": [
    "math.cos(x)"
   ]
  },
  {
   "cell_type": "code",
   "execution_count": 27,
   "id": "3dbf5b10",
   "metadata": {},
   "outputs": [
    {
     "data": {
      "text/plain": [
       "114.59155902616465"
      ]
     },
     "execution_count": 27,
     "metadata": {},
     "output_type": "execute_result"
    }
   ],
   "source": [
    "# converts angle x from degrees to radians\n",
    "math.degrees(x)"
   ]
  },
  {
   "cell_type": "code",
   "execution_count": 28,
   "id": "9c31cf4a",
   "metadata": {},
   "outputs": [
    {
     "data": {
      "text/plain": [
       "0.03490658503988659"
      ]
     },
     "execution_count": 28,
     "metadata": {},
     "output_type": "execute_result"
    }
   ],
   "source": [
    "# Converts angle x from degrees to radians\n",
    "math.radians(x)"
   ]
  },
  {
   "cell_type": "code",
   "execution_count": 29,
   "id": "9e3a7f8f",
   "metadata": {},
   "outputs": [
    {
     "data": {
      "text/plain": [
       "1.3169578969248166"
      ]
     },
     "execution_count": 29,
     "metadata": {},
     "output_type": "execute_result"
    }
   ],
   "source": [
    "# Returns the inverse hyperbolic cosine of x \n",
    "math.acosh(x)"
   ]
  },
  {
   "cell_type": "code",
   "execution_count": 30,
   "id": "55ca5f81",
   "metadata": {},
   "outputs": [
    {
     "data": {
      "text/plain": [
       "2.718281828459045"
      ]
     },
     "execution_count": 30,
     "metadata": {},
     "output_type": "execute_result"
    }
   ],
   "source": [
    "math.e"
   ]
  },
  {
   "cell_type": "markdown",
   "id": "270372bd",
   "metadata": {},
   "source": [
    "## Random Module"
   ]
  },
  {
   "cell_type": "code",
   "execution_count": 31,
   "id": "5a237e5f",
   "metadata": {},
   "outputs": [],
   "source": [
    "import random"
   ]
  },
  {
   "cell_type": "code",
   "execution_count": 32,
   "id": "b2b67195",
   "metadata": {},
   "outputs": [],
   "source": [
    "random.seed(10)"
   ]
  },
  {
   "cell_type": "code",
   "execution_count": 33,
   "id": "d37955ae",
   "metadata": {},
   "outputs": [
    {
     "data": {
      "text/plain": [
       "0.5714025946899135"
      ]
     },
     "execution_count": 33,
     "metadata": {},
     "output_type": "execute_result"
    }
   ],
   "source": [
    "# Method returns a random floating number between 0 and 1\n",
    "random.random()"
   ]
  },
  {
   "cell_type": "code",
   "execution_count": 34,
   "id": "e9e86a51",
   "metadata": {},
   "outputs": [
    {
     "data": {
      "text/plain": [
       "18.577781093502292"
      ]
     },
     "execution_count": 34,
     "metadata": {},
     "output_type": "execute_result"
    }
   ],
   "source": [
    "random.uniform(10,30)"
   ]
  },
  {
   "cell_type": "code",
   "execution_count": 38,
   "id": "f6849aa3",
   "metadata": {},
   "outputs": [
    {
     "data": {
      "text/plain": [
       "8"
      ]
     },
     "execution_count": 38,
     "metadata": {},
     "output_type": "execute_result"
    }
   ],
   "source": [
    "random.randint(2,30)"
   ]
  },
  {
   "cell_type": "code",
   "execution_count": 41,
   "id": "c8f447ce",
   "metadata": {},
   "outputs": [
    {
     "data": {
      "text/plain": [
       "6"
      ]
     },
     "execution_count": 41,
     "metadata": {},
     "output_type": "execute_result"
    }
   ],
   "source": [
    "random.choice([2,4,6,7,8,9])"
   ]
  },
  {
   "cell_type": "code",
   "execution_count": 44,
   "id": "64a4bdad",
   "metadata": {},
   "outputs": [
    {
     "data": {
      "text/plain": [
       "[20, 9, 3, 4, 8, 2]"
      ]
     },
     "execution_count": 44,
     "metadata": {},
     "output_type": "execute_result"
    }
   ],
   "source": [
    "numbers = [2,4,3,8,9,20]\n",
    "random.shuffle(numbers)\n",
    "numbers"
   ]
  },
  {
   "cell_type": "markdown",
   "id": "3e35d290",
   "metadata": {},
   "source": [
    "### Concept of Array\n",
    "-> 0D ( zero-dimensional) - Scalar - A single element <br>\n",
    "-> 1D ( one -dimensional) - Vector - A list of integers <br>\n",
    "-> 2D (two-dimensional) - MAtrix - A spreadsheet of data <br>\n",
    "-> 3D (three-dimensional) - Tensor - Storing a color image"
   ]
  },
  {
   "cell_type": "code",
   "execution_count": 45,
   "id": "7bb104b5",
   "metadata": {},
   "outputs": [],
   "source": [
    "## Creating arrays:\n",
    "import numpy as np"
   ]
  },
  {
   "cell_type": "code",
   "execution_count": 46,
   "id": "719de088",
   "metadata": {},
   "outputs": [
    {
     "data": {
      "text/plain": [
       "array([1, 2, 4])"
      ]
     },
     "execution_count": 46,
     "metadata": {},
     "output_type": "execute_result"
    }
   ],
   "source": [
    "a = np.array([1,2,4])\n",
    "a"
   ]
  },
  {
   "cell_type": "code",
   "execution_count": 47,
   "id": "00716da7",
   "metadata": {},
   "outputs": [
    {
     "data": {
      "text/plain": [
       "array([[ 3,  5],\n",
       "       [10, 34]])"
      ]
     },
     "execution_count": 47,
     "metadata": {},
     "output_type": "execute_result"
    }
   ],
   "source": [
    "# Create a 2 * 2 matirx = 2 rows and 2 columns\n",
    "b = np.array([[3,5],[10,34]])\n",
    "b"
   ]
  },
  {
   "cell_type": "code",
   "execution_count": 48,
   "id": "a7507565",
   "metadata": {},
   "outputs": [
    {
     "data": {
      "text/plain": [
       "1"
      ]
     },
     "execution_count": 48,
     "metadata": {},
     "output_type": "execute_result"
    }
   ],
   "source": [
    "# Array indexing and Slicing\n",
    "# acces elements\n",
    "a[0]"
   ]
  },
  {
   "cell_type": "code",
   "execution_count": 49,
   "id": "d8d7cc23",
   "metadata": {},
   "outputs": [
    {
     "data": {
      "text/plain": [
       "array([3, 5])"
      ]
     },
     "execution_count": 49,
     "metadata": {},
     "output_type": "execute_result"
    }
   ],
   "source": [
    "b[0]"
   ]
  },
  {
   "cell_type": "code",
   "execution_count": 50,
   "id": "4cc17195",
   "metadata": {},
   "outputs": [
    {
     "data": {
      "text/plain": [
       "5"
      ]
     },
     "execution_count": 50,
     "metadata": {},
     "output_type": "execute_result"
    }
   ],
   "source": [
    "b[0,1] # first row and 2nd cloumns"
   ]
  },
  {
   "cell_type": "code",
   "execution_count": 51,
   "id": "e30d6197",
   "metadata": {},
   "outputs": [
    {
     "data": {
      "text/plain": [
       "34"
      ]
     },
     "execution_count": 51,
     "metadata": {},
     "output_type": "execute_result"
    }
   ],
   "source": [
    "b[1,1] # 2nd row and 2 columns element"
   ]
  },
  {
   "cell_type": "code",
   "execution_count": 52,
   "id": "66e59d42",
   "metadata": {},
   "outputs": [
    {
     "data": {
      "text/plain": [
       "array([1, 2])"
      ]
     },
     "execution_count": 52,
     "metadata": {},
     "output_type": "execute_result"
    }
   ],
   "source": [
    "# Slicing\n",
    "a[0:2] # start form 0 end befor 2 means 1"
   ]
  },
  {
   "cell_type": "code",
   "execution_count": 53,
   "id": "a9df81c7",
   "metadata": {},
   "outputs": [
    {
     "data": {
      "text/plain": [
       "[14, 53, 23, 63]"
      ]
     },
     "execution_count": 53,
     "metadata": {},
     "output_type": "execute_result"
    }
   ],
   "source": [
    "c = [7,5,9,14,53,23,63,15,17]\n",
    "c[3:7] # start from postion 3 and end befor 7 position means position no 6"
   ]
  },
  {
   "cell_type": "code",
   "execution_count": 54,
   "id": "3b510660",
   "metadata": {},
   "outputs": [
    {
     "data": {
      "text/plain": [
       "[17]"
      ]
     },
     "execution_count": 54,
     "metadata": {},
     "output_type": "execute_result"
    }
   ],
   "source": [
    "c[-1:]"
   ]
  },
  {
   "cell_type": "code",
   "execution_count": 59,
   "id": "1d7b356f",
   "metadata": {},
   "outputs": [
    {
     "data": {
      "text/plain": [
       "array([ 0.90929743, -0.7568025 ,  0.6569866 ,  0.41211849])"
      ]
     },
     "execution_count": 59,
     "metadata": {},
     "output_type": "execute_result"
    }
   ],
   "source": [
    "# MAthematical functions\n",
    "# compute the sine of each element\n",
    "a = [2,4,7,9]\n",
    "np.sin(a)"
   ]
  },
  {
   "cell_type": "code",
   "execution_count": 61,
   "id": "268795f1",
   "metadata": {},
   "outputs": [
    {
     "ename": "TypeError",
     "evalue": "must be real number, not list",
     "output_type": "error",
     "traceback": [
      "\u001b[1;31m---------------------------------------------------------------------------\u001b[0m",
      "\u001b[1;31mTypeError\u001b[0m                                 Traceback (most recent call last)",
      "Cell \u001b[1;32mIn[61], line 1\u001b[0m\n\u001b[1;32m----> 1\u001b[0m math\u001b[38;5;241m.\u001b[39msin(a)\n",
      "\u001b[1;31mTypeError\u001b[0m: must be real number, not list"
     ]
    }
   ],
   "source": [
    "# ok done. understand\n",
    "math.sin(a)"
   ]
  },
  {
   "cell_type": "code",
   "execution_count": 62,
   "id": "529ca233",
   "metadata": {},
   "outputs": [
    {
     "data": {
      "text/plain": [
       "5.5"
      ]
     },
     "execution_count": 62,
     "metadata": {},
     "output_type": "execute_result"
    }
   ],
   "source": [
    "# compute the mean of the array\n",
    "np.mean(a)"
   ]
  },
  {
   "cell_type": "markdown",
   "id": "c349a2e2",
   "metadata": {},
   "source": [
    "# Random number eneration"
   ]
  },
  {
   "cell_type": "code",
   "execution_count": 64,
   "id": "d5d530e4",
   "metadata": {},
   "outputs": [],
   "source": [
    "# Random number eneration\n",
    "random_array = np.random.rand()"
   ]
  },
  {
   "cell_type": "code",
   "execution_count": 65,
   "id": "a38087db",
   "metadata": {},
   "outputs": [
    {
     "data": {
      "text/plain": [
       "0.014190953336121082"
      ]
     },
     "execution_count": 65,
     "metadata": {},
     "output_type": "execute_result"
    }
   ],
   "source": [
    "random_array"
   ]
  },
  {
   "cell_type": "code",
   "execution_count": 67,
   "id": "ff9e2fd9",
   "metadata": {},
   "outputs": [
    {
     "data": {
      "text/plain": [
       "array([[0.37476198, 0.29299542],\n",
       "       [0.03379047, 0.98894565],\n",
       "       [0.70827219, 0.82311077]])"
      ]
     },
     "execution_count": 67,
     "metadata": {},
     "output_type": "execute_result"
    }
   ],
   "source": [
    "# generate a random array\n",
    "randomArray = np.random.rand(3,2) # 3 rows and 2 cols\n",
    "randomArray"
   ]
  },
  {
   "cell_type": "code",
   "execution_count": 68,
   "id": "776d763e",
   "metadata": {},
   "outputs": [
    {
     "data": {
      "text/plain": [
       "array([[0.54015788, 0.30880693, 0.95765811],\n",
       "       [0.0662308 , 0.53289943, 0.17211675],\n",
       "       [0.83890367, 0.11493608, 0.81604276],\n",
       "       [0.08524455, 0.53615555, 0.28311176]])"
      ]
     },
     "execution_count": 68,
     "metadata": {},
     "output_type": "execute_result"
    }
   ],
   "source": [
    "numpyarray = np.random.rand(4,3) # 4 rows and every row 3 cols\n",
    "numpyarray"
   ]
  },
  {
   "cell_type": "markdown",
   "id": "f81e4865",
   "metadata": {},
   "source": [
    "# Array Creation Functions"
   ]
  },
  {
   "cell_type": "code",
   "execution_count": 72,
   "id": "91941eee",
   "metadata": {},
   "outputs": [
    {
     "data": {
      "text/plain": [
       "array([ 3,  5,  7, 92, 56, 12, 14, 74, 48, 82, 53, 36, 62])"
      ]
     },
     "execution_count": 72,
     "metadata": {},
     "output_type": "execute_result"
    }
   ],
   "source": [
    "# np.array()\n",
    "# creates an array from a list or tuple\n",
    "a = (3,5,7,92,56,12,14,74,48,82,53,36,62)\n",
    "np.array(a)"
   ]
  },
  {
   "cell_type": "code",
   "execution_count": 75,
   "id": "26d1cc0d",
   "metadata": {},
   "outputs": [
    {
     "data": {
      "text/plain": [
       "array([0., 0., 0., 0., 0.])"
      ]
     },
     "execution_count": 75,
     "metadata": {},
     "output_type": "execute_result"
    }
   ],
   "source": [
    "# np.zeros()\n",
    "# creates an array filled with zeros\n",
    "np.zeros(5) # 1D array with 0 values"
   ]
  },
  {
   "cell_type": "code",
   "execution_count": 77,
   "id": "77f5d253",
   "metadata": {},
   "outputs": [
    {
     "data": {
      "text/plain": [
       "array([0, 1, 2, 3, 4, 5, 6, 7, 8, 9])"
      ]
     },
     "execution_count": 77,
     "metadata": {},
     "output_type": "execute_result"
    }
   ],
   "source": [
    "# np.ones()\n",
    "# Creates an array with a range of values\n",
    "np.arange(10) "
   ]
  },
  {
   "cell_type": "code",
   "execution_count": 80,
   "id": "23a8106b",
   "metadata": {},
   "outputs": [
    {
     "data": {
      "text/plain": [
       "array([5.        , 4.95918367, 4.91836735, 4.87755102, 4.83673469,\n",
       "       4.79591837, 4.75510204, 4.71428571, 4.67346939, 4.63265306,\n",
       "       4.59183673, 4.55102041, 4.51020408, 4.46938776, 4.42857143,\n",
       "       4.3877551 , 4.34693878, 4.30612245, 4.26530612, 4.2244898 ,\n",
       "       4.18367347, 4.14285714, 4.10204082, 4.06122449, 4.02040816,\n",
       "       3.97959184, 3.93877551, 3.89795918, 3.85714286, 3.81632653,\n",
       "       3.7755102 , 3.73469388, 3.69387755, 3.65306122, 3.6122449 ,\n",
       "       3.57142857, 3.53061224, 3.48979592, 3.44897959, 3.40816327,\n",
       "       3.36734694, 3.32653061, 3.28571429, 3.24489796, 3.20408163,\n",
       "       3.16326531, 3.12244898, 3.08163265, 3.04081633, 3.        ])"
      ]
     },
     "execution_count": 80,
     "metadata": {},
     "output_type": "execute_result"
    }
   ],
   "source": [
    "np.linspace(5,3)"
   ]
  },
  {
   "cell_type": "code",
   "execution_count": 81,
   "id": "688c6a91",
   "metadata": {},
   "outputs": [
    {
     "data": {
      "text/plain": [
       "array([[1., 0., 0.],\n",
       "       [0., 1., 0.],\n",
       "       [0., 0., 1.]])"
      ]
     },
     "execution_count": 81,
     "metadata": {},
     "output_type": "execute_result"
    }
   ],
   "source": [
    "# Creates an identity matix\n",
    "np.eye(3)"
   ]
  },
  {
   "cell_type": "code",
   "execution_count": 83,
   "id": "f256de95",
   "metadata": {},
   "outputs": [
    {
     "data": {
      "text/plain": [
       "array([1., 1., 1., 1.])"
      ]
     },
     "execution_count": 83,
     "metadata": {},
     "output_type": "execute_result"
    }
   ],
   "source": [
    "# create an array of ones\n",
    "np.ones(4) # 1D one array"
   ]
  },
  {
   "cell_type": "code",
   "execution_count": 84,
   "id": "e25031ec",
   "metadata": {},
   "outputs": [
    {
     "data": {
      "text/plain": [
       "array([[1., 1., 1., 1.],\n",
       "       [1., 1., 1., 1.],\n",
       "       [1., 1., 1., 1.]])"
      ]
     },
     "execution_count": 84,
     "metadata": {},
     "output_type": "execute_result"
    }
   ],
   "source": [
    "np.ones((3,4)) # 3 rows and 4 cols one array. but be careful wehn we use at a time rows and cols must be use brackets"
   ]
  },
  {
   "cell_type": "code",
   "execution_count": 85,
   "id": "c1f0988a",
   "metadata": {},
   "outputs": [
    {
     "data": {
      "text/plain": [
       "array([[0.04071774, 0.34644703, 0.60991342, 0.81032347],\n",
       "       [0.68461239, 0.47575439, 0.94080864, 0.46397478],\n",
       "       [0.66067778, 0.46372769, 0.78266171, 0.95951615]])"
      ]
     },
     "execution_count": 85,
     "metadata": {},
     "output_type": "execute_result"
    }
   ],
   "source": [
    "# Create an array with random values\n",
    "np.random.random((3,4))"
   ]
  },
  {
   "cell_type": "code",
   "execution_count": 86,
   "id": "05eec3ff",
   "metadata": {},
   "outputs": [
    {
     "data": {
      "text/plain": [
       "array([0.71261514, 0.4100203 , 0.2709024 ])"
      ]
     },
     "execution_count": 86,
     "metadata": {},
     "output_type": "execute_result"
    }
   ],
   "source": [
    "np.random.rand(3)"
   ]
  },
  {
   "cell_type": "code",
   "execution_count": 87,
   "id": "1a0766e0",
   "metadata": {},
   "outputs": [
    {
     "data": {
      "text/plain": [
       "array([[0.81858104, 0.2898834 , 0.82944043],\n",
       "       [0.98736481, 0.64086756, 0.57519253],\n",
       "       [0.86073103, 0.6409102 , 0.01439696]])"
      ]
     },
     "execution_count": 87,
     "metadata": {},
     "output_type": "execute_result"
    }
   ],
   "source": [
    "np.random.rand(3,3)"
   ]
  },
  {
   "cell_type": "markdown",
   "id": "978c2d8b",
   "metadata": {},
   "source": [
    "# Array Manipulation Functions"
   ]
  },
  {
   "cell_type": "code",
   "execution_count": 88,
   "id": "97d04632",
   "metadata": {},
   "outputs": [
    {
     "data": {
      "text/plain": [
       "array([[0.17352813, 0.63148151, 0.02118556, 0.91922572],\n",
       "       [0.83755881, 0.73862827, 0.68355033, 0.06008455],\n",
       "       [0.74094753, 0.21872148, 0.20368803, 0.33457317]])"
      ]
     },
     "execution_count": 88,
     "metadata": {},
     "output_type": "execute_result"
    }
   ],
   "source": [
    "# reshape an array without changing it s data\n",
    "# np.reshape()\n",
    "randomarray = np.random.rand(3,4) # 3 rows and 4 cols\n",
    "randomarray"
   ]
  },
  {
   "cell_type": "code",
   "execution_count": 92,
   "id": "f67adac4",
   "metadata": {},
   "outputs": [
    {
     "data": {
      "text/plain": [
       "array([[0.17352813, 0.63148151, 0.02118556],\n",
       "       [0.91922572, 0.83755881, 0.73862827],\n",
       "       [0.68355033, 0.06008455, 0.74094753],\n",
       "       [0.21872148, 0.20368803, 0.33457317]])"
      ]
     },
     "execution_count": 92,
     "metadata": {},
     "output_type": "execute_result"
    }
   ],
   "source": [
    "np.reshape(randomarray,(4,3)) #  4 rows and 3 cols"
   ]
  },
  {
   "cell_type": "code",
   "execution_count": 96,
   "id": "7c36236a",
   "metadata": {},
   "outputs": [
    {
     "data": {
      "text/plain": [
       "array([[0, 1, 2, 3, 4],\n",
       "       [5, 6, 7, 8, 9]])"
      ]
     },
     "execution_count": 96,
     "metadata": {},
     "output_type": "execute_result"
    }
   ],
   "source": [
    "np.reshape(np.arange(10),(2,5))"
   ]
  },
  {
   "cell_type": "code",
   "execution_count": 99,
   "id": "fb680f56",
   "metadata": {},
   "outputs": [
    {
     "data": {
      "text/plain": [
       "array([0.17352813, 0.63148151, 0.02118556, 0.91922572, 0.83755881,\n",
       "       0.73862827, 0.68355033, 0.06008455, 0.74094753, 0.21872148,\n",
       "       0.20368803, 0.33457317])"
      ]
     },
     "execution_count": 99,
     "metadata": {},
     "output_type": "execute_result"
    }
   ],
   "source": [
    "# Flattens a multi-dimensional array into 1D array\n",
    "randomarray.flatten()"
   ]
  },
  {
   "cell_type": "code",
   "execution_count": 102,
   "id": "27f7cf7e",
   "metadata": {},
   "outputs": [
    {
     "data": {
      "text/plain": [
       "array([[0.60772731, 0.5560407 , 0.67099771, 0.00096225],\n",
       "       [0.12793552, 0.27038564, 0.42825945, 0.11707321],\n",
       "       [0.60266086, 0.10882042, 0.9524474 , 0.87153134],\n",
       "       [0.27621554, 0.51053248, 0.35659609, 0.29201813],\n",
       "       [0.34087795, 0.26596059, 0.2710172 , 0.22640389],\n",
       "       [0.19907391, 0.61693443, 0.6144197 , 0.6313069 ],\n",
       "       [0.19976571, 0.56163509, 0.88338379, 0.66092495],\n",
       "       [0.60508169, 0.26418894, 0.88374486, 0.31100008],\n",
       "       [0.51443322, 0.49366355, 0.4828785 , 0.3388596 ]])"
      ]
     },
     "execution_count": 102,
     "metadata": {},
     "output_type": "execute_result"
    }
   ],
   "source": [
    "# Joins two or more array along an existing axis\n",
    "a = np.random.rand(3,4)\n",
    "b = np.random.rand(3,4)\n",
    "c = np.random.rand(3,4)\n",
    "np.concatenate((a,b,c), axis=0)"
   ]
  },
  {
   "cell_type": "code",
   "execution_count": 103,
   "id": "c2724621",
   "metadata": {},
   "outputs": [
    {
     "data": {
      "text/plain": [
       "array([[0.60772731, 0.5560407 , 0.67099771, 0.00096225, 0.27621554,\n",
       "        0.51053248, 0.35659609, 0.29201813, 0.19976571, 0.56163509,\n",
       "        0.88338379, 0.66092495],\n",
       "       [0.12793552, 0.27038564, 0.42825945, 0.11707321, 0.34087795,\n",
       "        0.26596059, 0.2710172 , 0.22640389, 0.60508169, 0.26418894,\n",
       "        0.88374486, 0.31100008],\n",
       "       [0.60266086, 0.10882042, 0.9524474 , 0.87153134, 0.19907391,\n",
       "        0.61693443, 0.6144197 , 0.6313069 , 0.51443322, 0.49366355,\n",
       "        0.4828785 , 0.3388596 ]])"
      ]
     },
     "execution_count": 103,
     "metadata": {},
     "output_type": "execute_result"
    }
   ],
   "source": [
    "np.concatenate((a,b,c), axis=1)"
   ]
  },
  {
   "cell_type": "code",
   "execution_count": 108,
   "id": "613caa4f",
   "metadata": {},
   "outputs": [
    {
     "data": {
      "text/plain": [
       "[array([[0.60772731, 0.5560407 , 0.67099771, 0.00096225],\n",
       "        [0.12793552, 0.27038564, 0.42825945, 0.11707321]]),\n",
       " array([[0.60266086, 0.10882042, 0.9524474 , 0.87153134]]),\n",
       " array([], shape=(0, 4), dtype=float64)]"
      ]
     },
     "execution_count": 108,
     "metadata": {},
     "output_type": "execute_result"
    }
   ],
   "source": [
    "# Splits an array into multiple sub-arrays\n",
    "np.split(a,[2,3])"
   ]
  },
  {
   "cell_type": "code",
   "execution_count": 109,
   "id": "0c6d28f9",
   "metadata": {},
   "outputs": [
    {
     "data": {
      "text/plain": [
       "array([0.60772731, 0.5560407 , 0.67099771, 0.00096225, 0.12793552,\n",
       "       0.27038564, 0.42825945, 0.11707321, 0.60266086, 0.10882042,\n",
       "       0.9524474 , 0.87153134])"
      ]
     },
     "execution_count": 109,
     "metadata": {},
     "output_type": "execute_result"
    }
   ],
   "source": [
    "# Stacks arrays in sequence horizontally ( column-wise)\n",
    "np.hstack(a)"
   ]
  },
  {
   "cell_type": "code",
   "execution_count": 110,
   "id": "a2eaf605",
   "metadata": {},
   "outputs": [
    {
     "data": {
      "text/plain": [
       "array([[0.60772731, 0.5560407 , 0.67099771, 0.00096225],\n",
       "       [0.12793552, 0.27038564, 0.42825945, 0.11707321],\n",
       "       [0.60266086, 0.10882042, 0.9524474 , 0.87153134]])"
      ]
     },
     "execution_count": 110,
     "metadata": {},
     "output_type": "execute_result"
    }
   ],
   "source": [
    "np.vstack(a)"
   ]
  },
  {
   "cell_type": "code",
   "execution_count": 112,
   "id": "95f48d5c",
   "metadata": {},
   "outputs": [
    {
     "data": {
      "text/plain": [
       "array([4, 8])"
      ]
     },
     "execution_count": 112,
     "metadata": {},
     "output_type": "execute_result"
    }
   ],
   "source": [
    "x = np.arange(4,10,4)\n",
    "x"
   ]
  },
  {
   "cell_type": "code",
   "execution_count": 117,
   "id": "96e0a70c",
   "metadata": {},
   "outputs": [
    {
     "data": {
      "text/plain": [
       "array([[0.71326384, 0.16452496, 0.0284465 ],\n",
       "       [0.98018796, 0.37258208, 0.71648393],\n",
       "       [0.25149381, 0.39696608, 0.21714821]])"
      ]
     },
     "execution_count": 117,
     "metadata": {},
     "output_type": "execute_result"
    }
   ],
   "source": [
    "add = np.random.rand(3,3)\n",
    "add"
   ]
  },
  {
   "cell_type": "markdown",
   "id": "182fefe5",
   "metadata": {},
   "source": [
    "# MAthematical Operations"
   ]
  },
  {
   "cell_type": "code",
   "execution_count": 118,
   "id": "7d924971",
   "metadata": {},
   "outputs": [
    {
     "data": {
      "text/plain": [
       "array([[1.42652767, 0.32904992, 0.05689299],\n",
       "       [1.96037593, 0.74516416, 1.43296787],\n",
       "       [0.50298762, 0.79393215, 0.43429642]])"
      ]
     },
     "execution_count": 118,
     "metadata": {},
     "output_type": "execute_result"
    }
   ],
   "source": [
    "# Element wise addition\n",
    "np.add(add,add)"
   ]
  },
  {
   "cell_type": "code",
   "execution_count": 119,
   "id": "71f15250",
   "metadata": {},
   "outputs": [
    {
     "data": {
      "text/plain": [
       "array([[0., 0., 0.],\n",
       "       [0., 0., 0.],\n",
       "       [0., 0., 0.]])"
      ]
     },
     "execution_count": 119,
     "metadata": {},
     "output_type": "execute_result"
    }
   ],
   "source": [
    "# Element wise subtraction of array\n",
    "np.subtract(add,add)"
   ]
  },
  {
   "cell_type": "code",
   "execution_count": 120,
   "id": "9ef59a96",
   "metadata": {},
   "outputs": [
    {
     "data": {
      "text/plain": [
       "array([[5.08745299e-01, 2.70684618e-02, 8.09203145e-04],\n",
       "       [9.60768444e-01, 1.38817405e-01, 5.13349229e-01],\n",
       "       [6.32491362e-02, 1.57582066e-01, 4.71533452e-02]])"
      ]
     },
     "execution_count": 120,
     "metadata": {},
     "output_type": "execute_result"
    }
   ],
   "source": [
    "# Element wise multiplication of array\n",
    "np.multiply(add,add)"
   ]
  },
  {
   "cell_type": "code",
   "execution_count": 121,
   "id": "fd269eeb",
   "metadata": {},
   "outputs": [
    {
     "data": {
      "text/plain": [
       "array([[1., 1., 1.],\n",
       "       [1., 1., 1.],\n",
       "       [1., 1., 1.]])"
      ]
     },
     "execution_count": 121,
     "metadata": {},
     "output_type": "execute_result"
    }
   ],
   "source": [
    "# Element wise divide\n",
    "np.divide(add,add)"
   ]
  },
  {
   "cell_type": "code",
   "execution_count": 122,
   "id": "f9dfa9a2",
   "metadata": {},
   "outputs": [
    {
     "data": {
      "text/plain": [
       "array([[0.6771648 , 0.18994105, 0.14434645],\n",
       "       [1.24452437, 0.58450261, 0.45041519],\n",
       "       [0.62309424, 0.27547993, 0.33872728]])"
      ]
     },
     "execution_count": 122,
     "metadata": {},
     "output_type": "execute_result"
    }
   ],
   "source": [
    "# Dot products of two array\n",
    "np.dot(add,add)"
   ]
  },
  {
   "cell_type": "code",
   "execution_count": 123,
   "id": "cf102d10",
   "metadata": {},
   "outputs": [
    {
     "data": {
      "text/plain": [
       "0.42678859584744294"
      ]
     },
     "execution_count": 123,
     "metadata": {},
     "output_type": "execute_result"
    }
   ],
   "source": [
    "# Mean of array elements along a given axis\n",
    "np.mean(add)"
   ]
  },
  {
   "cell_type": "code",
   "execution_count": 124,
   "id": "3b7685f8",
   "metadata": {},
   "outputs": [
    {
     "data": {
      "text/plain": [
       "0.2940532906125735"
      ]
     },
     "execution_count": 124,
     "metadata": {},
     "output_type": "execute_result"
    }
   ],
   "source": [
    "# STD of array elements along a given axis\n",
    "np.std(add)"
   ]
  },
  {
   "cell_type": "code",
   "execution_count": 125,
   "id": "07022253",
   "metadata": {},
   "outputs": [
    {
     "data": {
      "text/plain": [
       "0.3725820785261488"
      ]
     },
     "execution_count": 125,
     "metadata": {},
     "output_type": "execute_result"
    }
   ],
   "source": [
    "# Median of array elements along a given axis\n",
    "np.median(add)"
   ]
  },
  {
   "cell_type": "code",
   "execution_count": 126,
   "id": "8e06eb34",
   "metadata": {},
   "outputs": [
    {
     "data": {
      "text/plain": [
       "0.08646733772008262"
      ]
     },
     "execution_count": 126,
     "metadata": {},
     "output_type": "execute_result"
    }
   ],
   "source": [
    "# Variance of array elements along a given axis\n",
    "np.var(add)"
   ]
  },
  {
   "cell_type": "markdown",
   "id": "c9791f8f",
   "metadata": {},
   "source": [
    "# Linear Algebra Functions"
   ]
  },
  {
   "cell_type": "code",
   "execution_count": 130,
   "id": "763658d2",
   "metadata": {},
   "outputs": [
    {
     "data": {
      "text/plain": [
       "array([[0.77743368, 0.9611942 ],\n",
       "       [0.22157658, 0.13805088],\n",
       "       [0.83058843, 0.34015721],\n",
       "       [0.11349097, 0.92300526]])"
      ]
     },
     "execution_count": 130,
     "metadata": {},
     "output_type": "execute_result"
    }
   ],
   "source": [
    "# computs the inverse of a matrix\n",
    "matrics = np.random.rand(4,2) # 4 rows and 2 cols\n",
    "matrics"
   ]
  },
  {
   "cell_type": "code",
   "execution_count": 132,
   "id": "26c13ed7",
   "metadata": {},
   "outputs": [
    {
     "ename": "LinAlgError",
     "evalue": "Last 2 dimensions of the array must be square",
     "output_type": "error",
     "traceback": [
      "\u001b[1;31m---------------------------------------------------------------------------\u001b[0m",
      "\u001b[1;31mLinAlgError\u001b[0m                               Traceback (most recent call last)",
      "Cell \u001b[1;32mIn[132], line 1\u001b[0m\n\u001b[1;32m----> 1\u001b[0m np\u001b[38;5;241m.\u001b[39mlinalg\u001b[38;5;241m.\u001b[39minv(matrics)\n",
      "File \u001b[1;32m<__array_function__ internals>:200\u001b[0m, in \u001b[0;36minv\u001b[1;34m(*args, **kwargs)\u001b[0m\n",
      "File \u001b[1;32m~\\anaconda3\\Lib\\site-packages\\numpy\\linalg\\linalg.py:533\u001b[0m, in \u001b[0;36minv\u001b[1;34m(a)\u001b[0m\n\u001b[0;32m    531\u001b[0m a, wrap \u001b[38;5;241m=\u001b[39m _makearray(a)\n\u001b[0;32m    532\u001b[0m _assert_stacked_2d(a)\n\u001b[1;32m--> 533\u001b[0m _assert_stacked_square(a)\n\u001b[0;32m    534\u001b[0m t, result_t \u001b[38;5;241m=\u001b[39m _commonType(a)\n\u001b[0;32m    536\u001b[0m signature \u001b[38;5;241m=\u001b[39m \u001b[38;5;124m'\u001b[39m\u001b[38;5;124mD->D\u001b[39m\u001b[38;5;124m'\u001b[39m \u001b[38;5;28;01mif\u001b[39;00m isComplexType(t) \u001b[38;5;28;01melse\u001b[39;00m \u001b[38;5;124m'\u001b[39m\u001b[38;5;124md->d\u001b[39m\u001b[38;5;124m'\u001b[39m\n",
      "File \u001b[1;32m~\\anaconda3\\Lib\\site-packages\\numpy\\linalg\\linalg.py:190\u001b[0m, in \u001b[0;36m_assert_stacked_square\u001b[1;34m(*arrays)\u001b[0m\n\u001b[0;32m    188\u001b[0m m, n \u001b[38;5;241m=\u001b[39m a\u001b[38;5;241m.\u001b[39mshape[\u001b[38;5;241m-\u001b[39m\u001b[38;5;241m2\u001b[39m:]\n\u001b[0;32m    189\u001b[0m \u001b[38;5;28;01mif\u001b[39;00m m \u001b[38;5;241m!=\u001b[39m n:\n\u001b[1;32m--> 190\u001b[0m     \u001b[38;5;28;01mraise\u001b[39;00m LinAlgError(\u001b[38;5;124m'\u001b[39m\u001b[38;5;124mLast 2 dimensions of the array must be square\u001b[39m\u001b[38;5;124m'\u001b[39m)\n",
      "\u001b[1;31mLinAlgError\u001b[0m: Last 2 dimensions of the array must be square"
     ]
    }
   ],
   "source": [
    "np.linalg.inv(matrics)"
   ]
  },
  {
   "cell_type": "code",
   "execution_count": 134,
   "id": "2481376e",
   "metadata": {},
   "outputs": [
    {
     "data": {
      "text/plain": [
       "array([[0.97513058, 0.33172409, 0.45406196, 0.62339373],\n",
       "       [0.71933181, 0.12267259, 0.00907457, 0.70512412],\n",
       "       [0.87073922, 0.49976913, 0.59560271, 0.67724733],\n",
       "       [0.31942087, 0.07986327, 0.96491748, 0.38520752]])"
      ]
     },
     "execution_count": 134,
     "metadata": {},
     "output_type": "execute_result"
    }
   ],
   "source": [
    "matrics = np.random.rand(4,4) # for invers matrics must be square matrics\n",
    "matrics"
   ]
  },
  {
   "cell_type": "code",
   "execution_count": 135,
   "id": "7b2365d4",
   "metadata": {},
   "outputs": [
    {
     "data": {
      "text/plain": [
       "array([[ 4.11925158, -1.09716866, -2.3927734 , -0.45112335],\n",
       "       [-2.47546804, -1.01531861,  4.11108006, -1.36316419],\n",
       "       [ 0.3487307 , -0.63955574, -0.23834498,  1.02539055],\n",
       "       [-3.77607447,  2.72233456,  1.72883615,  0.68417071]])"
      ]
     },
     "execution_count": 135,
     "metadata": {},
     "output_type": "execute_result"
    }
   ],
   "source": [
    "np.linalg.inv(matrics)"
   ]
  },
  {
   "cell_type": "code",
   "execution_count": 136,
   "id": "871ec907",
   "metadata": {},
   "outputs": [
    {
     "data": {
      "text/plain": [
       "(array([ 2.17471951+0.j        ,  0.19569217+0.j        ,\n",
       "        -0.14589915+0.35093908j, -0.14589915-0.35093908j]),\n",
       " array([[-0.55745777+0.j        ,  0.68041165+0.j        ,\n",
       "          0.02848628-0.12871389j,  0.02848628+0.12871389j],\n",
       "        [-0.35038305+0.j        , -0.1652609 +0.j        ,\n",
       "          0.7228289 +0.j        ,  0.7228289 -0.j        ],\n",
       "        [-0.60834128+0.j        , -0.07205297+0.j        ,\n",
       "         -0.08249772-0.34040389j, -0.08249772+0.34040389j],\n",
       "        [-0.443163  +0.j        , -0.71030781+0.j        ,\n",
       "         -0.30331378+0.49543891j, -0.30331378-0.49543891j]]))"
      ]
     },
     "execution_count": 136,
     "metadata": {},
     "output_type": "execute_result"
    }
   ],
   "source": [
    "# computes the eignevalues and eignevectors of a matix\n",
    "np.linalg.eig(matrics)"
   ]
  },
  {
   "cell_type": "code",
   "execution_count": 137,
   "id": "2d2dbd59",
   "metadata": {},
   "outputs": [
    {
     "data": {
      "text/plain": [
       "0.06147217897717309"
      ]
     },
     "execution_count": 137,
     "metadata": {},
     "output_type": "execute_result"
    }
   ],
   "source": [
    "# computes the determinent of a matix\n",
    "np.linalg.det(matrics)"
   ]
  },
  {
   "cell_type": "code",
   "execution_count": 138,
   "id": "ef1911fe",
   "metadata": {},
   "outputs": [
    {
     "data": {
      "text/plain": [
       "(array([[-0.57109316, -0.17308357,  0.21889859,  0.77199617],\n",
       "        [-0.40092601, -0.55526691, -0.69319909, -0.22452621],\n",
       "        [-0.60032316,  0.0059584 ,  0.53497893, -0.59445281],\n",
       "        [-0.39079795,  0.81344037, -0.43052988,  0.01535437]]),\n",
       " array([2.23125688, 0.79066653, 0.27351886, 0.12739383]),\n",
       " array([[-0.6690593 , -0.25539927, -0.44709858, -0.5359419 ],\n",
       "        [-0.38345141, -0.07283751,  0.89142788, -0.23025213],\n",
       "        [ 0.15765447,  0.8063789 , -0.01348303, -0.56983887],\n",
       "        [ 0.61682229, -0.52841175,  0.07264568, -0.57882113]]))"
      ]
     },
     "execution_count": 138,
     "metadata": {},
     "output_type": "execute_result"
    }
   ],
   "source": [
    "# computes the singular value decomposition of a matix\n",
    "np.linalg.svd(matrics)"
   ]
  },
  {
   "cell_type": "code",
   "execution_count": 141,
   "id": "11ee0a2c",
   "metadata": {},
   "outputs": [
    {
     "data": {
      "text/plain": [
       "array([[ 1.00000000e+00, -5.69268902e-17,  0.00000000e+00,\n",
       "         0.00000000e+00],\n",
       "       [-8.73764830e-17,  1.00000000e+00,  0.00000000e+00,\n",
       "         0.00000000e+00],\n",
       "       [ 4.75627301e-18, -5.88826547e-18,  1.00000000e+00,\n",
       "         0.00000000e+00],\n",
       "       [ 7.48797970e-17,  4.80722981e-17, -1.85257694e-17,\n",
       "         1.00000000e+00]])"
      ]
     },
     "execution_count": 141,
     "metadata": {},
     "output_type": "execute_result"
    }
   ],
   "source": [
    "# Solve a linear matrix equation\n",
    "np.linalg.solve(matrics,matrics)"
   ]
  },
  {
   "cell_type": "markdown",
   "id": "d962a477",
   "metadata": {},
   "source": [
    "# Solving a system of Linear Equations"
   ]
  },
  {
   "cell_type": "code",
   "execution_count": 142,
   "id": "cdd30bd0",
   "metadata": {},
   "outputs": [
    {
     "data": {
      "text/plain": [
       "array([1.3, 0.8])"
      ]
     },
     "execution_count": 142,
     "metadata": {},
     "output_type": "execute_result"
    }
   ],
   "source": [
    "a = np.array([[2,3],[4,1]])\n",
    "#x = np.array([x,y])\n",
    "b = np.array([5,6])\n",
    "x = np.linalg.solve(a,b)\n",
    "x"
   ]
  },
  {
   "cell_type": "markdown",
   "id": "b4299969",
   "metadata": {},
   "source": [
    "# Numpy Modules woth Pandas DataFrame"
   ]
  },
  {
   "cell_type": "code",
   "execution_count": 143,
   "id": "6d3bad6c",
   "metadata": {},
   "outputs": [],
   "source": [
    "import numpy as np"
   ]
  },
  {
   "cell_type": "markdown",
   "id": "e40a5d3b",
   "metadata": {},
   "source": [
    "### 1. Compute the sum, mean and standard deviation of a 2D array created from np.random.randn(4,4)"
   ]
  },
  {
   "cell_type": "code",
   "execution_count": 144,
   "id": "912b2ab0",
   "metadata": {},
   "outputs": [
    {
     "data": {
      "text/plain": [
       "array([[ 1.62117471,  0.10591548, -0.33662562,  0.59980284],\n",
       "       [-0.20930809, -0.24939246,  0.60369192,  1.00380895],\n",
       "       [ 0.75448457, -0.12450249, -0.41763911, -0.24192165],\n",
       "       [ 0.19676898,  0.64303069,  1.61229084,  1.97007482]])"
      ]
     },
     "execution_count": 144,
     "metadata": {},
     "output_type": "execute_result"
    }
   ],
   "source": [
    "array = np.random.randn(4,4)\n",
    "array"
   ]
  },
  {
   "cell_type": "code",
   "execution_count": 145,
   "id": "4ec27834",
   "metadata": {},
   "outputs": [
    {
     "data": {
      "text/plain": [
       "7.531654372786506"
      ]
     },
     "execution_count": 145,
     "metadata": {},
     "output_type": "execute_result"
    }
   ],
   "source": [
    "# sum \n",
    "np.sum(array)"
   ]
  },
  {
   "cell_type": "code",
   "execution_count": 146,
   "id": "ee3da92a",
   "metadata": {},
   "outputs": [
    {
     "data": {
      "text/plain": [
       "0.47072839829915664"
      ]
     },
     "execution_count": 146,
     "metadata": {},
     "output_type": "execute_result"
    }
   ],
   "source": [
    "# mean\n",
    "np.mean(array)"
   ]
  },
  {
   "cell_type": "code",
   "execution_count": 147,
   "id": "7d2912cb",
   "metadata": {},
   "outputs": [
    {
     "data": {
      "text/plain": [
       "0.7414430354661847"
      ]
     },
     "execution_count": 147,
     "metadata": {},
     "output_type": "execute_result"
    }
   ],
   "source": [
    "# Standard Deviation\n",
    "np.std(array)"
   ]
  },
  {
   "cell_type": "markdown",
   "id": "f87baeb8",
   "metadata": {},
   "source": [
    "### 2. Compute the system of linear equations\n",
    "3x + 2y = 5 <br>\n",
    "x - y = 1"
   ]
  },
  {
   "cell_type": "code",
   "execution_count": 148,
   "id": "30ffa326",
   "metadata": {},
   "outputs": [
    {
     "data": {
      "text/plain": [
       "array([1.4, 0.4])"
      ]
     },
     "execution_count": 148,
     "metadata": {},
     "output_type": "execute_result"
    }
   ],
   "source": [
    "A = np.array([[3,2],[1,-1]])\n",
    "b = np.array([5,1])\n",
    "x = np.linalg.solve(A,b)\n",
    "x"
   ]
  },
  {
   "cell_type": "markdown",
   "id": "96af9f6b",
   "metadata": {},
   "source": [
    "### 3. Compute the inverse of the matrix"
   ]
  },
  {
   "cell_type": "code",
   "execution_count": 149,
   "id": "7a9650ee",
   "metadata": {},
   "outputs": [
    {
     "data": {
      "text/plain": [
       "array([[ 0.  ,  0.5 ],\n",
       "       [ 0.5 , -0.25]])"
      ]
     },
     "execution_count": 149,
     "metadata": {},
     "output_type": "execute_result"
    }
   ],
   "source": [
    "inversematirx = np.array([[1,2],[2,0]])\n",
    "np.linalg.inv(inversematirx)"
   ]
  },
  {
   "cell_type": "markdown",
   "id": "ccb3b7b5",
   "metadata": {},
   "source": [
    "### 4. Find the eigenvalues and eignevectors of the matix"
   ]
  },
  {
   "cell_type": "code",
   "execution_count": 150,
   "id": "0aac5e59",
   "metadata": {},
   "outputs": [
    {
     "data": {
      "text/plain": [
       "(array([2., 3.]),\n",
       " array([[1., 0.],\n",
       "        [0., 1.]]))"
      ]
     },
     "execution_count": 150,
     "metadata": {},
     "output_type": "execute_result"
    }
   ],
   "source": [
    "eigenvalue = np.array([[2,0],[0,3]])\n",
    "np.linalg.eig(eigenvalue)"
   ]
  },
  {
   "cell_type": "markdown",
   "id": "77dd6e79",
   "metadata": {},
   "source": [
    "### 5 Generate an array of 10 random integers between 1 and 100"
   ]
  },
  {
   "cell_type": "code",
   "execution_count": 161,
   "id": "0326851b",
   "metadata": {},
   "outputs": [
    {
     "data": {
      "text/plain": [
       "array([ 1, 11, 21, 31, 41, 51, 61, 71, 81, 91])"
      ]
     },
     "execution_count": 161,
     "metadata": {},
     "output_type": "execute_result"
    }
   ],
   "source": [
    "randomarray = np.arange(1,100,10)\n",
    "randomarray"
   ]
  },
  {
   "cell_type": "code",
   "execution_count": 165,
   "id": "1afba50d",
   "metadata": {},
   "outputs": [
    {
     "data": {
      "text/plain": [
       "array([[-0.44116856, -0.80084584, -0.03610492, -0.88255311, -1.78479659],\n",
       "       [-1.27928555, -0.13308323, -0.633759  ,  1.18425924, -0.75115263],\n",
       "       [-0.59510122,  0.69766676,  0.13186088, -0.09172636, -1.89750911],\n",
       "       [ 0.62087881,  0.57485969,  0.27282648, -0.52155995, -1.14790953],\n",
       "       [ 0.15172856, -0.84591278, -0.26925762, -0.66391801, -0.26891407]])"
      ]
     },
     "execution_count": 165,
     "metadata": {},
     "output_type": "execute_result"
    }
   ],
   "source": [
    "mean = 0 \n",
    "std = 1 \n",
    "randomNum = np.random.normal(loc=mean, scale=std, size=(5, 5))\n",
    "randomNum\n"
   ]
  },
  {
   "cell_type": "code",
   "execution_count": null,
   "id": "ea1bcb80",
   "metadata": {},
   "outputs": [],
   "source": []
  }
 ],
 "metadata": {
  "kernelspec": {
   "display_name": "Python 3 (ipykernel)",
   "language": "python",
   "name": "python3"
  },
  "language_info": {
   "codemirror_mode": {
    "name": "ipython",
    "version": 3
   },
   "file_extension": ".py",
   "mimetype": "text/x-python",
   "name": "python",
   "nbconvert_exporter": "python",
   "pygments_lexer": "ipython3",
   "version": "3.11.5"
  }
 },
 "nbformat": 4,
 "nbformat_minor": 5
}
