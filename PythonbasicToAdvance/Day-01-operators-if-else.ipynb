{
 "cells": [
  {
   "cell_type": "markdown",
   "metadata": {},
   "source": [
    "####  Python Operators + if-else + Loops \n",
    "● Python Operators <br>\n",
    "● Python if-else <br>\n",
    "● Python Modules <br>\n",
    "● Python While Loop  <br>\n",
    "● Python for loop <br>\n",
    "● Examples"
   ]
  },
  {
   "cell_type": "code",
   "execution_count": 1,
   "metadata": {},
   "outputs": [
    {
     "data": {
      "text/plain": [
       "20"
      ]
     },
     "execution_count": 1,
     "metadata": {},
     "output_type": "execute_result"
    }
   ],
   "source": [
    "10+10"
   ]
  },
  {
   "cell_type": "markdown",
   "metadata": {},
   "source": [
    "#### Operators in Python\n",
    "Arithmetic Operators <br>\n",
    "Relational Operators <br>\n",
    "Logical Operators <br>\n",
    "Bitwise Operators <br>\n",
    "Assignment Operators <br>\n",
    "Membership Operators <br>"
   ]
  },
  {
   "cell_type": "code",
   "execution_count": 3,
   "metadata": {},
   "outputs": [
    {
     "name": "stdout",
     "output_type": "stream",
     "text": [
      "14\n",
      "6\n",
      "40\n",
      "2.5\n",
      "3\n",
      "2\n"
     ]
    }
   ],
   "source": [
    "# arithematic operators: +,-,*,/,//,%\n",
    "print(10+4) # add \n",
    "print(10-4) # subtract\n",
    "print(10*4) # multiple\n",
    "print(10/4) # divide\n",
    "print(15//4) # integer division\n",
    "print(10%4) # reminder "
   ]
  },
  {
   "cell_type": "code",
   "execution_count": 4,
   "metadata": {},
   "outputs": [
    {
     "name": "stdout",
     "output_type": "stream",
     "text": [
      "True\n",
      "False\n",
      "True\n",
      "True\n",
      "True\n",
      "False\n"
     ]
    }
   ],
   "source": [
    "# relational operators: <,>, ==, !, <=, >=: amswer will be tru or false type\n",
    "print(5>1) # grater than\n",
    "print(5<1) # less than\n",
    "print(5==5) # equal equal\n",
    "print(5!=1) # not equal\n",
    "print(5>=1) # greater than or equal\n",
    "print(5<=1) # less than or equal"
   ]
  },
  {
   "cell_type": "code",
   "execution_count": 5,
   "metadata": {},
   "outputs": [
    {
     "name": "stdout",
     "output_type": "stream",
     "text": [
      "4\n",
      "5\n",
      "False\n"
     ]
    }
   ],
   "source": [
    "# logical operator: and or not\n",
    "print(5 and 4)\n",
    "print(5 or 4)\n",
    "print( not 4)"
   ]
  },
  {
   "cell_type": "markdown",
   "metadata": {},
   "source": [
    "#### Bitwise opearators:\n",
    "\n",
    "& ==> AND\tSets each bit to 1 if both bits are 1 <br>\n",
    "| ==> OR\tSets each bit to 1 if one of two bits is 1<br>\n",
    "^ ==> XOR\tSets each bit to 1 if only one of two bits is 1<br>\n",
    "~  ==> NOT\tInverts all the bits<br>\n",
    "<< ==> Zero fill left shift\tShift left by pushing zeros in from the right and let the leftmost bits fall off<br>\n",
    ">>  ==> Signed right shift\tShift right by pushing copies of the leftmost bit in from the left, and let the rightmost bits fall off"
   ]
  },
  {
   "cell_type": "code",
   "execution_count": null,
   "metadata": {},
   "outputs": [
    {
     "name": "stdout",
     "output_type": "stream",
     "text": [
      "1\n",
      "7\n",
      "6\n",
      "-7\n",
      "1\n",
      "20\n"
     ]
    }
   ],
   "source": [
    "# Bitwise Operators: \n",
    "# bitwise and\n",
    "print(5 & 3)\n",
    "# bitwise or\n",
    "print(4 | 3)\n",
    "# bitwise xor\n",
    "print(5 ^ 3)\n",
    "print(~6)\n",
    "print(4 >> 2)\n",
    "print(5 << 2)"
   ]
  },
  {
   "cell_type": "code",
   "execution_count": 7,
   "metadata": {},
   "outputs": [
    {
     "name": "stdout",
     "output_type": "stream",
     "text": [
      "0\n"
     ]
    }
   ],
   "source": [
    "# Assignment Operators\n",
    "# =\n",
    "# a = 2\n",
    "a = 2\n",
    "# a = a % 2\n",
    "a %= 2\n",
    "# a++ ++a\n",
    "print(a)"
   ]
  },
  {
   "cell_type": "code",
   "execution_count": 8,
   "metadata": {},
   "outputs": [
    {
     "name": "stdout",
     "output_type": "stream",
     "text": [
      "False\n",
      "False\n"
     ]
    }
   ],
   "source": [
    "# Membership Operators\n",
    "\n",
    "# in/not in\n",
    "\n",
    "print('D' not in 'Delhi')\n",
    "\n",
    "print(1 in [2,3,4,5,6])"
   ]
  },
  {
   "cell_type": "code",
   "execution_count": null,
   "metadata": {},
   "outputs": [],
   "source": []
  }
 ],
 "metadata": {
  "kernelspec": {
   "display_name": "Python 3",
   "language": "python",
   "name": "python3"
  },
  "language_info": {
   "codemirror_mode": {
    "name": "ipython",
    "version": 3
   },
   "file_extension": ".py",
   "mimetype": "text/x-python",
   "name": "python",
   "nbconvert_exporter": "python",
   "pygments_lexer": "ipython3",
   "version": "3.12.1"
  }
 },
 "nbformat": 4,
 "nbformat_minor": 2
}
