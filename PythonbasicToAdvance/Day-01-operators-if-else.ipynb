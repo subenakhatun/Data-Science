{
 "cells": [
  {
   "cell_type": "markdown",
   "metadata": {},
   "source": [
    "####  Python Operators + if-else + Loops \n",
    "● Python Operators <br>\n",
    "● Python if-else <br>\n",
    "● Python Modules <br>\n",
    "● Python While Loop  <br>\n",
    "● Python for loop <br>\n",
    "● Examples"
   ]
  },
  {
   "cell_type": "code",
   "execution_count": 1,
   "metadata": {},
   "outputs": [
    {
     "data": {
      "text/plain": [
       "20"
      ]
     },
     "execution_count": 1,
     "metadata": {},
     "output_type": "execute_result"
    }
   ],
   "source": [
    "10+10"
   ]
  },
  {
   "cell_type": "markdown",
   "metadata": {},
   "source": [
    "#### Operators in Python\n",
    "Arithmetic Operators <br>\n",
    "Relational Operators <br>\n",
    "Logical Operators <br>\n",
    "Bitwise Operators <br>\n",
    "Assignment Operators <br>\n",
    "Membership Operators <br>"
   ]
  },
  {
   "cell_type": "code",
   "execution_count": 3,
   "metadata": {},
   "outputs": [
    {
     "name": "stdout",
     "output_type": "stream",
     "text": [
      "14\n",
      "6\n",
      "40\n",
      "2.5\n",
      "3\n",
      "2\n"
     ]
    }
   ],
   "source": [
    "# arithematic operators: +,-,*,/,//,%\n",
    "print(10+4) # add \n",
    "print(10-4) # subtract\n",
    "print(10*4) # multiple\n",
    "print(10/4) # divide\n",
    "print(15//4) # integer division\n",
    "print(10%4) # reminder "
   ]
  },
  {
   "cell_type": "code",
   "execution_count": 4,
   "metadata": {},
   "outputs": [
    {
     "name": "stdout",
     "output_type": "stream",
     "text": [
      "True\n",
      "False\n",
      "True\n",
      "True\n",
      "True\n",
      "False\n"
     ]
    }
   ],
   "source": [
    "# relational operators: <,>, ==, !, <=, >=: amswer will be tru or false type\n",
    "print(5>1) # grater than\n",
    "print(5<1) # less than\n",
    "print(5==5) # equal equal\n",
    "print(5!=1) # not equal\n",
    "print(5>=1) # greater than or equal\n",
    "print(5<=1) # less than or equal"
   ]
  },
  {
   "cell_type": "code",
   "execution_count": 5,
   "metadata": {},
   "outputs": [
    {
     "name": "stdout",
     "output_type": "stream",
     "text": [
      "4\n",
      "5\n",
      "False\n"
     ]
    }
   ],
   "source": [
    "# logical operator: and or not\n",
    "print(5 and 4)\n",
    "print(5 or 4)\n",
    "print( not 4)"
   ]
  },
  {
   "cell_type": "markdown",
   "metadata": {},
   "source": [
    "#### Bitwise opearators:\n",
    "\n",
    "& ==> AND\tSets each bit to 1 if both bits are 1 <br>\n",
    "| ==> OR\tSets each bit to 1 if one of two bits is 1<br>\n",
    "^ ==> XOR\tSets each bit to 1 if only one of two bits is 1<br>\n",
    "~  ==> NOT\tInverts all the bits<br>\n",
    "<< ==> Zero fill left shift\tShift left by pushing zeros in from the right and let the leftmost bits fall off<br>\n",
    ">>  ==> Signed right shift\tShift right by pushing copies of the leftmost bit in from the left, and let the rightmost bits fall off"
   ]
  },
  {
   "cell_type": "code",
   "execution_count": null,
   "metadata": {},
   "outputs": [
    {
     "name": "stdout",
     "output_type": "stream",
     "text": [
      "1\n",
      "7\n",
      "6\n",
      "-7\n",
      "1\n",
      "20\n"
     ]
    }
   ],
   "source": [
    "# Bitwise Operators: \n",
    "# bitwise and\n",
    "print(5 & 3)\n",
    "# bitwise or\n",
    "print(4 | 3)\n",
    "# bitwise xor\n",
    "print(5 ^ 3)\n",
    "print(~6)\n",
    "print(4 >> 2)\n",
    "print(5 << 2)"
   ]
  },
  {
   "cell_type": "code",
   "execution_count": 7,
   "metadata": {},
   "outputs": [
    {
     "name": "stdout",
     "output_type": "stream",
     "text": [
      "0\n"
     ]
    }
   ],
   "source": [
    "# Assignment Operators\n",
    "# =\n",
    "# a = 2\n",
    "a = 2\n",
    "# a = a % 2\n",
    "a %= 2\n",
    "# a++ ++a\n",
    "print(a)"
   ]
  },
  {
   "cell_type": "code",
   "execution_count": 8,
   "metadata": {},
   "outputs": [
    {
     "name": "stdout",
     "output_type": "stream",
     "text": [
      "False\n",
      "False\n"
     ]
    }
   ],
   "source": [
    "# Membership Operators\n",
    "\n",
    "# in/not in\n",
    "\n",
    "print('D' not in 'Delhi')\n",
    "\n",
    "print(1 in [2,3,4,5,6])"
   ]
  },
  {
   "cell_type": "markdown",
   "metadata": {},
   "source": [
    "# If-else in Python"
   ]
  },
  {
   "cell_type": "code",
   "execution_count": null,
   "metadata": {},
   "outputs": [],
   "source": [
    "# make a login access\n",
    "# email = subenakhatun@gmail.com\n",
    "# password = 12345"
   ]
  },
  {
   "cell_type": "code",
   "execution_count": 10,
   "metadata": {},
   "outputs": [
    {
     "name": "stdout",
     "output_type": "stream",
     "text": [
      "Please instert right information.\n"
     ]
    }
   ],
   "source": [
    "email = input('Enter email here: ')\n",
    "password = int(input(''))\n",
    "\n",
    "if email == 'subenakhatun@gmail.com' and password == 1234:\n",
    "    print('Welcome')\n",
    "else:\n",
    "    print('Please instert right information.')"
   ]
  },
  {
   "cell_type": "code",
   "execution_count": 16,
   "metadata": {},
   "outputs": [],
   "source": [
    "email = input('Enter email here: ')\n",
    "password = input('')\n",
    "\n",
    "if email == 'subenakhatun@gmail.com' and password == '1234':\n",
    "    print('Welcome')\n",
    "elif email == 'subenakhatun@gmail.com' and password != '1234':\n",
    "    print('Incorrect passwrod.')\n",
    "    password = input('enter password again: ')\n",
    "    if password =='1234':\n",
    "        print('Login successful')\n",
    "    else:\n",
    "        print('try again')\n"
   ]
  },
  {
   "cell_type": "code",
   "execution_count": 17,
   "metadata": {},
   "outputs": [],
   "source": [
    "# if-else examples\n",
    "# 1. Find the min of 3 given numbers\n",
    "# 2. Menu Driven Program"
   ]
  },
  {
   "cell_type": "code",
   "execution_count": 18,
   "metadata": {},
   "outputs": [
    {
     "name": "stdout",
     "output_type": "stream",
     "text": [
      "Number 3 is the samllest number:  3\n"
     ]
    }
   ],
   "source": [
    "# 1. Find the min of 3 given numbers\n",
    "num1 = int(input('Enter number 1: '))\n",
    "num2 = int(input('Enter number 2: '))\n",
    "num3 = int(input('Enter number 3: '))\n",
    "if num1 < num2 and num1 < num3:\n",
    "    print('Num1 is the smallest number: ', num1)\n",
    "elif num2 < num3:\n",
    "    print('Number 2 is the samllest number: ',num2)\n",
    "else:\n",
    "    print('Number 3 is the samllest number: ', num3)"
   ]
  },
  {
   "cell_type": "code",
   "execution_count": 21,
   "metadata": {},
   "outputs": [
    {
     "name": "stdout",
     "output_type": "stream",
     "text": [
      "Pizza\n"
     ]
    }
   ],
   "source": [
    "# 2. Menu Driven Program\n",
    "menu = input('''\n",
    "list of manu:\n",
    "1. if 1 the this is rice.\n",
    "2. if 2 then this is pizza.\n",
    "3. if 3 than this is pasta.\n",
    "\n",
    "''')\n",
    "if menu=='1':\n",
    "    print('Rice')\n",
    "elif menu == '2':\n",
    "    print('Pizza')\n",
    "else:\n",
    "    print('Pasta')"
   ]
  },
  {
   "cell_type": "markdown",
   "metadata": {},
   "source": [
    "# Modules in Python\n",
    "\n",
    "- math\n",
    "- keywords\n",
    "- random\n",
    "- datetime"
   ]
  },
  {
   "cell_type": "code",
   "execution_count": null,
   "metadata": {},
   "outputs": [],
   "source": []
  }
 ],
 "metadata": {
  "kernelspec": {
   "display_name": "Python 3",
   "language": "python",
   "name": "python3"
  },
  "language_info": {
   "codemirror_mode": {
    "name": "ipython",
    "version": 3
   },
   "file_extension": ".py",
   "mimetype": "text/x-python",
   "name": "python",
   "nbconvert_exporter": "python",
   "pygments_lexer": "ipython3",
   "version": "3.12.1"
  }
 },
 "nbformat": 4,
 "nbformat_minor": 2
}
