{
 "cells": [
  {
   "cell_type": "markdown",
   "metadata": {},
   "source": [
    "####  Python Operators + if-else + Loops \n",
    "● Python Operators <br>\n",
    "● Python if-else <br>\n",
    "● Python Modules <br>\n",
    "● Python While Loop  <br>\n",
    "● Python for loop <br>\n",
    "● Examples"
   ]
  },
  {
   "cell_type": "code",
   "execution_count": 1,
   "metadata": {},
   "outputs": [
    {
     "data": {
      "text/plain": [
       "20"
      ]
     },
     "execution_count": 1,
     "metadata": {},
     "output_type": "execute_result"
    }
   ],
   "source": [
    "10+10"
   ]
  },
  {
   "cell_type": "markdown",
   "metadata": {},
   "source": [
    "#### Operators in Python\n",
    "Arithmetic Operators <br>\n",
    "Relational Operators <br>\n",
    "Logical Operators <br>\n",
    "Bitwise Operators <br>\n",
    "Assignment Operators <br>\n",
    "Membership Operators <br>"
   ]
  },
  {
   "cell_type": "code",
   "execution_count": null,
   "metadata": {},
   "outputs": [],
   "source": [
    "# arithematic operators: +,-,*,/,//,%\n",
    "10+4 # add \n",
    "10-4 # subtract\n",
    "10*4 # multiple\n",
    "10/4 # divide\n",
    "10//4 # integer division\n",
    "10%4 # reminder "
   ]
  }
 ],
 "metadata": {
  "kernelspec": {
   "display_name": "Python 3",
   "language": "python",
   "name": "python3"
  },
  "language_info": {
   "codemirror_mode": {
    "name": "ipython",
    "version": 3
   },
   "file_extension": ".py",
   "mimetype": "text/x-python",
   "name": "python",
   "nbconvert_exporter": "python",
   "pygments_lexer": "ipython3",
   "version": "3.12.1"
  }
 },
 "nbformat": 4,
 "nbformat_minor": 2
}
