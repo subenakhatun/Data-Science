{
 "cells": [
  {
   "cell_type": "markdown",
   "metadata": {},
   "source": [
    "### Q1 :- Print the given strings as per stated format.\n",
    "\n",
    "**Given strings**:\n",
    "```\n",
    "\"Data\" \"Science\" \"Mentorship\" \"Program\"\n",
    "\"By\" \"CampusX\"\n",
    "```\n",
    "**Output**:\n",
    "```\n",
    "Data-Science-Mentorship-Program-started-By-CampusX\n",
    "```\n",
    "\n",
    "Concept- [Seperator and End]"
   ]
  },
  {
   "cell_type": "code",
   "execution_count": 6,
   "metadata": {},
   "outputs": [
    {
     "name": "stdout",
     "output_type": "stream",
     "text": [
      "Data-Science-Mentorship-Program-By-CampusX\n"
     ]
    }
   ],
   "source": [
    "# solutions\n",
    "print(\"Data\",\"Science\" ,\"Mentorship\" ,\"Program\",\n",
    "\"By\", \"CampusX\",sep='-')"
   ]
  },
  {
   "cell_type": "markdown",
   "metadata": {},
   "source": [
    "### Q2:- Write a program that will convert celsius value to fahrenheit."
   ]
  },
  {
   "cell_type": "code",
   "execution_count": 8,
   "metadata": {},
   "outputs": [
    {
     "name": "stdout",
     "output_type": "stream",
     "text": [
      "73.4\n"
     ]
    }
   ],
   "source": [
    "cel = float(input('Enter a celcius number: '))\n",
    "fer = (9/5)*cel+32\n",
    "print(fer)"
   ]
  },
  {
   "cell_type": "markdown",
   "metadata": {},
   "source": [
    "### Q3:- Take 2 numbers as input from the user.Write a program to swap the numbers without using any special python syntax."
   ]
  },
  {
   "cell_type": "code",
   "execution_count": 11,
   "metadata": {},
   "outputs": [
    {
     "name": "stdout",
     "output_type": "stream",
     "text": [
      "before swaping: 30 80\n",
      "80 30\n"
     ]
    }
   ],
   "source": [
    "a = int(input('Enter a number1: '))\n",
    "b = int(input('Enter number2: '))\n",
    "print('before swaping:',a,b)\n",
    "c = a\n",
    "a=b\n",
    "b=c\n",
    "print(a,b)"
   ]
  },
  {
   "cell_type": "code",
   "execution_count": null,
   "metadata": {},
   "outputs": [],
   "source": [
    "print"
   ]
  }
 ],
 "metadata": {
  "kernelspec": {
   "display_name": "Python 3",
   "language": "python",
   "name": "python3"
  },
  "language_info": {
   "codemirror_mode": {
    "name": "ipython",
    "version": 3
   },
   "file_extension": ".py",
   "mimetype": "text/x-python",
   "name": "python",
   "nbconvert_exporter": "python",
   "pygments_lexer": "ipython3",
   "version": "3.12.1"
  }
 },
 "nbformat": 4,
 "nbformat_minor": 2
}
