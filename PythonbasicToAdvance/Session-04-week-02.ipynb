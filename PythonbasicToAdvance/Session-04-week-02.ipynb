{
 "cells": [
  {
   "cell_type": "markdown",
   "id": "e90a52e2",
   "metadata": {},
   "source": [
    "## List in Python"
   ]
  },
  {
   "cell_type": "markdown",
   "id": "716ef2fb",
   "metadata": {},
   "source": [
    "1. What are list? <br>\n",
    "2. Lists vs Array <br>\n",
    "3. Characterstics of a list <br>\n",
    "4. How to create a list? <br>\n",
    "5. Access items from a list. <br>\n",
    "6. Editing items in a list. <br>\n",
    "7. Deleting Items from a list <br> \n",
    "8. Operations on lists <br>\n",
    "9. Functions on a list <br>"
   ]
  },
  {
   "cell_type": "markdown",
   "id": "48e2ccbc",
   "metadata": {},
   "source": [
    "What are list? <br>\n",
    "List is a data type where you can store multiple items under 1 nmae. More technically , lists act like dynamic arrays which means you can add more items on the fly. <br>\n",
    "l = [20,\"name\", 4554.46, [40,50,60]]"
   ]
  },
  {
   "cell_type": "markdown",
   "id": "4ac36198",
   "metadata": {},
   "source": [
    "Array vs List <br>\n",
    "1. Fixed vs Dynamic size <br>\n",
    "2. Convenience VS Hetrogeneous <br>\n",
    "3. Speed of Execution : array speed more , list slow <br>\n",
    "4. Memory <br>\n",
    "5. Referential array"
   ]
  },
  {
   "cell_type": "code",
   "execution_count": 1,
   "id": "2cd1d4ae",
   "metadata": {},
   "outputs": [
    {
     "name": "stdout",
     "output_type": "stream",
     "text": [
      "1306368197888\n"
     ]
    }
   ],
   "source": [
    "# id() function: just show every individual value it\n",
    "l = [1,2,3,4,5,6]\n",
    "print(id(l))"
   ]
  },
  {
   "cell_type": "code",
   "execution_count": 2,
   "id": "bc3eefb8",
   "metadata": {},
   "outputs": [
    {
     "name": "stdout",
     "output_type": "stream",
     "text": [
      "140721363522344\n"
     ]
    }
   ],
   "source": [
    "print(id(l[0]))"
   ]
  },
  {
   "cell_type": "code",
   "execution_count": 3,
   "id": "dfeda50f",
   "metadata": {},
   "outputs": [
    {
     "name": "stdout",
     "output_type": "stream",
     "text": [
      "140721363522344\n"
     ]
    }
   ],
   "source": [
    "print(id(1))"
   ]
  },
  {
   "cell_type": "code",
   "execution_count": 4,
   "id": "967cf6c8",
   "metadata": {},
   "outputs": [
    {
     "name": "stdout",
     "output_type": "stream",
     "text": [
      "140721363522376\n"
     ]
    }
   ],
   "source": [
    "print(id(2))"
   ]
  },
  {
   "cell_type": "code",
   "execution_count": 5,
   "id": "2cb903b3",
   "metadata": {},
   "outputs": [
    {
     "name": "stdout",
     "output_type": "stream",
     "text": [
      "140721363522408\n"
     ]
    }
   ],
   "source": [
    "print(id(3))"
   ]
  },
  {
   "cell_type": "code",
   "execution_count": 6,
   "id": "25425d71",
   "metadata": {},
   "outputs": [
    {
     "name": "stdout",
     "output_type": "stream",
     "text": [
      "140721363522376\n"
     ]
    }
   ],
   "source": [
    "print(id(l[1]))"
   ]
  },
  {
   "cell_type": "code",
   "execution_count": 7,
   "id": "b0d87288",
   "metadata": {},
   "outputs": [
    {
     "name": "stdout",
     "output_type": "stream",
     "text": [
      "140721363522408\n"
     ]
    }
   ],
   "source": [
    "print(id(l[2]))"
   ]
  },
  {
   "cell_type": "markdown",
   "id": "030ad3fd",
   "metadata": {},
   "source": [
    "Characterstics of a list: <br>\n",
    "1. ordered <br>\n",
    "2. Changable/ Mutuable <br>\n",
    "3. Hetrogeneous <br>\n",
    "4. Can have duplicates <br>\n",
    "5. Are dynamic <br>\n",
    "6. Can be nested <br>\n",
    "7. Items can be accessed <br>\n",
    "8. Can contain any kind of objects in Python"
   ]
  },
  {
   "cell_type": "markdown",
   "id": "23973c18",
   "metadata": {},
   "source": [
    "Creating a list: <br>\n",
    "1. empty <br>\n",
    "2. 1D <br>\n",
    "3. 2D <br>\n",
    "4. 3D <br>\n",
    "5. Hetrogeneous <br>\n",
    "6. Using Type Conversion"
   ]
  },
  {
   "cell_type": "code",
   "execution_count": 8,
   "id": "d59a2c2f",
   "metadata": {},
   "outputs": [
    {
     "name": "stdout",
     "output_type": "stream",
     "text": [
      "[]\n"
     ]
    }
   ],
   "source": [
    "# empty list\n",
    "l = []\n",
    "print(l)"
   ]
  },
  {
   "cell_type": "code",
   "execution_count": 9,
   "id": "4938affb",
   "metadata": {},
   "outputs": [
    {
     "name": "stdout",
     "output_type": "stream",
     "text": [
      "[1, 2, 3, 4, 6]\n"
     ]
    }
   ],
   "source": [
    "# 1D + homogeneous\n",
    "l = [1,2,3,4,6]\n",
    "print(l)"
   ]
  },
  {
   "cell_type": "code",
   "execution_count": 10,
   "id": "3a593512",
   "metadata": {},
   "outputs": [
    {
     "data": {
      "text/plain": [
       "[1, 2, 3, 4, 6]"
      ]
     },
     "execution_count": 10,
     "metadata": {},
     "output_type": "execute_result"
    }
   ],
   "source": [
    "l"
   ]
  },
  {
   "cell_type": "code",
   "execution_count": 11,
   "id": "4674266e",
   "metadata": {},
   "outputs": [
    {
     "data": {
      "text/plain": [
       "[[[2, 3, 4], [5, 6, 7]], [[1, 2, 3], [4, 5, 6]]]"
      ]
     },
     "execution_count": 11,
     "metadata": {},
     "output_type": "execute_result"
    }
   ],
   "source": [
    "# 2D list-> nested list -> Homogeneous\n",
    "l = [[[2,3,4],[5,6,7]],[[1,2,3],[4,5,6]]]\n",
    "l"
   ]
  },
  {
   "cell_type": "code",
   "execution_count": 12,
   "id": "c022e3a0",
   "metadata": {},
   "outputs": [
    {
     "data": {
      "text/plain": [
       "[4, 8, 3, 6, 9, 'subena', 5.6, [3, 4, 5], True]"
      ]
     },
     "execution_count": 12,
     "metadata": {},
     "output_type": "execute_result"
    }
   ],
   "source": [
    "# Hetrogeneous:\n",
    "l = [4,8,3,6,9,'subena',5.6,[3,4,5],True]\n",
    "l"
   ]
  },
  {
   "cell_type": "code",
   "execution_count": 13,
   "id": "f104b406",
   "metadata": {},
   "outputs": [
    {
     "data": {
      "text/plain": [
       "['S', 'u', 'b', 'e', 'n', 'a']"
      ]
     },
     "execution_count": 13,
     "metadata": {},
     "output_type": "execute_result"
    }
   ],
   "source": [
    "# Type conversion\n",
    "l = list('Subena')\n",
    "l"
   ]
  },
  {
   "cell_type": "markdown",
   "id": "69436c59",
   "metadata": {},
   "source": [
    "Accessing items from a list: <br>\n",
    "1. Indexing <br>\n",
    "2. Slicing"
   ]
  },
  {
   "cell_type": "code",
   "execution_count": 14,
   "id": "e0cc79ab",
   "metadata": {},
   "outputs": [
    {
     "data": {
      "text/plain": [
       "1"
      ]
     },
     "execution_count": 14,
     "metadata": {},
     "output_type": "execute_result"
    }
   ],
   "source": [
    "# indexing\n",
    "l = [1,2,3,4,5,6,7,8,9,10]\n",
    "l[0] # postitive indexing - 1st position value"
   ]
  },
  {
   "cell_type": "code",
   "execution_count": 15,
   "id": "e439fcfa",
   "metadata": {},
   "outputs": [
    {
     "data": {
      "text/plain": [
       "5"
      ]
     },
     "execution_count": 15,
     "metadata": {},
     "output_type": "execute_result"
    }
   ],
   "source": [
    "l[4]"
   ]
  },
  {
   "cell_type": "code",
   "execution_count": 16,
   "id": "96d642a5",
   "metadata": {},
   "outputs": [
    {
     "data": {
      "text/plain": [
       "8"
      ]
     },
     "execution_count": 16,
     "metadata": {},
     "output_type": "execute_result"
    }
   ],
   "source": [
    "# negative indexing\n",
    "l[-3]"
   ]
  },
  {
   "cell_type": "code",
   "execution_count": 17,
   "id": "1a515bb1",
   "metadata": {},
   "outputs": [
    {
     "data": {
      "text/plain": [
       "[1, 2, 3, 4, 5, 6, 7, 8, 9, 10]"
      ]
     },
     "execution_count": 17,
     "metadata": {},
     "output_type": "execute_result"
    }
   ],
   "source": [
    "# slicing\n",
    "l[:] # print all"
   ]
  },
  {
   "cell_type": "code",
   "execution_count": 18,
   "id": "2f74f0c2",
   "metadata": {},
   "outputs": [
    {
     "data": {
      "text/plain": [
       "[1, 2, 3, 4, 5, 6, 7, 8, 9, 10]"
      ]
     },
     "execution_count": 18,
     "metadata": {},
     "output_type": "execute_result"
    }
   ],
   "source": [
    "l[::] # print all"
   ]
  },
  {
   "cell_type": "code",
   "execution_count": 19,
   "id": "209c18e3",
   "metadata": {},
   "outputs": [
    {
     "data": {
      "text/plain": [
       "[3, 4]"
      ]
     },
     "execution_count": 19,
     "metadata": {},
     "output_type": "execute_result"
    }
   ],
   "source": [
    "l[2:4] # print 2 no postion to before 4 no positin value "
   ]
  },
  {
   "cell_type": "code",
   "execution_count": 20,
   "id": "97cff6db",
   "metadata": {},
   "outputs": [
    {
     "data": {
      "text/plain": [
       "[3, 5, 7]"
      ]
     },
     "execution_count": 20,
     "metadata": {},
     "output_type": "execute_result"
    }
   ],
   "source": [
    "l[2:8:2] # no postion to before 8 no postiion but step  2"
   ]
  },
  {
   "cell_type": "code",
   "execution_count": 21,
   "id": "06e6c796",
   "metadata": {},
   "outputs": [
    {
     "data": {
      "text/plain": [
       "[3, 6]"
      ]
     },
     "execution_count": 21,
     "metadata": {},
     "output_type": "execute_result"
    }
   ],
   "source": [
    "l[2:8:3]"
   ]
  },
  {
   "cell_type": "code",
   "execution_count": 22,
   "id": "1baca341",
   "metadata": {},
   "outputs": [
    {
     "data": {
      "text/plain": [
       "[2, 3, 4, 5, 6]"
      ]
     },
     "execution_count": 22,
     "metadata": {},
     "output_type": "execute_result"
    }
   ],
   "source": [
    "# negative slicing\n",
    "l[1:-4] # start form 1 positon end negative 4 position before"
   ]
  },
  {
   "cell_type": "code",
   "execution_count": 23,
   "id": "b499dfd6",
   "metadata": {},
   "outputs": [
    {
     "data": {
      "text/plain": [
       "[1, 2, 3, 4, 5, 6, 7, 8, 9, 10]"
      ]
     },
     "execution_count": 23,
     "metadata": {},
     "output_type": "execute_result"
    }
   ],
   "source": [
    "l"
   ]
  },
  {
   "cell_type": "code",
   "execution_count": 24,
   "id": "11514008",
   "metadata": {},
   "outputs": [
    {
     "data": {
      "text/plain": [
       "[2, 1]"
      ]
     },
     "execution_count": 24,
     "metadata": {},
     "output_type": "execute_result"
    }
   ],
   "source": [
    "l[1::-1]"
   ]
  },
  {
   "cell_type": "code",
   "execution_count": 25,
   "id": "11f4117c",
   "metadata": {},
   "outputs": [
    {
     "data": {
      "text/plain": [
       "[4, 8]"
      ]
     },
     "execution_count": 25,
     "metadata": {},
     "output_type": "execute_result"
    }
   ],
   "source": [
    "l[3::4] # start from 3 no postion then every 4 step "
   ]
  },
  {
   "cell_type": "code",
   "execution_count": 26,
   "id": "15119f20",
   "metadata": {},
   "outputs": [
    {
     "data": {
      "text/plain": [
       "[1, 2, 3, 4, 5, 6, 7, 8, 9, 10]"
      ]
     },
     "execution_count": 26,
     "metadata": {},
     "output_type": "execute_result"
    }
   ],
   "source": [
    "l"
   ]
  },
  {
   "cell_type": "code",
   "execution_count": 27,
   "id": "ccd08ed5",
   "metadata": {},
   "outputs": [
    {
     "data": {
      "text/plain": [
       "[5, 8, 11, 1, 16, 19]"
      ]
     },
     "execution_count": 27,
     "metadata": {},
     "output_type": "execute_result"
    }
   ],
   "source": [
    "l = [1,2,3,4,5,6,7,8,9,10,11,12,13,1,41,15,16,17,18,19,20]\n",
    "l[4::3] # start from 4 no postion then every 3 step"
   ]
  },
  {
   "cell_type": "code",
   "execution_count": 28,
   "id": "620f2045",
   "metadata": {},
   "outputs": [
    {
     "data": {
      "text/plain": [
       "[4, 2]"
      ]
     },
     "execution_count": 28,
     "metadata": {},
     "output_type": "execute_result"
    }
   ],
   "source": [
    "l[3::-2] # j jaygay theke suru oi jaygay theke negative indexing borabor step"
   ]
  },
  {
   "cell_type": "code",
   "execution_count": 29,
   "id": "6c67d81d",
   "metadata": {},
   "outputs": [
    {
     "data": {
      "text/plain": [
       "[[4, 8, 9], [4, 6, 8]]"
      ]
     },
     "execution_count": 29,
     "metadata": {},
     "output_type": "execute_result"
    }
   ],
   "source": [
    "# 2D list indexing\n",
    "d2 = [[4,8,9],[4,6,8]]\n",
    "d2"
   ]
  },
  {
   "cell_type": "code",
   "execution_count": 30,
   "id": "6075039b",
   "metadata": {},
   "outputs": [
    {
     "data": {
      "text/plain": [
       "[4, 8, 9]"
      ]
     },
     "execution_count": 30,
     "metadata": {},
     "output_type": "execute_result"
    }
   ],
   "source": [
    "d2[0]"
   ]
  },
  {
   "cell_type": "code",
   "execution_count": 31,
   "id": "5fd21964",
   "metadata": {},
   "outputs": [
    {
     "data": {
      "text/plain": [
       "12"
      ]
     },
     "execution_count": 31,
     "metadata": {},
     "output_type": "execute_result"
    }
   ],
   "source": [
    "d2[1][2] + d2[0][0]"
   ]
  },
  {
   "cell_type": "code",
   "execution_count": 32,
   "id": "7de95b71",
   "metadata": {},
   "outputs": [
    {
     "data": {
      "text/plain": [
       "4"
      ]
     },
     "execution_count": 32,
     "metadata": {},
     "output_type": "execute_result"
    }
   ],
   "source": [
    "# negative indexing\n",
    "d2[-1][-3]"
   ]
  },
  {
   "cell_type": "code",
   "execution_count": 33,
   "id": "6e330c77",
   "metadata": {},
   "outputs": [
    {
     "data": {
      "text/plain": [
       "[[[1, 2, 3], [4, 5, 6]],\n",
       " [[7, 8, 9], [10, 11, 12]],\n",
       " [[13, 14, 15], [16, 17, 18]]]"
      ]
     },
     "execution_count": 33,
     "metadata": {},
     "output_type": "execute_result"
    }
   ],
   "source": [
    "# 3D indexing\n",
    "l = [[[1,2,3],[4,5,6]],[[7,8,9],[10,11,12]],[[13,14,15],[16,17,18]]]\n",
    "l"
   ]
  },
  {
   "cell_type": "code",
   "execution_count": 34,
   "id": "d0b5712c",
   "metadata": {},
   "outputs": [
    {
     "data": {
      "text/plain": [
       "5"
      ]
     },
     "execution_count": 34,
     "metadata": {},
     "output_type": "execute_result"
    }
   ],
   "source": [
    "l[0][1][1] # first row then 2nd row then 2nd column"
   ]
  },
  {
   "cell_type": "code",
   "execution_count": 35,
   "id": "05a6c58e",
   "metadata": {},
   "outputs": [
    {
     "data": {
      "text/plain": [
       "[10, 8, 6, 4, 2]"
      ]
     },
     "execution_count": 35,
     "metadata": {},
     "output_type": "execute_result"
    }
   ],
   "source": [
    "#  reverse a list\n",
    "l = [1,2,3,4,5,6,7,8,9,10]\n",
    "l[::-2]"
   ]
  },
  {
   "cell_type": "markdown",
   "id": "8022bdac",
   "metadata": {},
   "source": [
    "#### Adding items to a list: <br>\n",
    "1. append(value).  If i want add any number in a list then use this function and value will be added in the last of list. <br>\n",
    "2. extend(value1,value2). If i want add more than one number in a list then use this function and value will be added in the last of list.<br>\n",
    "3. insert(position number, added value). If i want add value with a required postion the use this one."
   ]
  },
  {
   "cell_type": "code",
   "execution_count": 36,
   "id": "e0eb930c",
   "metadata": {},
   "outputs": [
    {
     "data": {
      "text/plain": [
       "[2, 4, 6, 8]"
      ]
     },
     "execution_count": 36,
     "metadata": {},
     "output_type": "execute_result"
    }
   ],
   "source": [
    "a = [2,4,6]\n",
    "# want to add 6\n",
    "a.append(8)\n",
    "a"
   ]
  },
  {
   "cell_type": "code",
   "execution_count": 37,
   "id": "c9b58bae",
   "metadata": {},
   "outputs": [
    {
     "data": {
      "text/plain": [
       "[2, 4, 6, 8, 9, 10]"
      ]
     },
     "execution_count": 37,
     "metadata": {},
     "output_type": "execute_result"
    }
   ],
   "source": [
    "# extend \n",
    "a.extend([9,10])\n",
    "a"
   ]
  },
  {
   "cell_type": "code",
   "execution_count": 38,
   "id": "135e7d79",
   "metadata": {},
   "outputs": [
    {
     "data": {
      "text/plain": [
       "[2, 4, 6, 120, 8, 9, 10]"
      ]
     },
     "execution_count": 38,
     "metadata": {},
     "output_type": "execute_result"
    }
   ],
   "source": [
    "# insert()\n",
    "a.insert(3,120)\n",
    "a"
   ]
  },
  {
   "cell_type": "markdown",
   "id": "34196381",
   "metadata": {},
   "source": [
    "#### Editing existings iteams in a list"
   ]
  },
  {
   "cell_type": "code",
   "execution_count": 39,
   "id": "97193724",
   "metadata": {},
   "outputs": [
    {
     "data": {
      "text/plain": [
       "[2, 10000, 4, 7, 8, 9]"
      ]
     },
     "execution_count": 39,
     "metadata": {},
     "output_type": "execute_result"
    }
   ],
   "source": [
    "a = [2,3,4,7,8,9]\n",
    "a[1]= 10000\n",
    "a"
   ]
  },
  {
   "cell_type": "code",
   "execution_count": 40,
   "id": "32365c8f",
   "metadata": {},
   "outputs": [
    {
     "data": {
      "text/plain": [
       "[12, 13, 14, 15, 1000, 2000, 3000, 4000, 10]"
      ]
     },
     "execution_count": 40,
     "metadata": {},
     "output_type": "execute_result"
    }
   ],
   "source": [
    "# want to add 4 positon to 8 postion values\n",
    "b = [12,13,14,15,16,17,18,19,10]\n",
    "b[4:8]= [1000,2000,3000,4000]\n",
    "b"
   ]
  },
  {
   "cell_type": "code",
   "execution_count": 41,
   "id": "5926416d",
   "metadata": {},
   "outputs": [
    {
     "data": {
      "text/plain": [
       "9"
      ]
     },
     "execution_count": 41,
     "metadata": {},
     "output_type": "execute_result"
    }
   ],
   "source": [
    "len(b)"
   ]
  },
  {
   "cell_type": "markdown",
   "id": "610b75de",
   "metadata": {},
   "source": [
    "#### Deleting item from a ist\n",
    "1. det. delete any list or can delete list postion based value. <br>\n",
    "2. remove(value). remove any value no need to declar postion no <br>\n",
    "3. pop(index no). can delete specifi index value. <br>\n",
    "4. clear().  clear whole list then print this is an empty list."
   ]
  },
  {
   "cell_type": "code",
   "execution_count": 42,
   "id": "c054524a",
   "metadata": {},
   "outputs": [],
   "source": [
    "a = [2,3,4,5,6]\n",
    "b = [7,8,9,0]\n",
    "c = [58,95,62]\n",
    "del c"
   ]
  },
  {
   "cell_type": "code",
   "execution_count": 43,
   "id": "07c07c7c",
   "metadata": {},
   "outputs": [
    {
     "ename": "NameError",
     "evalue": "name 'c' is not defined",
     "output_type": "error",
     "traceback": [
      "\u001b[1;31m---------------------------------------------------------------------------\u001b[0m",
      "\u001b[1;31mNameError\u001b[0m                                 Traceback (most recent call last)",
      "Cell \u001b[1;32mIn[43], line 1\u001b[0m\n\u001b[1;32m----> 1\u001b[0m c\n",
      "\u001b[1;31mNameError\u001b[0m: name 'c' is not defined"
     ]
    }
   ],
   "source": [
    "c"
   ]
  },
  {
   "cell_type": "code",
   "execution_count": null,
   "id": "31a859f7",
   "metadata": {},
   "outputs": [],
   "source": [
    "del(a[-1])"
   ]
  },
  {
   "cell_type": "code",
   "execution_count": null,
   "id": "4d28c37f",
   "metadata": {},
   "outputs": [],
   "source": [
    "a"
   ]
  },
  {
   "cell_type": "code",
   "execution_count": null,
   "id": "a1128d2d",
   "metadata": {},
   "outputs": [],
   "source": [
    "# slicing deletion\n",
    "del(b[0:2])"
   ]
  },
  {
   "cell_type": "code",
   "execution_count": null,
   "id": "c6deee94",
   "metadata": {},
   "outputs": [],
   "source": [
    "b"
   ]
  },
  {
   "cell_type": "code",
   "execution_count": null,
   "id": "0c6f37bc",
   "metadata": {},
   "outputs": [],
   "source": [
    "# remove\n",
    "a = [4,5,6,7,8,9,10]\n",
    "a"
   ]
  },
  {
   "cell_type": "code",
   "execution_count": null,
   "id": "429c07b5",
   "metadata": {},
   "outputs": [],
   "source": [
    "a.remove(7)"
   ]
  },
  {
   "cell_type": "code",
   "execution_count": null,
   "id": "a448eea1",
   "metadata": {},
   "outputs": [],
   "source": [
    "a"
   ]
  },
  {
   "cell_type": "code",
   "execution_count": null,
   "id": "8981fd31",
   "metadata": {},
   "outputs": [],
   "source": [
    "a = [4,5,6,7,8,9,10,4,7,8,9,4,4]\n",
    "a.remove(4)\n",
    "a"
   ]
  },
  {
   "cell_type": "code",
   "execution_count": null,
   "id": "9d65447e",
   "metadata": {},
   "outputs": [],
   "source": [
    "a.remove(4)\n",
    "a"
   ]
  },
  {
   "cell_type": "code",
   "execution_count": null,
   "id": "7c072df1",
   "metadata": {},
   "outputs": [],
   "source": [
    "# pop\n",
    "a.pop(0)"
   ]
  },
  {
   "cell_type": "code",
   "execution_count": null,
   "id": "1c48b81c",
   "metadata": {},
   "outputs": [],
   "source": [
    "a"
   ]
  },
  {
   "cell_type": "code",
   "execution_count": null,
   "id": "68038b7a",
   "metadata": {},
   "outputs": [],
   "source": [
    "a.pop(5)"
   ]
  },
  {
   "cell_type": "code",
   "execution_count": null,
   "id": "5496c618",
   "metadata": {},
   "outputs": [],
   "source": [
    "a"
   ]
  },
  {
   "cell_type": "code",
   "execution_count": null,
   "id": "2c5e160e",
   "metadata": {},
   "outputs": [],
   "source": [
    "# clear \n",
    "x = [3,4,5]\n",
    "x.clear()"
   ]
  },
  {
   "cell_type": "code",
   "execution_count": 44,
   "id": "13e5401f",
   "metadata": {},
   "outputs": [
    {
     "ename": "NameError",
     "evalue": "name 'x' is not defined",
     "output_type": "error",
     "traceback": [
      "\u001b[1;31m---------------------------------------------------------------------------\u001b[0m",
      "\u001b[1;31mNameError\u001b[0m                                 Traceback (most recent call last)",
      "Cell \u001b[1;32mIn[44], line 1\u001b[0m\n\u001b[1;32m----> 1\u001b[0m x\n",
      "\u001b[1;31mNameError\u001b[0m: name 'x' is not defined"
     ]
    }
   ],
   "source": [
    "x"
   ]
  },
  {
   "cell_type": "markdown",
   "id": "80854d8a",
   "metadata": {},
   "source": [
    "Operations on list. <br>\n",
    "1. Arithmetic . +, * <br>\n",
    "2. Membership . in, not in"
   ]
  },
  {
   "cell_type": "code",
   "execution_count": 45,
   "id": "5a4e9b46",
   "metadata": {},
   "outputs": [
    {
     "data": {
      "text/plain": [
       "[1, 2, 3, 4, 5, 6, 7, 8, 9, 10]"
      ]
     },
     "execution_count": 45,
     "metadata": {},
     "output_type": "execute_result"
    }
   ],
   "source": [
    "a = [1,2,3,4,5,6,7,8,9,10]\n",
    "b = [10,9,8,7,6,5,4,3,2,1]\n",
    "a"
   ]
  },
  {
   "cell_type": "code",
   "execution_count": 46,
   "id": "3e959e2a",
   "metadata": {},
   "outputs": [
    {
     "data": {
      "text/plain": [
       "[10, 9, 8, 7, 6, 5, 4, 3, 2, 1]"
      ]
     },
     "execution_count": 46,
     "metadata": {},
     "output_type": "execute_result"
    }
   ],
   "source": [
    "b"
   ]
  },
  {
   "cell_type": "code",
   "execution_count": 47,
   "id": "9ee53c5f",
   "metadata": {},
   "outputs": [
    {
     "data": {
      "text/plain": [
       "[1, 2, 3, 4, 5, 6, 7, 8, 9, 10, 1, 2, 3, 4, 5, 6, 7, 8, 9, 10]"
      ]
     },
     "execution_count": 47,
     "metadata": {},
     "output_type": "execute_result"
    }
   ],
   "source": [
    "a*2 # a repated 2 times then merge all"
   ]
  },
  {
   "cell_type": "code",
   "execution_count": 48,
   "id": "c4282de6",
   "metadata": {},
   "outputs": [
    {
     "data": {
      "text/plain": [
       "[1, 2, 3, 4, 5, 6, 7, 8, 9, 10, 10, 9, 8, 7, 6, 5, 4, 3, 2, 1]"
      ]
     },
     "execution_count": 48,
     "metadata": {},
     "output_type": "execute_result"
    }
   ],
   "source": [
    "a + b # it also marge 2 list or combine "
   ]
  },
  {
   "cell_type": "code",
   "execution_count": 49,
   "id": "e7dd589d",
   "metadata": {},
   "outputs": [
    {
     "data": {
      "text/plain": [
       "True"
      ]
     },
     "execution_count": 49,
     "metadata": {},
     "output_type": "execute_result"
    }
   ],
   "source": [
    "# membership operators\n",
    "5 in a"
   ]
  },
  {
   "cell_type": "code",
   "execution_count": 50,
   "id": "3b71895f",
   "metadata": {},
   "outputs": [
    {
     "data": {
      "text/plain": [
       "False"
      ]
     },
     "execution_count": 50,
     "metadata": {},
     "output_type": "execute_result"
    }
   ],
   "source": [
    "5 not in a "
   ]
  },
  {
   "cell_type": "code",
   "execution_count": 51,
   "id": "1c558852",
   "metadata": {},
   "outputs": [
    {
     "data": {
      "text/plain": [
       "False"
      ]
     },
     "execution_count": 51,
     "metadata": {},
     "output_type": "execute_result"
    }
   ],
   "source": [
    "[4,6] in a "
   ]
  },
  {
   "cell_type": "markdown",
   "id": "d00e7530",
   "metadata": {},
   "source": [
    "#### list functions\n",
    "1. len() --- to show lenghth a list. <br>\n",
    "2. max() -- find maximum value from the list. <br>\n",
    "3. min() --- find minimum value in the list <br>\n",
    "4. count(value) -- count how many time a value in list. <br>\n",
    "5. sorted(listname) -- sort a list but not permanently <br>\n",
    "6. index(value) --- find index positon of any value. <br>\n",
    "7. reverse--- reverase a list. <br>\n",
    "8. list name.sort() -- sort permanantly a list. <br>\n",
    "9. id(list value/indx/list) -- id of any one. <br>\n",
    "10. list name.copy() -- same to same copy any list. "
   ]
  },
  {
   "cell_type": "code",
   "execution_count": 52,
   "id": "1b0680fd",
   "metadata": {},
   "outputs": [],
   "source": [
    "a = [4,5,6,7,8,9]\n",
    "b = [1,2,3,4,5,6]"
   ]
  },
  {
   "cell_type": "code",
   "execution_count": 53,
   "id": "ab1f76a5",
   "metadata": {},
   "outputs": [
    {
     "data": {
      "text/plain": [
       "9"
      ]
     },
     "execution_count": 53,
     "metadata": {},
     "output_type": "execute_result"
    }
   ],
   "source": [
    "# max\n",
    "max(a)"
   ]
  },
  {
   "cell_type": "code",
   "execution_count": 54,
   "id": "db6759ba",
   "metadata": {},
   "outputs": [
    {
     "data": {
      "text/plain": [
       "4"
      ]
     },
     "execution_count": 54,
     "metadata": {},
     "output_type": "execute_result"
    }
   ],
   "source": [
    "# min\n",
    "min(a)"
   ]
  },
  {
   "cell_type": "code",
   "execution_count": 55,
   "id": "15b79b60",
   "metadata": {},
   "outputs": [
    {
     "data": {
      "text/plain": [
       "1306381289536"
      ]
     },
     "execution_count": 55,
     "metadata": {},
     "output_type": "execute_result"
    }
   ],
   "source": [
    "id(a)"
   ]
  },
  {
   "cell_type": "code",
   "execution_count": 56,
   "id": "bcaee472",
   "metadata": {},
   "outputs": [
    {
     "data": {
      "text/plain": [
       "140721363522440"
      ]
     },
     "execution_count": 56,
     "metadata": {},
     "output_type": "execute_result"
    }
   ],
   "source": [
    "id(a[0])"
   ]
  },
  {
   "cell_type": "code",
   "execution_count": 57,
   "id": "be785425",
   "metadata": {},
   "outputs": [
    {
     "data": {
      "text/plain": [
       "[4, 5, 6, 7, 8, 9]"
      ]
     },
     "execution_count": 57,
     "metadata": {},
     "output_type": "execute_result"
    }
   ],
   "source": [
    "c = a.copy()\n",
    "c"
   ]
  },
  {
   "cell_type": "code",
   "execution_count": 58,
   "id": "f0c3d054",
   "metadata": {},
   "outputs": [
    {
     "data": {
      "text/plain": [
       "0"
      ]
     },
     "execution_count": 58,
     "metadata": {},
     "output_type": "execute_result"
    }
   ],
   "source": [
    "c.index(4)"
   ]
  },
  {
   "cell_type": "code",
   "execution_count": 59,
   "id": "13510a68",
   "metadata": {},
   "outputs": [],
   "source": [
    "c.reverse()"
   ]
  },
  {
   "cell_type": "code",
   "execution_count": 60,
   "id": "e97a6e8e",
   "metadata": {},
   "outputs": [
    {
     "data": {
      "text/plain": [
       "[9, 8, 7, 6, 5, 4]"
      ]
     },
     "execution_count": 60,
     "metadata": {},
     "output_type": "execute_result"
    }
   ],
   "source": [
    "c"
   ]
  },
  {
   "cell_type": "code",
   "execution_count": 61,
   "id": "8e347d5a",
   "metadata": {},
   "outputs": [
    {
     "data": {
      "text/plain": [
       "[4, 5, 6, 7, 8, 9]"
      ]
     },
     "execution_count": 61,
     "metadata": {},
     "output_type": "execute_result"
    }
   ],
   "source": [
    "sorted(c)"
   ]
  },
  {
   "cell_type": "code",
   "execution_count": 62,
   "id": "1af2c0c5",
   "metadata": {},
   "outputs": [],
   "source": [
    "c.sort()"
   ]
  },
  {
   "cell_type": "code",
   "execution_count": 63,
   "id": "ab2c2bc1",
   "metadata": {},
   "outputs": [],
   "source": [
    "c.append(4)"
   ]
  },
  {
   "cell_type": "code",
   "execution_count": 64,
   "id": "87a49e82",
   "metadata": {},
   "outputs": [
    {
     "data": {
      "text/plain": [
       "[4, 5, 6, 7, 8, 9, 4]"
      ]
     },
     "execution_count": 64,
     "metadata": {},
     "output_type": "execute_result"
    }
   ],
   "source": [
    "c"
   ]
  },
  {
   "cell_type": "code",
   "execution_count": 65,
   "id": "ef5aee46",
   "metadata": {},
   "outputs": [
    {
     "data": {
      "text/plain": [
       "2"
      ]
     },
     "execution_count": 65,
     "metadata": {},
     "output_type": "execute_result"
    }
   ],
   "source": [
    "c.count(4)"
   ]
  },
  {
   "cell_type": "markdown",
   "id": "797fe2b8",
   "metadata": {},
   "source": [
    "#### list comprehension\n",
    "Kist comprehension provides a concise way of creating lists.<br>\n",
    "newlist = [expression for item in iterable if condition == True] <br>\n",
    "Advantage of list comprehension: <br>\n",
    "1. More time efficient and space efficient then loops. <br>\n",
    "2.  Require fewer lines of code. <br>\n",
    "3. Transfroms interactive statemnet into a formula."
   ]
  },
  {
   "cell_type": "code",
   "execution_count": 66,
   "id": "ea773b47",
   "metadata": {},
   "outputs": [
    {
     "data": {
      "text/plain": [
       "[1, 2, 3, 4, 5, 6, 7, 8, 9, 10]"
      ]
     },
     "execution_count": 66,
     "metadata": {},
     "output_type": "execute_result"
    }
   ],
   "source": [
    "# Add 1 to 10 number to a list\n",
    "a = [i for i in range(1,11)]\n",
    "a"
   ]
  },
  {
   "cell_type": "code",
   "execution_count": 67,
   "id": "26f56625",
   "metadata": {},
   "outputs": [
    {
     "name": "stdout",
     "output_type": "stream",
     "text": [
      "1\n",
      "2\n",
      "3\n",
      "4\n",
      "5\n",
      "6\n",
      "7\n",
      "8\n",
      "9\n",
      "10\n"
     ]
    }
   ],
   "source": [
    "for i in range(1,11):\n",
    "    print(i)"
   ]
  },
  {
   "cell_type": "code",
   "execution_count": 68,
   "id": "ef84c510",
   "metadata": {},
   "outputs": [
    {
     "data": {
      "text/plain": [
       "[-6, -9, -12]"
      ]
     },
     "execution_count": 68,
     "metadata": {},
     "output_type": "execute_result"
    }
   ],
   "source": [
    "# Scaller mulp=tiplication on a vector\n",
    "v = [2,3,4]\n",
    "s = -3\n",
    "b = [s*i for i in v]\n",
    "b"
   ]
  },
  {
   "cell_type": "code",
   "execution_count": 69,
   "id": "4caec1dd",
   "metadata": {},
   "outputs": [
    {
     "data": {
      "text/plain": [
       "[4, 9, 16, 25]"
      ]
     },
     "execution_count": 69,
     "metadata": {},
     "output_type": "execute_result"
    }
   ],
   "source": [
    "# Add square\n",
    "s = [2,3,4,5]\n",
    "squar = [i**2 for i in s]\n",
    "squar"
   ]
  },
  {
   "cell_type": "code",
   "execution_count": 70,
   "id": "d1e16420",
   "metadata": {},
   "outputs": [
    {
     "data": {
      "text/plain": [
       "[5, 10, 15, 20, 25, 30, 35, 40, 45, 50]"
      ]
     },
     "execution_count": 70,
     "metadata": {},
     "output_type": "execute_result"
    }
   ],
   "source": [
    "# print all number diuvisible by 5 in the range of 1 to 50\n",
    "r = [i for i in range(1,51) if i%5 == 0]\n",
    "r"
   ]
  },
  {
   "cell_type": "code",
   "execution_count": 71,
   "id": "2d5091d7",
   "metadata": {},
   "outputs": [
    {
     "data": {
      "text/plain": [
       "['python', 'php']"
      ]
     },
     "execution_count": 71,
     "metadata": {},
     "output_type": "execute_result"
    }
   ],
   "source": [
    "# Find languages which start with letter p.\n",
    "langauges = ['python','ruby','java','javascript','php']\n",
    "l = [i for i in langauges if i.startswith('p')]\n",
    "l"
   ]
  },
  {
   "cell_type": "code",
   "execution_count": 72,
   "id": "9d6550f4",
   "metadata": {},
   "outputs": [
    {
     "data": {
      "text/plain": [
       "['apple']"
      ]
     },
     "execution_count": 72,
     "metadata": {},
     "output_type": "execute_result"
    }
   ],
   "source": [
    "# Nested if with list comprehension.\n",
    "# Add nuwlist from mylist ans items if the fruits exists in basket and also startswith 'a'\n",
    "basket = ['apple','guava','cherry','banana']\n",
    "mylists = ['apple','kiwi','grapes','bananas']\n",
    "newlist = [i for i in mylists if i in basket if i.startswith('a')]\n",
    "newlist"
   ]
  },
  {
   "cell_type": "code",
   "execution_count": 73,
   "id": "6016a057",
   "metadata": {},
   "outputs": [
    {
     "ename": "SyntaxError",
     "evalue": "invalid syntax (1485497839.py, line 2)",
     "output_type": "error",
     "traceback": [
      "\u001b[1;36m  Cell \u001b[1;32mIn[73], line 2\u001b[1;36m\u001b[0m\n\u001b[1;33m    m = [i*j [for i in range(1,4) [for j in range(1,4)]]\u001b[0m\n\u001b[1;37m              ^\u001b[0m\n\u001b[1;31mSyntaxError\u001b[0m\u001b[1;31m:\u001b[0m invalid syntax\n"
     ]
    }
   ],
   "source": [
    "# print (3,3) matrics using list comprehenshion\n",
    "m = [i*j [for i in range(1,4) [for j in range(1,4)]]\n",
    "m"
   ]
  },
  {
   "cell_type": "code",
   "execution_count": 74,
   "id": "b7e1fc65",
   "metadata": {},
   "outputs": [],
   "source": [
    "# certesian products\n",
    "a = [1,2,3,4]\n",
    "b = [5,6,7,8]\n",
    "c = [i*j for i in a for j in b]"
   ]
  },
  {
   "cell_type": "code",
   "execution_count": 75,
   "id": "c25d43d1",
   "metadata": {},
   "outputs": [
    {
     "data": {
      "text/plain": [
       "[5, 6, 7, 8, 10, 12, 14, 16, 15, 18, 21, 24, 20, 24, 28, 32]"
      ]
     },
     "execution_count": 75,
     "metadata": {},
     "output_type": "execute_result"
    }
   ],
   "source": [
    "c"
   ]
  },
  {
   "cell_type": "markdown",
   "id": "7e3c69b0",
   "metadata": {},
   "source": [
    "### 2 wyas to travase a list\n",
    "1. itemwise <br>\n",
    "2. indexwise"
   ]
  },
  {
   "cell_type": "code",
   "execution_count": 76,
   "id": "3bb01061",
   "metadata": {},
   "outputs": [
    {
     "name": "stdout",
     "output_type": "stream",
     "text": [
      "2\n",
      "4\n",
      "6\n",
      "8\n"
     ]
    }
   ],
   "source": [
    "# itemwise\n",
    "a = [2,4,6,8]\n",
    "for i in a:\n",
    "    print(i)"
   ]
  },
  {
   "cell_type": "code",
   "execution_count": 77,
   "id": "aef66a53",
   "metadata": {},
   "outputs": [
    {
     "name": "stdout",
     "output_type": "stream",
     "text": [
      "0\n",
      "1\n",
      "2\n",
      "3\n"
     ]
    }
   ],
   "source": [
    "# indeswise\n",
    "for i in range(0,len(a)):\n",
    "    print(i)"
   ]
  },
  {
   "cell_type": "markdown",
   "id": "b0468c03",
   "metadata": {},
   "source": [
    "### zip(list1,list2)\n",
    "The zip() function returns a zip objects which is an iterator of tuples whare the first item in each passed iterators is paird togther and then the second item in each passed itertion are paired together. If the passed oterators have different length, the iterator with the least items decides the length of the new iterator."
   ]
  },
  {
   "cell_type": "code",
   "execution_count": 78,
   "id": "f116eb82",
   "metadata": {},
   "outputs": [
    {
     "data": {
      "text/plain": [
       "<zip at 0x1302a679e80>"
      ]
     },
     "execution_count": 78,
     "metadata": {},
     "output_type": "execute_result"
    }
   ],
   "source": [
    "a = [1,2,3,4]\n",
    "b = [-1,-2,-3,-4]\n",
    "zip(a,b)"
   ]
  },
  {
   "cell_type": "code",
   "execution_count": 79,
   "id": "38ba1dba",
   "metadata": {},
   "outputs": [
    {
     "data": {
      "text/plain": [
       "[(1, -1), (2, -2), (3, -3), (4, -4)]"
      ]
     },
     "execution_count": 79,
     "metadata": {},
     "output_type": "execute_result"
    }
   ],
   "source": [
    "list(zip(a,b))"
   ]
  },
  {
   "cell_type": "code",
   "execution_count": 80,
   "id": "4d3c3da0",
   "metadata": {},
   "outputs": [
    {
     "data": {
      "text/plain": [
       "[-1, -4, -9, -16]"
      ]
     },
     "execution_count": 80,
     "metadata": {},
     "output_type": "execute_result"
    }
   ],
   "source": [
    "c = [i*j for i,j in zip(a,b)]\n",
    "c"
   ]
  },
  {
   "cell_type": "code",
   "execution_count": 81,
   "id": "44a80273",
   "metadata": {},
   "outputs": [
    {
     "ename": "IndexError",
     "evalue": "list index out of range",
     "output_type": "error",
     "traceback": [
      "\u001b[1;31m---------------------------------------------------------------------------\u001b[0m",
      "\u001b[1;31mIndexError\u001b[0m                                Traceback (most recent call last)",
      "Cell \u001b[1;32mIn[81], line 4\u001b[0m\n\u001b[0;32m      2\u001b[0m \u001b[38;5;28;01mfor\u001b[39;00m i \u001b[38;5;129;01min\u001b[39;00m a:\n\u001b[0;32m      3\u001b[0m     \u001b[38;5;28;01mfor\u001b[39;00m j \u001b[38;5;129;01min\u001b[39;00m b:\n\u001b[1;32m----> 4\u001b[0m         d\u001b[38;5;241m.\u001b[39mappend(a[i]\u001b[38;5;241m+\u001b[39mb[j])\n\u001b[0;32m      5\u001b[0m \u001b[38;5;28mprint\u001b[39m(d)\n",
      "\u001b[1;31mIndexError\u001b[0m: list index out of range"
     ]
    }
   ],
   "source": [
    "d = []\n",
    "for i in a:\n",
    "    for j in b:\n",
    "        d.append(a[i]+b[j])\n",
    "print(d)"
   ]
  },
  {
   "cell_type": "code",
   "execution_count": null,
   "id": "09ecbbe5",
   "metadata": {},
   "outputs": [],
   "source": []
  },
  {
   "cell_type": "code",
   "execution_count": null,
   "id": "d1f20611",
   "metadata": {},
   "outputs": [],
   "source": []
  },
  {
   "cell_type": "code",
   "execution_count": null,
   "id": "b36b45b6",
   "metadata": {},
   "outputs": [],
   "source": []
  }
 ],
 "metadata": {
  "kernelspec": {
   "display_name": "Python 3 (ipykernel)",
   "language": "python",
   "name": "python3"
  },
  "language_info": {
   "codemirror_mode": {
    "name": "ipython",
    "version": 3
   },
   "file_extension": ".py",
   "mimetype": "text/x-python",
   "name": "python",
   "nbconvert_exporter": "python",
   "pygments_lexer": "ipython3",
   "version": "3.11.5"
  }
 },
 "nbformat": 4,
 "nbformat_minor": 5
}
