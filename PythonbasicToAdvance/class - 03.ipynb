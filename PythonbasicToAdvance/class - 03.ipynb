{
 "cells": [
  {
   "cell_type": "markdown",
   "id": "9cffa27a",
   "metadata": {},
   "source": [
    "In Python speifically , strings area sequence of unicode characters.<br>\n",
    "1. creating strings <br>\n",
    "2. Accessecing string <br>\n",
    "3. adding characters to string <br>\n",
    "4. Deleting strings <br>\n",
    "5. Operations on strings <br>\n",
    "6. Editing strings <br>\n",
    "7. String functions"
   ]
  },
  {
   "cell_type": "code",
   "execution_count": 1,
   "id": "76a96ec6",
   "metadata": {},
   "outputs": [],
   "source": [
    "# Creating strings: i. single quote ii. Double iii. multiple line iv. type conversion"
   ]
  },
  {
   "cell_type": "code",
   "execution_count": 2,
   "id": "07492f50",
   "metadata": {},
   "outputs": [],
   "source": [
    "single = 'My name is Subena'\n",
    "double = \"Mother's of Dhoha\"\n",
    "multiline = \"\"\"\n",
    "I have a daughter.\n",
    "She loves me more than i love her.\n",
    "She always take care me.\n",
    "Love of my life my daughter.\n",
    "\"\"\"\n",
    "typeconv = str(2345)"
   ]
  },
  {
   "cell_type": "code",
   "execution_count": 3,
   "id": "360a4d1a",
   "metadata": {},
   "outputs": [
    {
     "data": {
      "text/plain": [
       "'My name is Subena'"
      ]
     },
     "execution_count": 3,
     "metadata": {},
     "output_type": "execute_result"
    }
   ],
   "source": [
    "single"
   ]
  },
  {
   "cell_type": "code",
   "execution_count": 4,
   "id": "111d6052",
   "metadata": {},
   "outputs": [
    {
     "data": {
      "text/plain": [
       "\"Mother's of Dhoha\""
      ]
     },
     "execution_count": 4,
     "metadata": {},
     "output_type": "execute_result"
    }
   ],
   "source": [
    "double"
   ]
  },
  {
   "cell_type": "code",
   "execution_count": 5,
   "id": "59433c4a",
   "metadata": {},
   "outputs": [
    {
     "data": {
      "text/plain": [
       "'\\nI have a daughter.\\nShe loves me more than i love her.\\nShe always take care me.\\nLove of my life my daughter.\\n'"
      ]
     },
     "execution_count": 5,
     "metadata": {},
     "output_type": "execute_result"
    }
   ],
   "source": [
    "multiline"
   ]
  },
  {
   "cell_type": "code",
   "execution_count": 6,
   "id": "cf0e65d1",
   "metadata": {},
   "outputs": [
    {
     "data": {
      "text/plain": [
       "'2345'"
      ]
     },
     "execution_count": 6,
     "metadata": {},
     "output_type": "execute_result"
    }
   ],
   "source": [
    "typeconv"
   ]
  },
  {
   "cell_type": "code",
   "execution_count": 7,
   "id": "dc5ce39e",
   "metadata": {},
   "outputs": [
    {
     "name": "stdout",
     "output_type": "stream",
     "text": [
      "M\n"
     ]
    }
   ],
   "source": [
    "# accessing substring from a string\n",
    "# indexinf- 0,1,2,3,4-----\n",
    "s = \"My name is Subena\"\n",
    "fp = s[0]\n",
    "print(fp)"
   ]
  },
  {
   "cell_type": "code",
   "execution_count": 8,
   "id": "c5ab73d0",
   "metadata": {},
   "outputs": [
    {
     "name": "stdout",
     "output_type": "stream",
     "text": [
      "b\n"
     ]
    }
   ],
   "source": [
    "# negative indexing\n",
    "lstp = s[-4] # last to first count.\n",
    "print(lstp)"
   ]
  },
  {
   "cell_type": "code",
   "execution_count": 9,
   "id": "d62e623c",
   "metadata": {},
   "outputs": [
    {
     "name": "stdout",
     "output_type": "stream",
     "text": [
      "My name is Subena\n"
     ]
    }
   ],
   "source": [
    "# slicing\n",
    "# first to last\n",
    "print(s[:])"
   ]
  },
  {
   "cell_type": "code",
   "execution_count": 10,
   "id": "3fd1baa0",
   "metadata": {},
   "outputs": [
    {
     "name": "stdout",
     "output_type": "stream",
     "text": [
      "My name is Subena\n"
     ]
    }
   ],
   "source": [
    "print(s[::])"
   ]
  },
  {
   "cell_type": "code",
   "execution_count": 11,
   "id": "7b9a72f2",
   "metadata": {},
   "outputs": [
    {
     "name": "stdout",
     "output_type": "stream",
     "text": [
      " name i\n"
     ]
    }
   ],
   "source": [
    "# 2 no postion to 8 no postion\n",
    "print(s[2:9])"
   ]
  },
  {
   "cell_type": "code",
   "execution_count": 12,
   "id": "3e4ffbf9",
   "metadata": {},
   "outputs": [
    {
     "name": "stdout",
     "output_type": "stream",
     "text": [
      "ame is Subena\n"
     ]
    }
   ],
   "source": [
    "# 4 to last\n",
    "print(s[4:])"
   ]
  },
  {
   "cell_type": "code",
   "execution_count": 13,
   "id": "120fe66d",
   "metadata": {},
   "outputs": [
    {
     "name": "stdout",
     "output_type": "stream",
     "text": [
      " aei\n"
     ]
    }
   ],
   "source": [
    "# from 2 to 10 but every 2 step\n",
    "print(s[2:10:2])"
   ]
  },
  {
   "cell_type": "code",
   "execution_count": 14,
   "id": "944e34f4",
   "metadata": {},
   "outputs": [
    {
     "name": "stdout",
     "output_type": "stream",
     "text": [
      " aei ue\n"
     ]
    }
   ],
   "source": [
    "# from 1 to lat but every 2 step\n",
    "print(s[2:-1:2])"
   ]
  },
  {
   "cell_type": "code",
   "execution_count": 15,
   "id": "057f867f",
   "metadata": {},
   "outputs": [
    {
     "name": "stdout",
     "output_type": "stream",
     "text": [
      "Subena\n"
     ]
    }
   ],
   "source": [
    "# Negative slicing\n",
    "print(s[-6:])"
   ]
  },
  {
   "cell_type": "code",
   "execution_count": 16,
   "id": "54e0040e",
   "metadata": {},
   "outputs": [
    {
     "name": "stdout",
     "output_type": "stream",
     "text": [
      "nebuS \n"
     ]
    }
   ],
   "source": [
    "print(s[-2:-8:-1])"
   ]
  },
  {
   "cell_type": "code",
   "execution_count": 17,
   "id": "4a82527c",
   "metadata": {},
   "outputs": [
    {
     "name": "stdout",
     "output_type": "stream",
     "text": [
      "anebuS si ema\n"
     ]
    }
   ],
   "source": [
    "# revesly print\n",
    "print(s[-1:-14:-1])"
   ]
  },
  {
   "cell_type": "code",
   "execution_count": 18,
   "id": "2449be45",
   "metadata": {},
   "outputs": [
    {
     "name": "stdout",
     "output_type": "stream",
     "text": [
      "aeu iea\n"
     ]
    }
   ],
   "source": [
    "# revesly print\n",
    "print(s[-1:-14:-2])"
   ]
  },
  {
   "cell_type": "code",
   "execution_count": 19,
   "id": "4b863da5",
   "metadata": {},
   "outputs": [
    {
     "ename": "NameError",
     "evalue": "name 's1' is not defined",
     "output_type": "error",
     "traceback": [
      "\u001b[1;31m---------------------------------------------------------------------------\u001b[0m",
      "\u001b[1;31mNameError\u001b[0m                                 Traceback (most recent call last)",
      "Cell \u001b[1;32mIn[19], line 5\u001b[0m\n\u001b[0;32m      3\u001b[0m s1 \u001b[38;5;241m=\u001b[39m \u001b[38;5;124m'\u001b[39m\u001b[38;5;124mhello\u001b[39m\u001b[38;5;124m'\u001b[39m\n\u001b[0;32m      4\u001b[0m \u001b[38;5;28;01mdel\u001b[39;00m s1\n\u001b[1;32m----> 5\u001b[0m \u001b[38;5;28mprint\u001b[39m(s1)\n",
      "\u001b[1;31mNameError\u001b[0m: name 's1' is not defined"
     ]
    }
   ],
   "source": [
    "# editing and deleting\n",
    "# string can not edit. immuatble\n",
    "s1 = 'hello'\n",
    "del s1\n",
    "print(s1)"
   ]
  },
  {
   "cell_type": "code",
   "execution_count": null,
   "id": "e8966c30",
   "metadata": {},
   "outputs": [],
   "source": [
    "# operations on strings\n",
    "# arithmetic\n",
    "# relational\n",
    "# logical\n",
    "# loops on strings\n",
    "# membership : in , not in"
   ]
  },
  {
   "cell_type": "code",
   "execution_count": null,
   "id": "87482412",
   "metadata": {},
   "outputs": [],
   "source": [
    "# arithmeti: +, *\n",
    "s1 = 'My '\n",
    "s2 = 'name '\n",
    "s3 = 'is '\n",
    "s4 = 'Subena'\n",
    "fullName = s1 + s2 + s3 + s4\n",
    "print(fullName)"
   ]
  },
  {
   "cell_type": "code",
   "execution_count": null,
   "id": "5b71bfb3",
   "metadata": {},
   "outputs": [],
   "source": [
    "name = s4*4\n",
    "print(name)\n"
   ]
  },
  {
   "cell_type": "code",
   "execution_count": null,
   "id": "61bfb1a8",
   "metadata": {},
   "outputs": [],
   "source": [
    "# Relational\n",
    "'Subena' == 'Subena'"
   ]
  },
  {
   "cell_type": "code",
   "execution_count": 20,
   "id": "72b74368",
   "metadata": {},
   "outputs": [
    {
     "data": {
      "text/plain": [
       "False"
      ]
     },
     "execution_count": 20,
     "metadata": {},
     "output_type": "execute_result"
    }
   ],
   "source": [
    "'Subena' != 'Subena'"
   ]
  },
  {
   "cell_type": "code",
   "execution_count": 21,
   "id": "6f8e63ea",
   "metadata": {},
   "outputs": [
    {
     "data": {
      "text/plain": [
       "False"
      ]
     },
     "execution_count": 21,
     "metadata": {},
     "output_type": "execute_result"
    }
   ],
   "source": [
    "'Subena' == 'subena'"
   ]
  },
  {
   "cell_type": "code",
   "execution_count": 22,
   "id": "fd34953b",
   "metadata": {},
   "outputs": [
    {
     "data": {
      "text/plain": [
       "False"
      ]
     },
     "execution_count": 22,
     "metadata": {},
     "output_type": "execute_result"
    }
   ],
   "source": [
    "'Dhoha' > 'Subena'"
   ]
  },
  {
   "cell_type": "code",
   "execution_count": 23,
   "id": "6d21975c",
   "metadata": {},
   "outputs": [
    {
     "data": {
      "text/plain": [
       "'Subena'"
      ]
     },
     "execution_count": 23,
     "metadata": {},
     "output_type": "execute_result"
    }
   ],
   "source": [
    "# logical\n",
    "'Dhoha' and 'Subena'"
   ]
  },
  {
   "cell_type": "code",
   "execution_count": 24,
   "id": "e7b66559",
   "metadata": {},
   "outputs": [
    {
     "data": {
      "text/plain": [
       "'Dhoha'"
      ]
     },
     "execution_count": 24,
     "metadata": {},
     "output_type": "execute_result"
    }
   ],
   "source": [
    " 'Dhoha' or 'Subena'"
   ]
  },
  {
   "cell_type": "code",
   "execution_count": 25,
   "id": "dad34356",
   "metadata": {},
   "outputs": [
    {
     "data": {
      "text/plain": [
       "False"
      ]
     },
     "execution_count": 25,
     "metadata": {},
     "output_type": "execute_result"
    }
   ],
   "source": [
    "not 'Subena'"
   ]
  },
  {
   "cell_type": "code",
   "execution_count": 26,
   "id": "843428d2",
   "metadata": {},
   "outputs": [
    {
     "name": "stdout",
     "output_type": "stream",
     "text": [
      "A\n",
      "m\n",
      "i\n",
      " \n",
      "D\n",
      "h\n",
      "o\n",
      "h\n",
      "a\n",
      "r\n",
      " \n",
      "M\n",
      "a\n"
     ]
    }
   ],
   "source": [
    "# loops strings:\n",
    "s = 'Ami Dhohar Ma'\n",
    "for i in s:\n",
    "    print(i)"
   ]
  },
  {
   "cell_type": "code",
   "execution_count": 27,
   "id": "0a2a7b13",
   "metadata": {},
   "outputs": [
    {
     "name": "stdout",
     "output_type": "stream",
     "text": [
      "1\n",
      "2\n",
      "3\n",
      "4\n",
      "5\n",
      "6\n",
      "7\n",
      "8\n",
      "9\n",
      "10\n",
      "11\n",
      "12\n"
     ]
    }
   ],
   "source": [
    "for i in range(1,len(s)):\n",
    "    print(i)"
   ]
  },
  {
   "cell_type": "code",
   "execution_count": 28,
   "id": "8d84dbf4",
   "metadata": {},
   "outputs": [
    {
     "data": {
      "text/plain": [
       "13"
      ]
     },
     "execution_count": 28,
     "metadata": {},
     "output_type": "execute_result"
    }
   ],
   "source": [
    "len(s)"
   ]
  },
  {
   "cell_type": "code",
   "execution_count": 29,
   "id": "35cae7e3",
   "metadata": {},
   "outputs": [
    {
     "data": {
      "text/plain": [
       "False"
      ]
     },
     "execution_count": 29,
     "metadata": {},
     "output_type": "execute_result"
    }
   ],
   "source": [
    "# membership\n",
    "'s' in 'Subena'"
   ]
  },
  {
   "cell_type": "code",
   "execution_count": 30,
   "id": "bf8ba21a",
   "metadata": {},
   "outputs": [
    {
     "name": "stdout",
     "output_type": "stream",
     "text": [
      "17 y   [' ', ' ', ' ', 'M', 'S', 'a', 'a', 'b', 'e', 'e', 'i', 'm', 'n', 'n', 's', 'u', 'y']\n"
     ]
    }
   ],
   "source": [
    "# common: len()/ max()/ min()/ sorted\n",
    "s = \"My name is Subena\"\n",
    "l = len(s)\n",
    "m = max(s)\n",
    "mi = min(s)\n",
    "sort = sorted(s)\n",
    "print(l,m,mi,sort)"
   ]
  },
  {
   "cell_type": "code",
   "execution_count": 31,
   "id": "e252f729",
   "metadata": {},
   "outputs": [
    {
     "data": {
      "text/plain": [
       "'y'"
      ]
     },
     "execution_count": 31,
     "metadata": {},
     "output_type": "execute_result"
    }
   ],
   "source": [
    "m"
   ]
  },
  {
   "cell_type": "code",
   "execution_count": 32,
   "id": "ffd0023d",
   "metadata": {},
   "outputs": [
    {
     "data": {
      "text/plain": [
       "' '"
      ]
     },
     "execution_count": 32,
     "metadata": {},
     "output_type": "execute_result"
    }
   ],
   "source": [
    "mi"
   ]
  },
  {
   "cell_type": "code",
   "execution_count": 33,
   "id": "80c06b34",
   "metadata": {},
   "outputs": [
    {
     "data": {
      "text/plain": [
       "17"
      ]
     },
     "execution_count": 33,
     "metadata": {},
     "output_type": "execute_result"
    }
   ],
   "source": [
    "len(sort)"
   ]
  },
  {
   "cell_type": "code",
   "execution_count": 34,
   "id": "906e60be",
   "metadata": {},
   "outputs": [
    {
     "name": "stdout",
     "output_type": "stream",
     "text": [
      " \n",
      " \n",
      " \n",
      "M\n",
      "S\n",
      "a\n",
      "a\n",
      "b\n",
      "e\n",
      "e\n",
      "i\n",
      "m\n",
      "n\n",
      "n\n",
      "s\n",
      "u\n",
      "y\n"
     ]
    }
   ],
   "source": [
    "for i in sort:\n",
    "    print(i)"
   ]
  },
  {
   "cell_type": "code",
   "execution_count": 35,
   "id": "436ce2f1",
   "metadata": {},
   "outputs": [
    {
     "data": {
      "text/plain": [
       "'My name is subena'"
      ]
     },
     "execution_count": 35,
     "metadata": {},
     "output_type": "execute_result"
    }
   ],
   "source": [
    "# capitalize, title, upper, lower,swapcase\n",
    "# capitalize\n",
    "s.capitalize()"
   ]
  },
  {
   "cell_type": "code",
   "execution_count": 36,
   "id": "85d35b0b",
   "metadata": {},
   "outputs": [
    {
     "data": {
      "text/plain": [
       "'MY NAME IS SUBENA'"
      ]
     },
     "execution_count": 36,
     "metadata": {},
     "output_type": "execute_result"
    }
   ],
   "source": [
    "s.upper()"
   ]
  },
  {
   "cell_type": "code",
   "execution_count": 37,
   "id": "07dcf906",
   "metadata": {},
   "outputs": [
    {
     "data": {
      "text/plain": [
       "'my name is subena'"
      ]
     },
     "execution_count": 37,
     "metadata": {},
     "output_type": "execute_result"
    }
   ],
   "source": [
    "s.lower()"
   ]
  },
  {
   "cell_type": "code",
   "execution_count": 38,
   "id": "6321e5a9",
   "metadata": {},
   "outputs": [
    {
     "data": {
      "text/plain": [
       "'mY NAME IS sUBENA'"
      ]
     },
     "execution_count": 38,
     "metadata": {},
     "output_type": "execute_result"
    }
   ],
   "source": [
    "s.swapcase()"
   ]
  },
  {
   "cell_type": "code",
   "execution_count": 39,
   "id": "ab5cb673",
   "metadata": {},
   "outputs": [
    {
     "data": {
      "text/plain": [
       "'My Name Is Subena'"
      ]
     },
     "execution_count": 39,
     "metadata": {},
     "output_type": "execute_result"
    }
   ],
   "source": [
    "s.title()"
   ]
  },
  {
   "cell_type": "code",
   "execution_count": 40,
   "id": "0474189a",
   "metadata": {},
   "outputs": [],
   "source": [
    "# count/find/index/ensdwith/startwith/format/isalnum/isalpha/isdigit/isidentifier/split/join/replace/strip"
   ]
  },
  {
   "cell_type": "code",
   "execution_count": 41,
   "id": "0dd4e484",
   "metadata": {},
   "outputs": [
    {
     "data": {
      "text/plain": [
       "0"
      ]
     },
     "execution_count": 41,
     "metadata": {},
     "output_type": "execute_result"
    }
   ],
   "source": [
    "s.count('subena')"
   ]
  },
  {
   "cell_type": "code",
   "execution_count": 42,
   "id": "a1392a57",
   "metadata": {},
   "outputs": [
    {
     "data": {
      "text/plain": [
       "'My name is Subena'"
      ]
     },
     "execution_count": 42,
     "metadata": {},
     "output_type": "execute_result"
    }
   ],
   "source": [
    "s"
   ]
  },
  {
   "cell_type": "code",
   "execution_count": 43,
   "id": "d7231a4c",
   "metadata": {},
   "outputs": [
    {
     "data": {
      "text/plain": [
       "2"
      ]
     },
     "execution_count": 43,
     "metadata": {},
     "output_type": "execute_result"
    }
   ],
   "source": [
    "s.count('a')"
   ]
  },
  {
   "cell_type": "code",
   "execution_count": 44,
   "id": "cbb83888",
   "metadata": {},
   "outputs": [
    {
     "data": {
      "text/plain": [
       "4"
      ]
     },
     "execution_count": 44,
     "metadata": {},
     "output_type": "execute_result"
    }
   ],
   "source": [
    "s.find('a') # position output"
   ]
  },
  {
   "cell_type": "code",
   "execution_count": 45,
   "id": "630873c7",
   "metadata": {},
   "outputs": [
    {
     "data": {
      "text/plain": [
       "4"
      ]
     },
     "execution_count": 45,
     "metadata": {},
     "output_type": "execute_result"
    }
   ],
   "source": [
    "s.index('a') # same as find"
   ]
  },
  {
   "cell_type": "code",
   "execution_count": 46,
   "id": "90ba02c0",
   "metadata": {},
   "outputs": [
    {
     "data": {
      "text/plain": [
       "True"
      ]
     },
     "execution_count": 46,
     "metadata": {},
     "output_type": "execute_result"
    }
   ],
   "source": [
    "s.endswith('na')"
   ]
  },
  {
   "cell_type": "code",
   "execution_count": 47,
   "id": "f7108361",
   "metadata": {},
   "outputs": [
    {
     "data": {
      "text/plain": [
       "False"
      ]
     },
     "execution_count": 47,
     "metadata": {},
     "output_type": "execute_result"
    }
   ],
   "source": [
    "s.startswith('Sub')"
   ]
  },
  {
   "cell_type": "code",
   "execution_count": 48,
   "id": "0bb2f525",
   "metadata": {},
   "outputs": [
    {
     "name": "stdout",
     "output_type": "stream",
     "text": [
      "my name is Subena. my age is 28 and my birth year is1995\n"
     ]
    }
   ],
   "source": [
    "name = 'Subena'\n",
    "age = 28\n",
    "byear = 1995\n",
    "print('my name is {}. my age is {} and my birth year is{}'.format(name,age,byear))"
   ]
  },
  {
   "cell_type": "code",
   "execution_count": 49,
   "id": "962f01c9",
   "metadata": {},
   "outputs": [
    {
     "data": {
      "text/plain": [
       "False"
      ]
     },
     "execution_count": 49,
     "metadata": {},
     "output_type": "execute_result"
    }
   ],
   "source": [
    "s.isalnum()"
   ]
  },
  {
   "cell_type": "code",
   "execution_count": 50,
   "id": "93afb955",
   "metadata": {},
   "outputs": [
    {
     "data": {
      "text/plain": [
       "False"
      ]
     },
     "execution_count": 50,
     "metadata": {},
     "output_type": "execute_result"
    }
   ],
   "source": [
    "s.isalpha()"
   ]
  },
  {
   "cell_type": "code",
   "execution_count": 51,
   "id": "4db01af5",
   "metadata": {},
   "outputs": [
    {
     "data": {
      "text/plain": [
       "False"
      ]
     },
     "execution_count": 51,
     "metadata": {},
     "output_type": "execute_result"
    }
   ],
   "source": [
    "s.isdigit()"
   ]
  },
  {
   "cell_type": "code",
   "execution_count": 52,
   "id": "b9a69e19",
   "metadata": {},
   "outputs": [
    {
     "data": {
      "text/plain": [
       "False"
      ]
     },
     "execution_count": 52,
     "metadata": {},
     "output_type": "execute_result"
    }
   ],
   "source": [
    "s.isidentifier()"
   ]
  },
  {
   "cell_type": "code",
   "execution_count": 53,
   "id": "83a40e3b",
   "metadata": {},
   "outputs": [
    {
     "data": {
      "text/plain": [
       "'My name is Subena'"
      ]
     },
     "execution_count": 53,
     "metadata": {},
     "output_type": "execute_result"
    }
   ],
   "source": [
    "# split and join\n",
    "s"
   ]
  },
  {
   "cell_type": "code",
   "execution_count": 54,
   "id": "56fc3f60",
   "metadata": {},
   "outputs": [],
   "source": [
    "s1 = s.split() # wor alada kore fela"
   ]
  },
  {
   "cell_type": "code",
   "execution_count": 55,
   "id": "b62e786a",
   "metadata": {},
   "outputs": [
    {
     "data": {
      "text/plain": [
       "'My+name+is+Subena'"
      ]
     },
     "execution_count": 55,
     "metadata": {},
     "output_type": "execute_result"
    }
   ],
   "source": [
    "'+'.join(s1)"
   ]
  },
  {
   "cell_type": "code",
   "execution_count": 56,
   "id": "b55e3b85",
   "metadata": {},
   "outputs": [
    {
     "name": "stdout",
     "output_type": "stream",
     "text": [
      "My\n",
      "name\n",
      "is\n",
      "Subena\n"
     ]
    }
   ],
   "source": [
    "for i in s1:\n",
    "    print(i)"
   ]
  },
  {
   "cell_type": "code",
   "execution_count": 57,
   "id": "9b61d0c5",
   "metadata": {},
   "outputs": [
    {
     "data": {
      "text/plain": [
       "'My name is Mother of Dhoha'"
      ]
     },
     "execution_count": 57,
     "metadata": {},
     "output_type": "execute_result"
    }
   ],
   "source": [
    "# replace\n",
    "s.replace(\"Subena\",\"Mother of Dhoha\")"
   ]
  },
  {
   "cell_type": "code",
   "execution_count": 58,
   "id": "a94324ed",
   "metadata": {},
   "outputs": [
    {
     "data": {
      "text/plain": [
       "'My name is Subena'"
      ]
     },
     "execution_count": 58,
     "metadata": {},
     "output_type": "execute_result"
    }
   ],
   "source": [
    "s.strip()"
   ]
  },
  {
   "cell_type": "code",
   "execution_count": 59,
   "id": "8f81df95",
   "metadata": {},
   "outputs": [
    {
     "data": {
      "text/plain": [
       "'hello'"
      ]
     },
     "execution_count": 59,
     "metadata": {},
     "output_type": "execute_result"
    }
   ],
   "source": [
    "s3 = \"  hello  \"\n",
    "s3.strip() # remove unnecessary space"
   ]
  },
  {
   "cell_type": "code",
   "execution_count": null,
   "id": "b20a5014",
   "metadata": {},
   "outputs": [],
   "source": []
  },
  {
   "cell_type": "code",
   "execution_count": null,
   "id": "62004a38",
   "metadata": {},
   "outputs": [],
   "source": []
  }
 ],
 "metadata": {
  "kernelspec": {
   "display_name": "Python 3 (ipykernel)",
   "language": "python",
   "name": "python3"
  },
  "language_info": {
   "codemirror_mode": {
    "name": "ipython",
    "version": 3
   },
   "file_extension": ".py",
   "mimetype": "text/x-python",
   "name": "python",
   "nbconvert_exporter": "python",
   "pygments_lexer": "ipython3",
   "version": "3.11.5"
  }
 },
 "nbformat": 4,
 "nbformat_minor": 5
}
