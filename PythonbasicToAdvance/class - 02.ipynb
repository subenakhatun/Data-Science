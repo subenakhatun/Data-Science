{
 "cells": [
  {
   "cell_type": "code",
   "execution_count": 1,
   "id": "9997059d",
   "metadata": {},
   "outputs": [
    {
     "name": "stdout",
     "output_type": "stream",
     "text": [
      "-1\n"
     ]
    }
   ],
   "source": [
    "# Arithmetic Operators\n",
    "print(5-6)"
   ]
  },
  {
   "cell_type": "code",
   "execution_count": 2,
   "id": "61892650",
   "metadata": {},
   "outputs": [
    {
     "name": "stdout",
     "output_type": "stream",
     "text": [
      "11\n"
     ]
    }
   ],
   "source": [
    "print(5+6)"
   ]
  },
  {
   "cell_type": "code",
   "execution_count": 3,
   "id": "8cc2b133",
   "metadata": {},
   "outputs": [
    {
     "name": "stdout",
     "output_type": "stream",
     "text": [
      "30\n"
     ]
    }
   ],
   "source": [
    "print(5*6)"
   ]
  },
  {
   "cell_type": "code",
   "execution_count": 4,
   "id": "2d096ed6",
   "metadata": {},
   "outputs": [
    {
     "name": "stdout",
     "output_type": "stream",
     "text": [
      "0.8333333333333334\n"
     ]
    }
   ],
   "source": [
    "print(5/6)"
   ]
  },
  {
   "cell_type": "code",
   "execution_count": 5,
   "id": "a750306b",
   "metadata": {},
   "outputs": [
    {
     "name": "stdout",
     "output_type": "stream",
     "text": [
      "0\n"
     ]
    }
   ],
   "source": [
    "print(8//9)"
   ]
  },
  {
   "cell_type": "code",
   "execution_count": 6,
   "id": "83058a7b",
   "metadata": {},
   "outputs": [
    {
     "name": "stdout",
     "output_type": "stream",
     "text": [
      "1\n"
     ]
    }
   ],
   "source": [
    "print(9//8)"
   ]
  },
  {
   "cell_type": "code",
   "execution_count": 7,
   "id": "1994463b",
   "metadata": {},
   "outputs": [
    {
     "name": "stdout",
     "output_type": "stream",
     "text": [
      "3\n"
     ]
    }
   ],
   "source": [
    "print(8%5)"
   ]
  },
  {
   "cell_type": "code",
   "execution_count": 8,
   "id": "d0773dbe",
   "metadata": {},
   "outputs": [
    {
     "name": "stdout",
     "output_type": "stream",
     "text": [
      "25\n"
     ]
    }
   ],
   "source": [
    "print(5**2)"
   ]
  },
  {
   "cell_type": "code",
   "execution_count": 9,
   "id": "ded9d783",
   "metadata": {},
   "outputs": [
    {
     "name": "stdout",
     "output_type": "stream",
     "text": [
      "False\n"
     ]
    }
   ],
   "source": [
    "# Relational Operator: comapre two value each other\n",
    "print(4>5)"
   ]
  },
  {
   "cell_type": "code",
   "execution_count": 10,
   "id": "d0f1908d",
   "metadata": {},
   "outputs": [
    {
     "name": "stdout",
     "output_type": "stream",
     "text": [
      "True\n"
     ]
    }
   ],
   "source": [
    "print(4<5)"
   ]
  },
  {
   "cell_type": "code",
   "execution_count": 11,
   "id": "c7a28e3e",
   "metadata": {},
   "outputs": [
    {
     "name": "stdout",
     "output_type": "stream",
     "text": [
      "False\n"
     ]
    }
   ],
   "source": [
    "print(4>=5)"
   ]
  },
  {
   "cell_type": "code",
   "execution_count": 12,
   "id": "beecbf65",
   "metadata": {},
   "outputs": [
    {
     "name": "stdout",
     "output_type": "stream",
     "text": [
      "True\n"
     ]
    }
   ],
   "source": [
    "print(4<=5)"
   ]
  },
  {
   "cell_type": "code",
   "execution_count": 13,
   "id": "d9df5abd",
   "metadata": {},
   "outputs": [
    {
     "name": "stdout",
     "output_type": "stream",
     "text": [
      "True\n"
     ]
    }
   ],
   "source": [
    "print(4==4)"
   ]
  },
  {
   "cell_type": "code",
   "execution_count": 14,
   "id": "8d2e3080",
   "metadata": {},
   "outputs": [
    {
     "name": "stdout",
     "output_type": "stream",
     "text": [
      "True\n"
     ]
    }
   ],
   "source": [
    "print(4!=5)"
   ]
  },
  {
   "cell_type": "code",
   "execution_count": 15,
   "id": "88e5c7d2",
   "metadata": {},
   "outputs": [
    {
     "name": "stdout",
     "output_type": "stream",
     "text": [
      "0\n"
     ]
    }
   ],
   "source": [
    "# Logical Operator: and or not\n",
    "print(1 and 0)"
   ]
  },
  {
   "cell_type": "code",
   "execution_count": 16,
   "id": "9f0ea67b",
   "metadata": {},
   "outputs": [
    {
     "name": "stdout",
     "output_type": "stream",
     "text": [
      "1\n"
     ]
    }
   ],
   "source": [
    "print(1 or 0)"
   ]
  },
  {
   "cell_type": "code",
   "execution_count": 17,
   "id": "078aaeb9",
   "metadata": {},
   "outputs": [
    {
     "name": "stdout",
     "output_type": "stream",
     "text": [
      "False\n"
     ]
    }
   ],
   "source": [
    "print(not 1)"
   ]
  },
  {
   "cell_type": "code",
   "execution_count": 18,
   "id": "0c4e3ae7",
   "metadata": {},
   "outputs": [],
   "source": [
    "# Bitwise Operators: Binar [ 0,1] format\n",
    "# bitwise and (&)\n",
    "# bitwise or (|)\n",
    "# bitwise xor ( ^)"
   ]
  },
  {
   "cell_type": "code",
   "execution_count": 19,
   "id": "1e66750b",
   "metadata": {},
   "outputs": [
    {
     "name": "stdout",
     "output_type": "stream",
     "text": [
      "2\n"
     ]
    }
   ],
   "source": [
    "print(2 & 3)"
   ]
  },
  {
   "cell_type": "code",
   "execution_count": 20,
   "id": "a3956db8",
   "metadata": {},
   "outputs": [],
   "source": [
    "# 010\n",
    "# 011\n",
    "\n",
    "# if two number 1 then print true (1) otherwise false: condition of &\n",
    "# 0 + 0 = 0, 0 + 1 = 1, 1 + 0 = 1, and 1 + 1 = 10"
   ]
  },
  {
   "cell_type": "code",
   "execution_count": 21,
   "id": "05d40a30",
   "metadata": {},
   "outputs": [
    {
     "name": "stdout",
     "output_type": "stream",
     "text": [
      "3\n"
     ]
    }
   ],
   "source": [
    "print(2 | 3)"
   ]
  },
  {
   "cell_type": "code",
   "execution_count": 22,
   "id": "12d4dca2",
   "metadata": {},
   "outputs": [
    {
     "name": "stdout",
     "output_type": "stream",
     "text": [
      "1\n"
     ]
    }
   ],
   "source": [
    "print(2^3)"
   ]
  },
  {
   "cell_type": "code",
   "execution_count": 23,
   "id": "2cea03ba",
   "metadata": {},
   "outputs": [],
   "source": [
    "# xor: any one true so answer true(1) otherwise false (0)\n",
    "# or: both true then ture(1) otherwise false"
   ]
  },
  {
   "cell_type": "code",
   "execution_count": 24,
   "id": "e2cc5bb5",
   "metadata": {},
   "outputs": [
    {
     "name": "stdout",
     "output_type": "stream",
     "text": [
      "4\n"
     ]
    }
   ],
   "source": [
    "# Assignment Operator: =, ==, +=, -=\n",
    "a = 4\n",
    "print(a)"
   ]
  },
  {
   "cell_type": "code",
   "execution_count": 25,
   "id": "7488f5ee",
   "metadata": {},
   "outputs": [
    {
     "name": "stdout",
     "output_type": "stream",
     "text": [
      "8\n"
     ]
    }
   ],
   "source": [
    "a += 4\n",
    "print(a)"
   ]
  },
  {
   "cell_type": "code",
   "execution_count": 26,
   "id": "9084b61a",
   "metadata": {},
   "outputs": [
    {
     "name": "stdout",
     "output_type": "stream",
     "text": [
      "3\n"
     ]
    }
   ],
   "source": [
    "a -= 5\n",
    "print(a)"
   ]
  },
  {
   "cell_type": "code",
   "execution_count": 27,
   "id": "4a10efbd",
   "metadata": {},
   "outputs": [
    {
     "name": "stdout",
     "output_type": "stream",
     "text": [
      "False\n"
     ]
    }
   ],
   "source": [
    "print(a==2)"
   ]
  },
  {
   "cell_type": "code",
   "execution_count": 28,
   "id": "ca4a7402",
   "metadata": {},
   "outputs": [
    {
     "name": "stdout",
     "output_type": "stream",
     "text": [
      "True\n"
     ]
    }
   ],
   "source": [
    "# Membership Operators: in, not in\n",
    "print(\"1\" in \"123\")"
   ]
  },
  {
   "cell_type": "code",
   "execution_count": 29,
   "id": "c05fdfa4",
   "metadata": {},
   "outputs": [
    {
     "name": "stdout",
     "output_type": "stream",
     "text": [
      "False\n"
     ]
    }
   ],
   "source": [
    "print(\"1\" not in \"123\")"
   ]
  },
  {
   "cell_type": "code",
   "execution_count": 30,
   "id": "9c84bfe7",
   "metadata": {},
   "outputs": [
    {
     "name": "stdout",
     "output_type": "stream",
     "text": [
      "Enter three digit: \n"
     ]
    },
    {
     "ename": "ValueError",
     "evalue": "invalid literal for int() with base 10: ''",
     "output_type": "error",
     "traceback": [
      "\u001b[1;31m---------------------------------------------------------------------------\u001b[0m",
      "\u001b[1;31mValueError\u001b[0m                                Traceback (most recent call last)",
      "Cell \u001b[1;32mIn[30], line 2\u001b[0m\n\u001b[0;32m      1\u001b[0m \u001b[38;5;66;03m# find the sum of a 3 digit number entered by the user\u001b[39;00m\n\u001b[1;32m----> 2\u001b[0m a \u001b[38;5;241m=\u001b[39m \u001b[38;5;28mint\u001b[39m(\u001b[38;5;28minput\u001b[39m(\u001b[38;5;124m\"\u001b[39m\u001b[38;5;124mEnter three digit: \u001b[39m\u001b[38;5;124m\"\u001b[39m))\n\u001b[0;32m      3\u001b[0m \u001b[38;5;28mprint\u001b[39m(a\u001b[38;5;241m%\u001b[39m\u001b[38;5;241m10\u001b[39m)\n",
      "\u001b[1;31mValueError\u001b[0m: invalid literal for int() with base 10: ''"
     ]
    }
   ],
   "source": [
    "# find the sum of a 3 digit number entered by the user\n",
    "a = int(input(\"Enter three digit: \"))\n",
    "print(a%10)"
   ]
  },
  {
   "cell_type": "code",
   "execution_count": null,
   "id": "acfa8da1",
   "metadata": {},
   "outputs": [],
   "source": [
    "# knowledge problem\n",
    "b = a % 10\n",
    "c = a // 10\n",
    "d = c // 10\n",
    "print(b,c,d)\n",
    "print(b+c+d)"
   ]
  },
  {
   "cell_type": "code",
   "execution_count": null,
   "id": "13061bf6",
   "metadata": {},
   "outputs": [],
   "source": [
    "a//10"
   ]
  },
  {
   "cell_type": "code",
   "execution_count": null,
   "id": "d45cbb6b",
   "metadata": {},
   "outputs": [],
   "source": [
    "a%10"
   ]
  },
  {
   "cell_type": "code",
   "execution_count": null,
   "id": "b7134c9c",
   "metadata": {},
   "outputs": [],
   "source": [
    "number = int(input())\n",
    "a = number // 100\n",
    "b = number // 10 % 10\n",
    "c = number % 10\n",
    "print(a + b + c)"
   ]
  },
  {
   "cell_type": "code",
   "execution_count": null,
   "id": "6c488465",
   "metadata": {},
   "outputs": [],
   "source": [
    "number // 100"
   ]
  },
  {
   "cell_type": "code",
   "execution_count": null,
   "id": "d1a7d89e",
   "metadata": {},
   "outputs": [],
   "source": [
    "number // 10 % 10"
   ]
  },
  {
   "cell_type": "code",
   "execution_count": null,
   "id": "89590bbd",
   "metadata": {},
   "outputs": [],
   "source": [
    "number % 10"
   ]
  },
  {
   "cell_type": "code",
   "execution_count": null,
   "id": "2cd687b8",
   "metadata": {},
   "outputs": [],
   "source": [
    "# if - else in python\n",
    "# login program and identation\n",
    "# email: subenakhtun@gmail.com\n",
    "# password: 123\n",
    "email = input(\"Enter Your email: \")\n",
    "password = input(\"Enter your password: \")\n",
    "if email == \"subenakhtun@gmail.com\" and password == \"123\":\n",
    "    print(\"Welcome!\")\n",
    "else:\n",
    "    print(\"Incorrect. Try agin.\")"
   ]
  },
  {
   "cell_type": "code",
   "execution_count": null,
   "id": "3490ab97",
   "metadata": {},
   "outputs": [],
   "source": [
    "# elif -else statement\n",
    "email = input(\"Enter Your email: \")\n",
    "password = input(\"Enter your password: \")\n",
    "if email == \"subenakhtun@gmail.com\" and password == \"123\":\n",
    "    print(\"Welcome!\")\n",
    "if email == \"subenakhtun@gmail.com\" and password != \"123\":\n",
    "    password = input(\"Enter your password again: \")\n",
    "    if password == \"123\":\n",
    "        print(\"welcome\")\n",
    "else:\n",
    "    print(\"Incorrect. Try agin.\")"
   ]
  },
  {
   "cell_type": "code",
   "execution_count": null,
   "id": "4d15b6af",
   "metadata": {},
   "outputs": [],
   "source": [
    "# find the minimum of 3 given number\n",
    "a = int(input(\"number one: \"))\n",
    "b = int(input(\"number two: \"))\n",
    "c = int(input(\"number three: \"))\n",
    "if a < b and a < c:\n",
    "    print(f\"{a} is smallest\")\n",
    "elif b < c and b < a:\n",
    "    print(f\"{b} is smallest\")\n",
    "else:\n",
    "    print(f\"{c} is smallest\")"
   ]
  },
  {
   "cell_type": "code",
   "execution_count": null,
   "id": "134d267f",
   "metadata": {},
   "outputs": [],
   "source": [
    "# Menue driven calculation ( +, - , *. /)\n",
    "fnum = int(input(\"First number: \"))\n",
    "snum = int(input(\"Second number: \"))\n",
    "op = input(\"Enter the operation: \")\n",
    "if op == \"+\":\n",
    "    print(fnum+snum)\n",
    "elif op == \"-\":\n",
    "    print(fnum-snum)\n",
    "elif op == \"*\":\n",
    "    print(fnum*snum)\n",
    "else:\n",
    "    print(fnum/snum)"
   ]
  },
  {
   "cell_type": "code",
   "execution_count": null,
   "id": "88497db6",
   "metadata": {},
   "outputs": [],
   "source": [
    "menu = input(\"\"\"\n",
    "Hi! how can I help you?\n",
    "1. Enter 1 for pin change.\n",
    "2. Enter 2 for balance check\n",
    "3. Enter 3 for withdraw\n",
    "4. Enter 4 for \n",
    "\"\"\")\n",
    "if menu == \"1\":\n",
    "    print(\"pin change\")\n",
    "elif menu == \"2\":\n",
    "    print(\"balance check\")\n",
    "elif menu == \"3\":\n",
    "    print(\"withdraw\")\n",
    "else: \n",
    "    print(\"exit\")"
   ]
  },
  {
   "cell_type": "code",
   "execution_count": null,
   "id": "a55179ab",
   "metadata": {},
   "outputs": [],
   "source": [
    "# modules in python: math, keywords, constant, random\n",
    "# math: pi, log, sin, exp\n",
    "import math\n",
    "math.log(10)"
   ]
  },
  {
   "cell_type": "code",
   "execution_count": null,
   "id": "cf8422f8",
   "metadata": {},
   "outputs": [],
   "source": [
    "math.pi"
   ]
  },
  {
   "cell_type": "code",
   "execution_count": 31,
   "id": "0364353b",
   "metadata": {},
   "outputs": [
    {
     "ename": "NameError",
     "evalue": "name 'math' is not defined",
     "output_type": "error",
     "traceback": [
      "\u001b[1;31m---------------------------------------------------------------------------\u001b[0m",
      "\u001b[1;31mNameError\u001b[0m                                 Traceback (most recent call last)",
      "Cell \u001b[1;32mIn[31], line 1\u001b[0m\n\u001b[1;32m----> 1\u001b[0m math\u001b[38;5;241m.\u001b[39mexp(\u001b[38;5;241m3\u001b[39m)\n",
      "\u001b[1;31mNameError\u001b[0m: name 'math' is not defined"
     ]
    }
   ],
   "source": [
    "math.exp(3)"
   ]
  },
  {
   "cell_type": "code",
   "execution_count": 32,
   "id": "84acd0e6",
   "metadata": {},
   "outputs": [
    {
     "ename": "NameError",
     "evalue": "name 'math' is not defined",
     "output_type": "error",
     "traceback": [
      "\u001b[1;31m---------------------------------------------------------------------------\u001b[0m",
      "\u001b[1;31mNameError\u001b[0m                                 Traceback (most recent call last)",
      "Cell \u001b[1;32mIn[32], line 1\u001b[0m\n\u001b[1;32m----> 1\u001b[0m math\u001b[38;5;241m.\u001b[39msin(\u001b[38;5;241m30\u001b[39m)\n",
      "\u001b[1;31mNameError\u001b[0m: name 'math' is not defined"
     ]
    }
   ],
   "source": [
    "math.sin(30)"
   ]
  },
  {
   "cell_type": "code",
   "execution_count": 33,
   "id": "7edb32cd",
   "metadata": {},
   "outputs": [
    {
     "name": "stdout",
     "output_type": "stream",
     "text": [
      "['False', 'None', 'True', 'and', 'as', 'assert', 'async', 'await', 'break', 'class', 'continue', 'def', 'del', 'elif', 'else', 'except', 'finally', 'for', 'from', 'global', 'if', 'import', 'in', 'is', 'lambda', 'nonlocal', 'not', 'or', 'pass', 'raise', 'return', 'try', 'while', 'with', 'yield']\n"
     ]
    }
   ],
   "source": [
    "# keywords: reseverd word which i can not use as a variable\n",
    "import keyword\n",
    "print(keyword.kwlist)"
   ]
  },
  {
   "cell_type": "code",
   "execution_count": 34,
   "id": "08d96a35",
   "metadata": {},
   "outputs": [
    {
     "name": "stdout",
     "output_type": "stream",
     "text": [
      "No Python documentation found for 'module'.\n",
      "Use help() to get the interactive help utility.\n",
      "Use help(str) for help on the str class.\n",
      "\n"
     ]
    }
   ],
   "source": [
    "help(\"module\")"
   ]
  },
  {
   "cell_type": "code",
   "execution_count": 35,
   "id": "256402c3",
   "metadata": {},
   "outputs": [],
   "source": [
    "# Loops in python\n",
    "# for loop\n",
    "# while loop\n",
    "\n",
    "# while loop examples\n",
    "# program to print the table\n",
    "# sum of all digits of a given number\n",
    "# keep accepting numbers from users till he/she centers a 0 and then find the avg"
   ]
  },
  {
   "cell_type": "code",
   "execution_count": 36,
   "id": "e8da6177",
   "metadata": {},
   "outputs": [
    {
     "name": "stdout",
     "output_type": "stream",
     "text": [
      "Enter a number: \n"
     ]
    },
    {
     "ename": "ValueError",
     "evalue": "invalid literal for int() with base 10: ''",
     "output_type": "error",
     "traceback": [
      "\u001b[1;31m---------------------------------------------------------------------------\u001b[0m",
      "\u001b[1;31mValueError\u001b[0m                                Traceback (most recent call last)",
      "Cell \u001b[1;32mIn[36], line 2\u001b[0m\n\u001b[0;32m      1\u001b[0m \u001b[38;5;66;03m# table\u001b[39;00m\n\u001b[1;32m----> 2\u001b[0m num \u001b[38;5;241m=\u001b[39m \u001b[38;5;28mint\u001b[39m(\u001b[38;5;28minput\u001b[39m(\u001b[38;5;124m\"\u001b[39m\u001b[38;5;124mEnter a number: \u001b[39m\u001b[38;5;124m\"\u001b[39m))\n\u001b[0;32m      3\u001b[0m i \u001b[38;5;241m=\u001b[39m \u001b[38;5;241m1\u001b[39m\n\u001b[0;32m      4\u001b[0m \u001b[38;5;28;01mwhile\u001b[39;00m i \u001b[38;5;241m<\u001b[39m \u001b[38;5;241m11\u001b[39m:\n",
      "\u001b[1;31mValueError\u001b[0m: invalid literal for int() with base 10: ''"
     ]
    }
   ],
   "source": [
    "# table\n",
    "num = int(input(\"Enter a number: \"))\n",
    "i = 1\n",
    "while i < 11:\n",
    "    print(num, '*', i ,'=', num*i)\n",
    "    i += 1\n"
   ]
  },
  {
   "cell_type": "code",
   "execution_count": 37,
   "id": "db0f0aac",
   "metadata": {},
   "outputs": [
    {
     "name": "stdout",
     "output_type": "stream",
     "text": [
      "1\n",
      "2\n",
      "Limit Cross\n"
     ]
    }
   ],
   "source": [
    "# while loop with else\n",
    "x = 1\n",
    "while x < 3:\n",
    "    print(x)\n",
    "    x += 1\n",
    "else:\n",
    "    print(\"Limit Cross\")"
   ]
  },
  {
   "cell_type": "code",
   "execution_count": 38,
   "id": "0efb9e3d",
   "metadata": {},
   "outputs": [
    {
     "name": "stdout",
     "output_type": "stream",
     "text": [
      "Guess a number: \n"
     ]
    },
    {
     "ename": "ValueError",
     "evalue": "invalid literal for int() with base 10: ''",
     "output_type": "error",
     "traceback": [
      "\u001b[1;31m---------------------------------------------------------------------------\u001b[0m",
      "\u001b[1;31mValueError\u001b[0m                                Traceback (most recent call last)",
      "Cell \u001b[1;32mIn[38], line 5\u001b[0m\n\u001b[0;32m      3\u001b[0m \u001b[38;5;28;01mimport\u001b[39;00m \u001b[38;5;21;01mrandom\u001b[39;00m\n\u001b[0;32m      4\u001b[0m jak \u001b[38;5;241m=\u001b[39m random\u001b[38;5;241m.\u001b[39mrandint(\u001b[38;5;241m1\u001b[39m,\u001b[38;5;241m100\u001b[39m)\n\u001b[1;32m----> 5\u001b[0m guess \u001b[38;5;241m=\u001b[39m \u001b[38;5;28mint\u001b[39m(\u001b[38;5;28minput\u001b[39m(\u001b[38;5;124m\"\u001b[39m\u001b[38;5;124mGuess a number: \u001b[39m\u001b[38;5;124m\"\u001b[39m))\n\u001b[0;32m      6\u001b[0m count \u001b[38;5;241m=\u001b[39m \u001b[38;5;241m1\u001b[39m\n\u001b[0;32m      7\u001b[0m \u001b[38;5;28;01mwhile\u001b[39;00m guess \u001b[38;5;241m!=\u001b[39m jak:\n",
      "\u001b[1;31mValueError\u001b[0m: invalid literal for int() with base 10: ''"
     ]
    }
   ],
   "source": [
    "# Gussing Game:\n",
    "# Generate a random interger between 1 and 100\n",
    "import random\n",
    "jak = random.randint(1,100)\n",
    "guess = int(input(\"Guess a number: \"))\n",
    "count = 1\n",
    "while guess != jak:\n",
    "    if guess < jak:\n",
    "        print(\"Wrong guess. guess higher\")\n",
    "    else:\n",
    "        print(\"Wrong guess. guess lower\")\n",
    "    guess = int(input(\"Guess a number: \"))\n",
    "    count += 1\n",
    "else:\n",
    "    print(\"Correct guess!\")"
   ]
  },
  {
   "cell_type": "code",
   "execution_count": 39,
   "id": "4e4f496c",
   "metadata": {},
   "outputs": [
    {
     "ename": "IndentationError",
     "evalue": "unexpected indent (3753114787.py, line 13)",
     "output_type": "error",
     "traceback": [
      "\u001b[1;36m  Cell \u001b[1;32mIn[39], line 13\u001b[1;36m\u001b[0m\n\u001b[1;33m    count += 1\u001b[0m\n\u001b[1;37m    ^\u001b[0m\n\u001b[1;31mIndentationError\u001b[0m\u001b[1;31m:\u001b[0m unexpected indent\n"
     ]
    }
   ],
   "source": [
    "# Gussing Game:\n",
    "# Generate a random interger between 1 and 100\n",
    "import random\n",
    "jak = random.randint(1,100)\n",
    "guess = int(input(\"Guess a number: \"))\n",
    "count = 1\n",
    "while guess != jak:\n",
    "    if guess < jak:\n",
    "        print(\"Wrong guess. guess higher\")\n",
    "    else:\n",
    "        print(\"Wrong guess. guess lower\")\n",
    "guess = int(input(\"Guess a number: \"))\n",
    "    count += 1\n",
    "else:\n",
    "    print(\"Correct guess!\")"
   ]
  },
  {
   "cell_type": "code",
   "execution_count": 40,
   "id": "9ac034d7",
   "metadata": {},
   "outputs": [
    {
     "name": "stdout",
     "output_type": "stream",
     "text": [
      "1\n",
      "2\n",
      "3\n",
      "4\n",
      "5\n",
      "6\n",
      "7\n",
      "8\n",
      "9\n",
      "10\n"
     ]
    }
   ],
   "source": [
    "# for loop\n",
    "for i in range(1,11):\n",
    "    print(i)"
   ]
  },
  {
   "cell_type": "code",
   "execution_count": 41,
   "id": "7fc9afb3",
   "metadata": {},
   "outputs": [
    {
     "name": "stdout",
     "output_type": "stream",
     "text": [
      "1\n",
      "3\n",
      "5\n",
      "7\n",
      "9\n"
     ]
    }
   ],
   "source": [
    "for i in range(1,11,2):\n",
    "    print(i)"
   ]
  },
  {
   "cell_type": "code",
   "execution_count": 42,
   "id": "3417b9dd",
   "metadata": {},
   "outputs": [
    {
     "name": "stdout",
     "output_type": "stream",
     "text": [
      "10\n",
      "9\n",
      "8\n",
      "7\n",
      "6\n",
      "5\n",
      "4\n",
      "3\n",
      "2\n",
      "1\n"
     ]
    }
   ],
   "source": [
    "for i in range(10,0,-1):\n",
    "    print(i)"
   ]
  },
  {
   "cell_type": "code",
   "execution_count": 43,
   "id": "e44c69d0",
   "metadata": {},
   "outputs": [
    {
     "name": "stdout",
     "output_type": "stream",
     "text": [
      "D\n",
      "h\n",
      "a\n",
      "k\n",
      "a\n"
     ]
    }
   ],
   "source": [
    "for i in \"Dhaka\":\n",
    "    print(i)"
   ]
  },
  {
   "cell_type": "code",
   "execution_count": 46,
   "id": "e5f5fd8e",
   "metadata": {},
   "outputs": [
    {
     "name": "stdout",
     "output_type": "stream",
     "text": [
      "10\n",
      "23\n",
      "45\n",
      "6\n",
      "7\n"
     ]
    }
   ],
   "source": [
    "for i in [10,23,45,6,7]:\n",
    "    print(i)"
   ]
  },
  {
   "cell_type": "markdown",
   "id": "b50743a0",
   "metadata": {},
   "source": [
    "### the corrent population of a town is 10000. The population of the town is increasing at the rate of 10% per year . You have to write a program to find out the population at the end of each of the last 10 years"
   ]
  },
  {
   "cell_type": "code",
   "execution_count": 48,
   "id": "8ca6c188",
   "metadata": {},
   "outputs": [
    {
     "name": "stdout",
     "output_type": "stream",
     "text": [
      "10 10000\n",
      "9 9090.90909090909\n",
      "8 8264.462809917353\n",
      "7 7513.148009015775\n",
      "6 6830.134553650703\n",
      "5 6209.213230591548\n",
      "4 5644.739300537771\n",
      "3 5131.5811823070635\n",
      "2 4665.07380209733\n",
      "1 4240.976183724845\n"
     ]
    }
   ],
   "source": [
    "currpeople = 10000\n",
    "for i in range(10,0,-1):\n",
    "    print(i, currpeople)\n",
    "    currpeople = currpeople/(1.1)"
   ]
  },
  {
   "cell_type": "code",
   "execution_count": 50,
   "id": "f08da762",
   "metadata": {},
   "outputs": [
    {
     "name": "stdout",
     "output_type": "stream",
     "text": [
      "5\n",
      "2.708333333333333\n"
     ]
    }
   ],
   "source": [
    "# sequence sum: nth term\n",
    "n = int(input())\n",
    "result = 0\n",
    "fact = 1\n",
    "for i in range(1, n+1):\n",
    "    fact = fact * i\n",
    "    result = result + i/fact\n",
    "print(result)"
   ]
  },
  {
   "cell_type": "code",
   "execution_count": 51,
   "id": "8cac7afe",
   "metadata": {},
   "outputs": [
    {
     "name": "stdout",
     "output_type": "stream",
     "text": [
      "1 1\n",
      "1 2\n",
      "1 3\n",
      "1 4\n",
      "2 1\n",
      "2 2\n",
      "2 3\n",
      "2 4\n",
      "3 1\n",
      "3 2\n",
      "3 3\n",
      "3 4\n",
      "4 1\n",
      "4 2\n",
      "4 3\n",
      "4 4\n"
     ]
    }
   ],
   "source": [
    "# nested loops\n",
    "# uniques pair\n",
    "for i in range(1,5):\n",
    "    for j in range(1,5):\n",
    "        print(i,j)"
   ]
  },
  {
   "cell_type": "code",
   "execution_count": 54,
   "id": "2269721f",
   "metadata": {},
   "outputs": [
    {
     "name": "stdout",
     "output_type": "stream",
     "text": [
      "8\n",
      "1\n",
      "12\n",
      "123\n",
      "1234\n",
      "12345\n",
      "123456\n",
      "1234567\n",
      "12345678\n"
     ]
    }
   ],
   "source": [
    "# pattern - 1\n",
    "# for row i then for star j\n",
    "rows = int(input())\n",
    "for i in range(1, rows + 1):\n",
    "    for j in range(1,i+1):\n",
    "        print(j, end=\"\")\n",
    "    print()"
   ]
  },
  {
   "cell_type": "code",
   "execution_count": 55,
   "id": "b6cadadf",
   "metadata": {},
   "outputs": [
    {
     "name": "stdout",
     "output_type": "stream",
     "text": [
      "8\n",
      "$\n",
      "$$\n",
      "$$$\n",
      "$$$$\n",
      "$$$$$\n",
      "$$$$$$\n",
      "$$$$$$$\n",
      "$$$$$$$$\n"
     ]
    }
   ],
   "source": [
    "# pattern - 1\n",
    "# for row i then for star j\n",
    "rows = int(input())\n",
    "for i in range(1, rows + 1):\n",
    "    for j in range(1,i+1):\n",
    "        print(\"$\", end=\"\")\n",
    "    print()"
   ]
  },
  {
   "cell_type": "code",
   "execution_count": 58,
   "id": "986d1208",
   "metadata": {},
   "outputs": [
    {
     "name": "stdout",
     "output_type": "stream",
     "text": [
      "5\n",
      "121\n",
      "12321\n",
      "1234321\n",
      "123454321\n",
      "12345654321\n"
     ]
    }
   ],
   "source": [
    "rows = int(input())\n",
    "for i in range(1, rows + 1):\n",
    "    for j in range(1,i+1):\n",
    "        print(j, end=\"\")\n",
    "    for k in range(i + 1, 0,-1):\n",
    "        print(k, end=\"\")\n",
    "    print()"
   ]
  },
  {
   "cell_type": "code",
   "execution_count": null,
   "id": "c0b498e5",
   "metadata": {},
   "outputs": [],
   "source": []
  }
 ],
 "metadata": {
  "kernelspec": {
   "display_name": "Python 3 (ipykernel)",
   "language": "python",
   "name": "python3"
  },
  "language_info": {
   "codemirror_mode": {
    "name": "ipython",
    "version": 3
   },
   "file_extension": ".py",
   "mimetype": "text/x-python",
   "name": "python",
   "nbconvert_exporter": "python",
   "pygments_lexer": "ipython3",
   "version": "3.11.5"
  }
 },
 "nbformat": 4,
 "nbformat_minor": 5
}
