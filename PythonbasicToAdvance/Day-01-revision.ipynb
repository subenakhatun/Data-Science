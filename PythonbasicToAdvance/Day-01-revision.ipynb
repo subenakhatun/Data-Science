{
 "cells": [
  {
   "cell_type": "markdown",
   "metadata": {},
   "source": [
    "## Today covered Topics:\n",
    "#### Python Basics \n",
    "● Python Output/print function <br> \n",
    "● Python Data Types  <br>\n",
    "● Python Variables <br>\n",
    "● Python comments <br>\n",
    "● Python Keywords and Identifiers <br>\n",
    "● Python User Input <br>\n",
    "● Python Type conversion  <br>\n",
    "● Python Literals <br>\n",
    "● Examples\n",
    "####  Python Operators + if-else + Loops \n",
    "● Python Operators <br>\n",
    "● Python if-else <br>\n",
    "● Python Modules <br>\n",
    "● Python While Loop  <br>\n",
    "● Python for loop <br>\n",
    "● Examples\n",
    "#### Python Strings \n",
    "● Solving Loop problems  <br>\n",
    "● Break, continue, pass statement in loops <br> \n",
    "● Strings <br>\n",
    "● String indexing <br>\n",
    "● String slicing  <br>\n",
    "● Edit and delete a string  <br>\n",
    "● Operations on String <br>\n",
    "● Common String functions <br>\n",
    "● Examples\n",
    "#### Time complexity \n",
    "● PPT presentation on Time Complexity (Efficiency in Programming and <br>\n",
    "Orders of Growth) <br>\n",
    "● Examples"
   ]
  },
  {
   "cell_type": "markdown",
   "metadata": {},
   "source": [
    "## Today covered Topics:\n",
    "#### Python Basics \n",
    "● Python Output/print function <br> \n",
    "● Python Data Types  <br>\n",
    "● Python Variables <br>\n",
    "● Python comments <br>\n",
    "● Python Keywords and Identifiers <br>\n",
    "● Python User Input <br>\n",
    "● Python Type conversion  <br>\n",
    "● Python Literals <br>"
   ]
  },
  {
   "cell_type": "markdown",
   "metadata": {},
   "source": [
    "##### Python Output/print function <br> \n",
    "The print() function prints the specified message to the screen, or other standard output device.The message can be a string, or any other object, the object will be converted into a string before written to the screen."
   ]
  },
  {
   "cell_type": "code",
   "execution_count": 2,
   "metadata": {},
   "outputs": [
    {
     "name": "stdout",
     "output_type": "stream",
     "text": [
      "Start again python for revision\n"
     ]
    }
   ],
   "source": [
    "# print any sentenc\n",
    "print('Start again python for revision')"
   ]
  },
  {
   "cell_type": "code",
   "execution_count": 3,
   "metadata": {},
   "outputs": [
    {
     "name": "stdout",
     "output_type": "stream",
     "text": [
      "100\n"
     ]
    }
   ],
   "source": [
    "# print number\n",
    "print(100)"
   ]
  },
  {
   "cell_type": "code",
   "execution_count": 4,
   "metadata": {},
   "outputs": [
    {
     "name": "stdout",
     "output_type": "stream",
     "text": [
      "Subena 10 89.62 {'Name': 'Subena'} [2, 3, 4, 5] (56, 78)\n"
     ]
    }
   ],
   "source": [
    "# print any data types \n",
    "print('Subena',10,89.62,{'Name': 'Subena'},[2,3,4,5],(56,78))"
   ]
  },
  {
   "cell_type": "markdown",
   "metadata": {},
   "source": [
    "#####  Data Types\n",
    "Text Type:      str<br>\n",
    "Numeric Types:  int, float, complex<br>\n",
    "Sequence Types: list, tuple, range<br>\n",
    "Mapping Type:   dict<br>\n",
    "Set Types:      set, frozenset<br>\n",
    "Boolean Type:   bool<br>\n",
    "Binary Types:   bytes, bytearray, memoryview<br>\n",
    "None Type:      NoneType"
   ]
  },
  {
   "cell_type": "code",
   "execution_count": null,
   "metadata": {},
   "outputs": [],
   "source": []
  }
 ],
 "metadata": {
  "kernelspec": {
   "display_name": "Python 3",
   "language": "python",
   "name": "python3"
  },
  "language_info": {
   "codemirror_mode": {
    "name": "ipython",
    "version": 3
   },
   "file_extension": ".py",
   "mimetype": "text/x-python",
   "name": "python",
   "nbconvert_exporter": "python",
   "pygments_lexer": "ipython3",
   "version": "3.12.1"
  }
 },
 "nbformat": 4,
 "nbformat_minor": 2
}
