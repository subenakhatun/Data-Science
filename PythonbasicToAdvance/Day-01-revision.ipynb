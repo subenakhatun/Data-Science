{
 "cells": [
  {
   "cell_type": "markdown",
   "metadata": {},
   "source": [
    "## Today covered Topics:\n",
    "#### Python Basics \n",
    "● Python Output/print function <br> \n",
    "● Python Data Types  <br>\n",
    "● Python Variables <br>\n",
    "● Python comments <br>\n",
    "● Python Keywords and Identifiers <br>\n",
    "● Python User Input <br>\n",
    "● Python Type conversion  <br>\n",
    "● Python Literals <br>\n",
    "● Examples\n",
    "####  Python Operators + if-else + Loops \n",
    "● Python Operators <br>\n",
    "● Python if-else <br>\n",
    "● Python Modules <br>\n",
    "● Python While Loop  <br>\n",
    "● Python for loop <br>\n",
    "● Examples\n",
    "#### Python Strings \n",
    "● Solving Loop problems  <br>\n",
    "● Break, continue, pass statement in loops <br> \n",
    "● Strings <br>\n",
    "● String indexing <br>\n",
    "● String slicing  <br>\n",
    "● Edit and delete a string  <br>\n",
    "● Operations on String <br>\n",
    "● Common String functions <br>\n",
    "● Examples\n",
    "#### Time complexity \n",
    "● PPT presentation on Time Complexity (Efficiency in Programming and <br>\n",
    "Orders of Growth) <br>\n",
    "● Examples"
   ]
  },
  {
   "cell_type": "code",
   "execution_count": null,
   "metadata": {
    "vscode": {
     "languageId": "plaintext"
    }
   },
   "outputs": [],
   "source": []
  }
 ],
 "metadata": {
  "language_info": {
   "name": "python"
  }
 },
 "nbformat": 4,
 "nbformat_minor": 2
}
