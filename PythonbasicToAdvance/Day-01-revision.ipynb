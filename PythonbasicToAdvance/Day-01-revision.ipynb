{
 "cells": [
  {
   "cell_type": "markdown",
   "metadata": {},
   "source": [
    "## Today covered Topics:\n",
    "#### Python Basics \n",
    "● Python Output/print function  \n",
    "● Python Data Types  \n",
    "● Python Variables \n",
    "● Python comments \n",
    "● Python Keywords and Identifiers \n",
    "● Python User Input \n",
    "● Python Type conversion  \n",
    "● Python Literals \n",
    "####  Python Operators + if-else + Loops \n",
    "● Python Operators \n",
    "● Python if-else \n",
    "● Python Modules \n",
    "● Python While Loop  \n",
    "● Python for loop\n",
    "#### Python Strings \n",
    "● Solving Loop problems  \n",
    "● Break, continue, pass statement in loops  \n",
    "● Strings \n",
    "● String indexing \n",
    "● String slicing  \n",
    "● Edit and delete a string  \n",
    "● Operations on String \n",
    "● Common String functions\n",
    "#### Time complexity \n",
    "● PPT presentation on Time Complexity (Efficiency in Programming and \n",
    "Orders of Growth) \n",
    "● Examples"
   ]
  },
  {
   "cell_type": "code",
   "execution_count": null,
   "metadata": {
    "vscode": {
     "languageId": "plaintext"
    }
   },
   "outputs": [],
   "source": []
  }
 ],
 "metadata": {
  "language_info": {
   "name": "python"
  }
 },
 "nbformat": 4,
 "nbformat_minor": 2
}
