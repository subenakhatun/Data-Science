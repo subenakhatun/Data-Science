{
 "cells": [
  {
   "cell_type": "markdown",
   "id": "14ee76ee",
   "metadata": {},
   "source": [
    "## HOME Work - 05\n",
    "Name: Subena Khatun <br>\n",
    "ID: 20241373<br>\n",
    "Batch: 13 <br>\n",
    "Section: B"
   ]
  },
  {
   "cell_type": "code",
   "execution_count": 1,
   "id": "c4ed31fc",
   "metadata": {},
   "outputs": [],
   "source": [
    "# import modules\n",
    "import numpy as np"
   ]
  },
  {
   "cell_type": "markdown",
   "id": "9ac7c551",
   "metadata": {},
   "source": [
    "### 1. Compute the sum, mean and standard deviation of a 2D array created from np.random.randn(4,4)"
   ]
  },
  {
   "cell_type": "code",
   "execution_count": 2,
   "id": "ab305b66",
   "metadata": {},
   "outputs": [
    {
     "data": {
      "text/plain": [
       "array([[-1.59555479, -0.60967465,  1.31754293,  0.78863095],\n",
       "       [-0.44259269,  2.01830616, -2.52839107,  0.93400929],\n",
       "       [-1.50940561, -1.45855196, -1.37796747,  0.75105204],\n",
       "       [ 1.0468288 ,  1.04408469, -2.14906233, -0.07297589]])"
      ]
     },
     "execution_count": 2,
     "metadata": {},
     "output_type": "execute_result"
    }
   ],
   "source": [
    "array = np.random.randn(4,4)\n",
    "array"
   ]
  },
  {
   "cell_type": "code",
   "execution_count": 3,
   "id": "fa66cc53",
   "metadata": {},
   "outputs": [
    {
     "name": "stdout",
     "output_type": "stream",
     "text": [
      "Sum of Array= -3.8437215965473253, \n",
      "Mean = -0.24023259978420783 \n",
      "Standard Deviation = 1.3593395085563065\n"
     ]
    }
   ],
   "source": [
    "# sum , mean and Standard Deviation\n",
    "sum = np.sum(array)\n",
    "mean = np.mean(array)\n",
    "stdev = np.std(array)\n",
    "print(f\"Sum of Array= {sum}, \\nMean = {mean} \\nStandard Deviation = {stdev}\")"
   ]
  },
  {
   "cell_type": "markdown",
   "id": "7e585eea",
   "metadata": {},
   "source": [
    "### 2. Compute the system of linear equations\n",
    "3x + 2y = 5 <br>\n",
    "x - y = 1"
   ]
  },
  {
   "cell_type": "code",
   "execution_count": 4,
   "id": "a0611c1d",
   "metadata": {},
   "outputs": [
    {
     "data": {
      "text/plain": [
       "array([1.4, 0.4])"
      ]
     },
     "execution_count": 4,
     "metadata": {},
     "output_type": "execute_result"
    }
   ],
   "source": [
    "A = np.array([[3,2],[1,-1]])\n",
    "b = np.array([5,1])\n",
    "x = np.linalg.solve(A,b)\n",
    "x"
   ]
  },
  {
   "cell_type": "markdown",
   "id": "729f8010",
   "metadata": {},
   "source": [
    "### 3. Compute the inverse of the matrix"
   ]
  },
  {
   "cell_type": "code",
   "execution_count": 5,
   "id": "5b5fe1ba",
   "metadata": {},
   "outputs": [
    {
     "data": {
      "text/plain": [
       "array([[ 0.  ,  0.5 ],\n",
       "       [ 0.5 , -0.25]])"
      ]
     },
     "execution_count": 5,
     "metadata": {},
     "output_type": "execute_result"
    }
   ],
   "source": [
    "inversematirx = np.array([[1,2],[2,0]])\n",
    "np.linalg.inv(inversematirx)"
   ]
  },
  {
   "cell_type": "markdown",
   "id": "76b6c765",
   "metadata": {},
   "source": [
    "### 4. Find the eigenvalues and eignevectors of the matix"
   ]
  },
  {
   "cell_type": "code",
   "execution_count": 6,
   "id": "a304075d",
   "metadata": {},
   "outputs": [
    {
     "data": {
      "text/plain": [
       "(array([2., 3.]),\n",
       " array([[1., 0.],\n",
       "        [0., 1.]]))"
      ]
     },
     "execution_count": 6,
     "metadata": {},
     "output_type": "execute_result"
    }
   ],
   "source": [
    "eigenvalue = np.array([[2,0],[0,3]])\n",
    "np.linalg.eig(eigenvalue)"
   ]
  },
  {
   "cell_type": "markdown",
   "id": "4d5ab09c",
   "metadata": {},
   "source": [
    "### 5 Generate an array of 10 random integers between 1 and 100"
   ]
  },
  {
   "cell_type": "code",
   "execution_count": 7,
   "id": "b62e9f69",
   "metadata": {},
   "outputs": [
    {
     "data": {
      "text/plain": [
       "array([ 1, 11, 21, 31, 41, 51, 61, 71, 81, 91])"
      ]
     },
     "execution_count": 7,
     "metadata": {},
     "output_type": "execute_result"
    }
   ],
   "source": [
    "randomarray = np.arange(1,100,10)\n",
    "randomarray"
   ]
  },
  {
   "cell_type": "markdown",
   "id": "ddd58c5e",
   "metadata": {},
   "source": [
    "## Cretae an array of a random numbers from a normal distribution with mean 0 and standard deviation 1."
   ]
  },
  {
   "cell_type": "code",
   "execution_count": 8,
   "id": "ad359bc2",
   "metadata": {},
   "outputs": [
    {
     "data": {
      "text/plain": [
       "array([[-0.25004636, -1.55205476,  1.44028341,  0.26481798,  0.52119059],\n",
       "       [-1.08401161,  1.9824058 , -0.25386641,  1.97411981, -0.57401618],\n",
       "       [-0.44887596, -0.13211933, -1.3843906 , -0.45276016, -1.75552622],\n",
       "       [-0.69206658, -0.2329867 , -0.38945949, -0.3428635 ,  0.52099035],\n",
       "       [-1.43271501, -0.84850137, -1.04632046,  1.13054496,  0.85706693]])"
      ]
     },
     "execution_count": 8,
     "metadata": {},
     "output_type": "execute_result"
    }
   ],
   "source": [
    "mean = 0 \n",
    "std = 1 \n",
    "randomNum = np.random.normal(loc=mean, scale=std, size=(5, 5))\n",
    "randomNum"
   ]
  },
  {
   "cell_type": "code",
   "execution_count": null,
   "id": "87bb1efd",
   "metadata": {},
   "outputs": [],
   "source": []
  },
  {
   "cell_type": "code",
   "execution_count": null,
   "id": "cea28904",
   "metadata": {},
   "outputs": [],
   "source": []
  }
 ],
 "metadata": {
  "kernelspec": {
   "display_name": "Python 3 (ipykernel)",
   "language": "python",
   "name": "python3"
  },
  "language_info": {
   "codemirror_mode": {
    "name": "ipython",
    "version": 3
   },
   "file_extension": ".py",
   "mimetype": "text/x-python",
   "name": "python",
   "nbconvert_exporter": "python",
   "pygments_lexer": "ipython3",
   "version": "3.11.5"
  }
 },
 "nbformat": 4,
 "nbformat_minor": 5
}
